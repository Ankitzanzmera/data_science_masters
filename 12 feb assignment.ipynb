{
 "cells": [
  {
   "cell_type": "markdown",
   "id": "0b101824",
   "metadata": {},
   "source": [
    "#### Q1. What is an exception in python ? write difference between exception and system error. "
   ]
  },
  {
   "cell_type": "markdown",
   "id": "8005c6bc",
   "metadata": {},
   "source": [
    "An exception in Python is an incident that happens while executing a program that causes the regular course of the program's commands to be disrupted. When a Python code comes across a condition it can't handle, it raises an exception. An object in Python that describes an error is called an exception."
   ]
  },
  {
   "cell_type": "markdown",
   "id": "8f33487d",
   "metadata": {},
   "source": [
    "An Error might indicate critical problems that a reasonable application should not try to catch, while an Exception might indicate conditions that an application should try to catch. Errors are a form of an unchecked exception and are irrecoverable like an OutOfMemoryError , which a programmer should not try to handle."
   ]
  },
  {
   "cell_type": "markdown",
   "id": "04b8fd37",
   "metadata": {},
   "source": [
    "#### Q2. What happens when exception is not handled ? explain with example"
   ]
  },
  {
   "cell_type": "markdown",
   "id": "a760c2ea",
   "metadata": {},
   "source": [
    "When an exception occurred, if you don’t handle it, the program terminates abruptly and the code past the line that caused the exception will not get executed."
   ]
  },
  {
   "cell_type": "code",
   "execution_count": 15,
   "id": "af8537ec",
   "metadata": {},
   "outputs": [
    {
     "name": "stdout",
     "output_type": "stream",
     "text": [
      "PW SKILLS\n"
     ]
    },
    {
     "ename": "NameError",
     "evalue": "name 'j' is not defined",
     "output_type": "error",
     "traceback": [
      "\u001b[1;31m---------------------------------------------------------------------------\u001b[0m",
      "\u001b[1;31mZeroDivisionError\u001b[0m                         Traceback (most recent call last)",
      "\u001b[1;32m~\\AppData\\Local\\Temp\\ipykernel_11780\\2551629968.py\u001b[0m in \u001b[0;36m<module>\u001b[1;34m\u001b[0m\n\u001b[0;32m      2\u001b[0m     \u001b[0mprint\u001b[0m\u001b[1;33m(\u001b[0m\u001b[1;34m'PW SKILLS'\u001b[0m\u001b[1;33m)\u001b[0m\u001b[1;33m\u001b[0m\u001b[1;33m\u001b[0m\u001b[0m\n\u001b[1;32m----> 3\u001b[1;33m     \u001b[0mprint\u001b[0m\u001b[1;33m(\u001b[0m\u001b[1;36m15\u001b[0m\u001b[1;33m/\u001b[0m\u001b[1;36m0\u001b[0m\u001b[1;33m)\u001b[0m\u001b[1;33m\u001b[0m\u001b[1;33m\u001b[0m\u001b[0m\n\u001b[0m\u001b[0;32m      4\u001b[0m \u001b[1;32mexcept\u001b[0m\u001b[1;33m:\u001b[0m\u001b[1;33m\u001b[0m\u001b[1;33m\u001b[0m\u001b[0m\n",
      "\u001b[1;31mZeroDivisionError\u001b[0m: division by zero",
      "\nDuring handling of the above exception, another exception occurred:\n",
      "\u001b[1;31mNameError\u001b[0m                                 Traceback (most recent call last)",
      "\u001b[1;32m~\\AppData\\Local\\Temp\\ipykernel_11780\\2551629968.py\u001b[0m in \u001b[0;36m<module>\u001b[1;34m\u001b[0m\n\u001b[0;32m      3\u001b[0m     \u001b[0mprint\u001b[0m\u001b[1;33m(\u001b[0m\u001b[1;36m15\u001b[0m\u001b[1;33m/\u001b[0m\u001b[1;36m0\u001b[0m\u001b[1;33m)\u001b[0m\u001b[1;33m\u001b[0m\u001b[1;33m\u001b[0m\u001b[0m\n\u001b[0;32m      4\u001b[0m \u001b[1;32mexcept\u001b[0m\u001b[1;33m:\u001b[0m\u001b[1;33m\u001b[0m\u001b[1;33m\u001b[0m\u001b[0m\n\u001b[1;32m----> 5\u001b[1;33m     \u001b[0mj\u001b[0m\u001b[1;33m\u001b[0m\u001b[1;33m\u001b[0m\u001b[0m\n\u001b[0m",
      "\u001b[1;31mNameError\u001b[0m: name 'j' is not defined"
     ]
    }
   ],
   "source": [
    "try:\n",
    "    print('PW SKILLS')\n",
    "    print(15/0)\n",
    "except:\n",
    "    j"
   ]
  },
  {
   "cell_type": "markdown",
   "id": "f7ca1377",
   "metadata": {},
   "source": [
    "#### Q3. Which python statement are used to catch and handle exceptions? write with an example. "
   ]
  },
  {
   "cell_type": "markdown",
   "id": "3e869993",
   "metadata": {},
   "source": [
    "try and except statement are used to handle exceptions."
   ]
  },
  {
   "cell_type": "code",
   "execution_count": 5,
   "id": "f696d6be",
   "metadata": {},
   "outputs": [
    {
     "name": "stdout",
     "output_type": "stream",
     "text": [
      "Can not divide by zero, division by zero\n"
     ]
    }
   ],
   "source": [
    "try:\n",
    "    print(18/0)\n",
    "except Exception as e:\n",
    "    print('Can not divide by zero,',e)"
   ]
  },
  {
   "cell_type": "markdown",
   "id": "35dde94f",
   "metadata": {},
   "source": [
    "#### Q5. What are custom exception in python? why do we need custom exceptions ? explain with an example."
   ]
  },
  {
   "cell_type": "markdown",
   "id": "c9a1f2d8",
   "metadata": {},
   "source": [
    "Built-in exceptions offer information about Python-related problems, and custom exceptions will add information about project-related problems. That way, you can design your code (and traceback, if an exception is raised) in a way that combines Python code with the language of the project."
   ]
  },
  {
   "cell_type": "code",
   "execution_count": 10,
   "id": "14c2bd7f",
   "metadata": {},
   "outputs": [
    {
     "name": "stdout",
     "output_type": "stream",
     "text": [
      "Enter a Number between 1 to 100 101\n",
      "Greater than 100\n"
     ]
    }
   ],
   "source": [
    "try:\n",
    "    num = int(input('Enter a Number between 1 to 100 '))\n",
    "    if num > 100:\n",
    "        raise Exception('Greater than 100')\n",
    "    elif num < 1:\n",
    "        raise Exception('More than 100')\n",
    "except Exception as e:\n",
    "    print(e)"
   ]
  },
  {
   "cell_type": "markdown",
   "id": "a9e0240b",
   "metadata": {},
   "source": [
    "#### Q6. Create a exception class and use this class  to handle an exception. "
   ]
  },
  {
   "cell_type": "code",
   "execution_count": 8,
   "id": "906928e1",
   "metadata": {},
   "outputs": [
    {
     "name": "stdout",
     "output_type": "stream",
     "text": [
      "Enter your Age::- -1\n",
      "Less than zero\n"
     ]
    }
   ],
   "source": [
    "class age_validate(Exception):\n",
    "    def __init__(self,msg):\n",
    "        self.msg = msg\n",
    "        \n",
    "def validate_age(age):\n",
    "    if age < 0:\n",
    "        raise age_validate('Less than zero')\n",
    "    elif age > 100:\n",
    "        raise age_validate('More the 100')\n",
    "try:\n",
    "    age = int(input('Enter your Age::- '))\n",
    "    validate_age(age)\n",
    "except age_validate as e:\n",
    "    print(e)\n",
    "    "
   ]
  },
  {
   "cell_type": "code",
   "execution_count": null,
   "id": "2af7d693",
   "metadata": {},
   "outputs": [],
   "source": []
  },
  {
   "cell_type": "code",
   "execution_count": null,
   "id": "d044fc50",
   "metadata": {},
   "outputs": [],
   "source": []
  }
 ],
 "metadata": {
  "kernelspec": {
   "display_name": "Python 3 (ipykernel)",
   "language": "python",
   "name": "python3"
  },
  "language_info": {
   "codemirror_mode": {
    "name": "ipython",
    "version": 3
   },
   "file_extension": ".py",
   "mimetype": "text/x-python",
   "name": "python",
   "nbconvert_exporter": "python",
   "pygments_lexer": "ipython3",
   "version": "3.9.13"
  }
 },
 "nbformat": 4,
 "nbformat_minor": 5
}
