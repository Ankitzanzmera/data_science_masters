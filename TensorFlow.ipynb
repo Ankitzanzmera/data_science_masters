{
  "nbformat": 4,
  "nbformat_minor": 0,
  "metadata": {
    "colab": {
      "provenance": []
    },
    "kernelspec": {
      "name": "python3",
      "display_name": "Python 3"
    },
    "language_info": {
      "name": "python"
    }
  },
  "cells": [
    {
      "cell_type": "markdown",
      "source": [
        "##Objective: The objective of this assignment is to gain practical experience with fundamental operations in TensorFlow, including creating and manipulating matrices, performing arithmetic operations on tensors, and understanding the difference between TensorFlow constants and variables.\n",
        "\n",
        "#Part 1: Theoretical Questions\n",
        "\n",
        "##1. What are the different data structures used in Tensorflow?. Give some examples.\n",
        "\n",
        "##Ans:---\n",
        "\n",
        "###TensorFlow, a popular deep learning framework, provides several data structures for representing and manipulating data. The main data structures used in TensorFlow are:\n",
        "\n",
        "* Tensor: A tensor is a fundamental data structure in TensorFlow. It is a multi-dimensional array or n-dimensional matrix that represents data. Tensors can be scalars (0-dimensional), vectors (1-dimensional), matrices (2-dimensional), or higher-dimensional arrays. For example, a grayscale image can be represented as a 2D tensor, while a colored image can be represented as a 3D tensor.\n",
        "\n",
        "* Constant: A constant is a specific type of tensor in TensorFlow that holds a fixed value throughout the execution of a program. The value of a constant cannot be changed once it is defined. Constants are commonly used to store hyperparameters or fixed data.\n",
        "\n",
        "For example:"
      ],
      "metadata": {
        "id": "1HsjRTTnQmju"
      }
    },
    {
      "cell_type": "code",
      "execution_count": 4,
      "metadata": {
        "colab": {
          "base_uri": "https://localhost:8080/"
        },
        "id": "z3TYRlWFQHf-",
        "outputId": "c9328ea1-0690-453b-d6ba-517e5c56563a"
      },
      "outputs": [
        {
          "output_type": "execute_result",
          "data": {
            "text/plain": [
              "<tf.Tensor: shape=(3,), dtype=int32, numpy=array([1, 2, 3], dtype=int32)>"
            ]
          },
          "metadata": {},
          "execution_count": 4
        }
      ],
      "source": [
        "import tensorflow as tf\n",
        "\n",
        "# Creating a constant tensor\n",
        "x = tf.constant([1, 2, 3])\n",
        "x\n"
      ]
    },
    {
      "cell_type": "markdown",
      "source": [
        "##Variable: A variable is another type of tensor in TensorFlow that allows the value to be modified during the execution of a program. Variables are used to represent the trainable parameters of a model, such as weights and biases. For example:"
      ],
      "metadata": {
        "id": "GuDMl5nfQ7oL"
      }
    },
    {
      "cell_type": "code",
      "source": [
        "import tensorflow as tf\n",
        "\n",
        "# Creating a variable tensor\n",
        "w = tf.Variable([0.5, 1.0])\n",
        "w\n"
      ],
      "metadata": {
        "colab": {
          "base_uri": "https://localhost:8080/"
        },
        "id": "sQi9jjvCQ4iB",
        "outputId": "5ae86800-706f-4b5c-ccba-d92686223a0f"
      },
      "execution_count": 3,
      "outputs": [
        {
          "output_type": "execute_result",
          "data": {
            "text/plain": [
              "<tf.Variable 'Variable:0' shape=(2,) dtype=float32, numpy=array([0.5, 1. ], dtype=float32)>"
            ]
          },
          "metadata": {},
          "execution_count": 3
        }
      ]
    },
    {
      "cell_type": "markdown",
      "source": [
        "* Placeholder: In earlier versions of TensorFlow, placeholders were used to feed data into the computation graph during training. However, in TensorFlow 2.x, placeholders have been replaced by the tf.data API and the tf.function decorator. Placeholders are no longer required for most use cases and have been deprecated.\n",
        "\n",
        "* SparseTensor: A sparse tensor is used to efficiently represent tensors with a large number of zero or empty values. It stores only the non-zero elements along with their indices, which helps in reducing memory usage and computational complexity for sparse data.\n",
        "\n",
        "###These data structures are the building blocks of TensorFlow and are essential for creating and manipulating tensors in TensorFlow programs."
      ],
      "metadata": {
        "id": "7vko3PQDRDTZ"
      }
    },
    {
      "cell_type": "markdown",
      "source": [
        "##2. How does the TensorFlow constant differ from a TensorFlow variable? Explain with an example\n",
        "\n",
        "##Ans:--\n",
        "\n",
        "###In TensorFlow, constants and variables are both types of tensors, but they differ in terms of their properties and usage. Here's a comparison between TensorFlow constants and variables:\n",
        "\n",
        "#TensorFlow Constant:\n",
        "\n",
        "* A constant in TensorFlow holds a fixed value throughout the execution of a program.\n",
        "\n",
        "* The value of a constant cannot be changed once it is defined.\n",
        "\n",
        "* Constants are typically used for storing hyperparameters or fixed data that does not need to be modified during training.\n",
        "\n",
        "* Constants are immutable and do not support gradient computations for backpropagation.\n",
        "\n",
        "* Constants can be created using the tf.constant() function.\n",
        "\n",
        "\n",
        "##Example:"
      ],
      "metadata": {
        "id": "OKEMs-alRXTA"
      }
    },
    {
      "cell_type": "code",
      "source": [
        "import tensorflow as tf\n",
        "\n",
        "# Creating a constant tensor\n",
        "x = tf.constant([1, 2, 3])\n"
      ],
      "metadata": {
        "id": "gTZSBQmUQ_pq"
      },
      "execution_count": 5,
      "outputs": []
    },
    {
      "cell_type": "markdown",
      "source": [
        "#TensorFlow Variable:\n",
        "\n",
        "* A variable in TensorFlow represents a tensor whose value can be modified during the execution of a program.\n",
        "\n",
        "* Variables are commonly used to store the trainable parameters of a model, such as weights and biases.\n",
        "\n",
        "* Variables are mutable and their values can be updated during training using optimization algorithms.\n",
        "\n",
        "* Variables support gradient computations for backpropagation, allowing automatic differentiation and model optimization.\n",
        "\n",
        "* Variables can be created using the tf.Variable() function.\n",
        "\n",
        "##Example:"
      ],
      "metadata": {
        "id": "A0c_CisgRs7R"
      }
    },
    {
      "cell_type": "code",
      "source": [
        "import tensorflow as tf\n",
        "\n",
        "# Creating a variable tensor\n",
        "w = tf.Variable([0.5, 1.0,8.7])\n"
      ],
      "metadata": {
        "id": "9RX0UTX1Rp7Y"
      },
      "execution_count": 9,
      "outputs": []
    },
    {
      "cell_type": "code",
      "source": [
        "\n",
        "# Printing the values of the constant and variable tensors\n",
        "print(\"Constant tensor x:\", x.numpy())\n",
        "print(\"Variable tensor w:\", w.numpy())\n"
      ],
      "metadata": {
        "colab": {
          "base_uri": "https://localhost:8080/"
        },
        "id": "GoyDivGGR4Nh",
        "outputId": "6523610c-c48f-4895-bfa7-fb8e39fe9b0c"
      },
      "execution_count": 10,
      "outputs": [
        {
          "output_type": "stream",
          "name": "stdout",
          "text": [
            "Constant tensor x: [1 2 3]\n",
            "Variable tensor w: [0.5 1.  8.7]\n"
          ]
        }
      ]
    },
    {
      "cell_type": "markdown",
      "source": [
        "##3. Describe the process of matrix addition, multiplication, and element-wise operations in TensorFlow\n",
        "\n",
        "##Ans:--\n",
        "\n",
        "\n",
        "###In TensorFlow, matrix addition, multiplication, and element-wise operations are fundamental operations performed on tensors. Here's a description of each process:\n",
        "\n",
        "# Matrix Addition:\n",
        "\n",
        "* Matrix addition is performed by adding corresponding elements of two matrices.\n",
        "\n",
        "* The matrices involved in the addition operation must have the same shape (same number of rows and columns).\n",
        "\n",
        "* In TensorFlow, matrix addition is performed using the tf.add() function or the + operator.\n",
        "\n",
        "* The resulting matrix will have the same shape as the input matrices, and each element will be the sum of the corresponding elements from the input matrices.\n",
        "\n",
        "##Example:"
      ],
      "metadata": {
        "id": "PJrflKMjSUyU"
      }
    },
    {
      "cell_type": "code",
      "source": [
        "import tensorflow as tf\n",
        "\n",
        "# Creating two matrices\n",
        "A = tf.constant([[1, 2], [3, 4]])\n",
        "B = tf.constant([[5, 6], [7, 8]])\n",
        "\n",
        "# Matrix addition\n",
        "C = tf.add(A, B)\n",
        "\n",
        "print(\"Matrix Addition:\")\n",
        "print(C.numpy())\n"
      ],
      "metadata": {
        "colab": {
          "base_uri": "https://localhost:8080/"
        },
        "id": "kJqSopJGR6d4",
        "outputId": "aa45021d-ae3c-444d-d1df-52493d448790"
      },
      "execution_count": 11,
      "outputs": [
        {
          "output_type": "stream",
          "name": "stdout",
          "text": [
            "Matrix Addition:\n",
            "[[ 6  8]\n",
            " [10 12]]\n"
          ]
        }
      ]
    },
    {
      "cell_type": "markdown",
      "source": [
        "#Matrix Multiplication:\n",
        "\n",
        "* Matrix multiplication is performed by multiplying corresponding elements of rows from the first matrix with the corresponding elements of columns from the second matrix and summing the products.\n",
        "\n",
        "* The number of columns in the first matrix must be equal to the number of rows in the second matrix for matrix multiplication to be defined.\n",
        "\n",
        "* In TensorFlow, matrix multiplication is performed using the tf.matmul() function or the @ operator.\n",
        "\n",
        "* The resulting matrix will have a shape of (number of rows in the first matrix, number of columns in the second matrix).\n",
        "\n",
        "##Example:"
      ],
      "metadata": {
        "id": "I6olyEyLSm8a"
      }
    },
    {
      "cell_type": "code",
      "source": [
        "import tensorflow as tf\n",
        "\n",
        "# Creating two matrices\n",
        "A = tf.constant([[1, 2], [3, 4]])\n",
        "B = tf.constant([[5, 6], [7, 8]])\n",
        "\n",
        "# Matrix multiplication\n",
        "C = tf.matmul(A, B)\n",
        "\n",
        "print(\"Matrix Multiplication:\")\n",
        "print(C.numpy())\n"
      ],
      "metadata": {
        "colab": {
          "base_uri": "https://localhost:8080/"
        },
        "id": "tLKzHeyLSi2W",
        "outputId": "50763673-d5f0-4b1a-95f8-a10d3da70894"
      },
      "execution_count": 12,
      "outputs": [
        {
          "output_type": "stream",
          "name": "stdout",
          "text": [
            "Matrix Multiplication:\n",
            "[[19 22]\n",
            " [43 50]]\n"
          ]
        }
      ]
    },
    {
      "cell_type": "markdown",
      "source": [
        "#Element-wise Operations:\n",
        "\n",
        "* Element-wise operations are performed by applying an operation to corresponding elements of two tensors.\n",
        "\n",
        "* The tensors involved in element-wise operations must have the same shape.\n",
        "\n",
        "* In TensorFlow, element-wise operations are performed using various functions such as tf.add(), tf.subtract(), tf.multiply(), tf.divide(), etc.\n",
        "* The resulting tensor will have the same shape as the input tensors, and each element will be the result of applying the operation to the corresponding elements from the input tensors.\n",
        "\n",
        "##Example:"
      ],
      "metadata": {
        "id": "00WHV4oPSyW4"
      }
    },
    {
      "cell_type": "code",
      "source": [
        "import tensorflow as tf\n",
        "\n",
        "# Creating two tensors\n",
        "A = tf.constant([1, 2, 3])\n",
        "B = tf.constant([4, 5, 6])\n",
        "\n",
        "# Element-wise addition\n",
        "C = tf.add(A, B)\n",
        "\n",
        "# Element-wise multiplication\n",
        "D = tf.multiply(A, B)\n",
        "\n",
        "print(\"Element-wise Addition:\")\n",
        "print(C.numpy())\n",
        "\n",
        "print(\"Element-wise Multiplication:\")\n",
        "print(D.numpy())\n"
      ],
      "metadata": {
        "colab": {
          "base_uri": "https://localhost:8080/"
        },
        "id": "mSIg_loQSufZ",
        "outputId": "0a772f66-e340-4304-c301-53da0228f7a7"
      },
      "execution_count": 14,
      "outputs": [
        {
          "output_type": "stream",
          "name": "stdout",
          "text": [
            "Element-wise Addition:\n",
            "[5 7 9]\n",
            "Element-wise Multiplication:\n",
            "[ 4 10 18]\n"
          ]
        }
      ]
    },
    {
      "cell_type": "markdown",
      "source": [
        "#Part 2: Practical Implementation\n",
        "\n",
        "#Task 1:\n",
        "\n",
        "##Creating and Manipulating Matrices\n",
        "\n",
        "###1. Create a normal matrix A with dimensions 3x3, using TensorFlow's random_normal function. Display the values of matrix A"
      ],
      "metadata": {
        "id": "ccDSpwuETTJ1"
      }
    },
    {
      "cell_type": "code",
      "source": [
        "import tensorflow as tf\n",
        "\n",
        "# Create a normal matrix A with dimensions 3x3\n",
        "A = tf.random.normal(shape=(3, 3))\n",
        "\n",
        "# Display the values of matrix A\n",
        "print(\"Matrix A:\")\n",
        "print(A.numpy())\n"
      ],
      "metadata": {
        "colab": {
          "base_uri": "https://localhost:8080/"
        },
        "id": "8m1e6d4mS5t2",
        "outputId": "0dc5523a-9b69-41d3-9e5b-78fcef5db281"
      },
      "execution_count": 15,
      "outputs": [
        {
          "output_type": "stream",
          "name": "stdout",
          "text": [
            "Matrix A:\n",
            "[[-0.24156626 -2.1190424   1.2473586 ]\n",
            " [-0.93316203  0.43400997 -0.09931882]\n",
            " [ 0.18687595 -0.31198657 -0.11166593]]\n"
          ]
        }
      ]
    },
    {
      "cell_type": "markdown",
      "source": [
        "##2. Create a Gaussian matrix B with dimensions 4x4, using TensorFlow's truncated_normal function. Display the values of matrix B"
      ],
      "metadata": {
        "id": "W1BlmcE7Tc2e"
      }
    },
    {
      "cell_type": "code",
      "source": [
        "import tensorflow as tf\n",
        "\n",
        "# Create a Gaussian matrix B with dimensions 4x4\n",
        "B = tf.random.truncated_normal(shape=(4, 4))\n",
        "\n",
        "# Display the values of matrix B\n",
        "print(\"Matrix B:\")\n",
        "print(B.numpy())\n"
      ],
      "metadata": {
        "colab": {
          "base_uri": "https://localhost:8080/"
        },
        "id": "87PRgmKmTQ6X",
        "outputId": "90216d86-7bdd-42c3-9638-55e947f4ffa1"
      },
      "execution_count": 16,
      "outputs": [
        {
          "output_type": "stream",
          "name": "stdout",
          "text": [
            "Matrix B:\n",
            "[[ 0.828068    0.7743483   0.06057705  0.9739507 ]\n",
            " [-1.7538556   0.3765717  -0.46541205 -0.6137272 ]\n",
            " [ 0.02660602 -0.3484387  -1.6876484  -1.2274835 ]\n",
            " [-0.5708102  -1.4714557  -0.2378652   0.19504824]]\n"
          ]
        }
      ]
    },
    {
      "cell_type": "markdown",
      "source": [
        "###3. Create a matrix C with dimensions 2x2, where the values are drawn from a normal distribution with a mean of 3 and a standard deviation of 0.5, using TensorFlow's random.normal function. Display the values of matrix C."
      ],
      "metadata": {
        "id": "bS8OZgtjTqRS"
      }
    },
    {
      "cell_type": "code",
      "source": [
        "import tensorflow as tf\n",
        "\n",
        "# Create a matrix C with dimensions 2x2, drawn from a normal distribution with mean 3 and standard deviation 0.5\n",
        "C = tf.random.normal(shape=(2, 2), mean=3, stddev=0.5)\n",
        "\n",
        "# Display the values of matrix C\n",
        "print(\"Matrix C:\")\n",
        "print(C.numpy())\n"
      ],
      "metadata": {
        "colab": {
          "base_uri": "https://localhost:8080/"
        },
        "id": "DoRea8faThHa",
        "outputId": "ba626723-0cd7-48aa-9127-607cf8393d73"
      },
      "execution_count": 17,
      "outputs": [
        {
          "output_type": "stream",
          "name": "stdout",
          "text": [
            "Matrix C:\n",
            "[[2.9495606 3.3371434]\n",
            " [2.7315354 3.5545478]]\n"
          ]
        }
      ]
    },
    {
      "cell_type": "markdown",
      "source": [
        "##4. Perform matrix addition between matrix A and matrix B, and store the result in matrix D"
      ],
      "metadata": {
        "id": "tN_--A8-T3hx"
      }
    },
    {
      "cell_type": "code",
      "source": [
        "import tensorflow as tf\n",
        "\n",
        "# Creating matrices A and B\n",
        "A = tf.constant([[1, 2], [3, 4]])\n",
        "B = tf.constant([[5, 6], [7, 8]])\n",
        "\n",
        "# Matrix addition\n",
        "D = tf.add(A, B)\n",
        "\n",
        "# Display the values of matrix D\n",
        "print(\"Matrix D (Result of Matrix Addition):\")\n",
        "print(D.numpy())\n"
      ],
      "metadata": {
        "colab": {
          "base_uri": "https://localhost:8080/"
        },
        "id": "2sq20x9pTwuX",
        "outputId": "98b8a838-8a02-4bd2-eda6-9d291c2a0b0a"
      },
      "execution_count": 20,
      "outputs": [
        {
          "output_type": "stream",
          "name": "stdout",
          "text": [
            "Matrix D (Result of Matrix Addition):\n",
            "[[ 6  8]\n",
            " [10 12]]\n"
          ]
        }
      ]
    },
    {
      "cell_type": "markdown",
      "source": [
        "###5. Perform matrix multiplication between matrix C and matrix D, and store the result in matrix E\n",
        "\n"
      ],
      "metadata": {
        "id": "-l-zknPjUMqe"
      }
    },
    {
      "cell_type": "code",
      "source": [
        "import tensorflow as tf\n",
        "\n",
        "# Creating matrices C and D\n",
        "C = tf.constant([[3, 4], [5, 6]])\n",
        "D = tf.constant([[1, 2], [3, 4]])\n",
        "\n",
        "# Matrix multiplication\n",
        "E = tf.matmul(C, D)\n",
        "\n",
        "# Display the values of matrix E\n",
        "print(\"Matrix E (Result of Matrix Multiplication):\")\n",
        "print(E.numpy())\n"
      ],
      "metadata": {
        "colab": {
          "base_uri": "https://localhost:8080/"
        },
        "id": "4HMSd7HqT98M",
        "outputId": "f55c81cc-f4ed-4e16-c496-d114c22a7f46"
      },
      "execution_count": 21,
      "outputs": [
        {
          "output_type": "stream",
          "name": "stdout",
          "text": [
            "Matrix E (Result of Matrix Multiplication):\n",
            "[[15 22]\n",
            " [23 34]]\n"
          ]
        }
      ]
    },
    {
      "cell_type": "markdown",
      "source": [
        "#Task 2:\n",
        "\n",
        "##Performing Additional Matrix Operations\n",
        "\n",
        "###1. Create a matrix F with dimensions 3x3, initialized with random values using TensorFlow's random_uniform function."
      ],
      "metadata": {
        "id": "uSe40hmKUdYn"
      }
    },
    {
      "cell_type": "code",
      "source": [
        "import tensorflow as tf\n",
        "\n",
        "# Create a matrix F with dimensions 3x3, initialized with random values\n",
        "F = tf.random.uniform(shape=(3, 3))\n",
        "\n",
        "# Display the values of matrix F\n",
        "print(\"Matrix F:\")\n",
        "print(F.numpy())\n"
      ],
      "metadata": {
        "colab": {
          "base_uri": "https://localhost:8080/"
        },
        "id": "D-9rfwG6USfl",
        "outputId": "fc3ad0ec-6592-4f47-e906-b9ee945b8957"
      },
      "execution_count": 22,
      "outputs": [
        {
          "output_type": "stream",
          "name": "stdout",
          "text": [
            "Matrix F:\n",
            "[[0.12378407 0.03413093 0.73716867]\n",
            " [0.50875854 0.20093203 0.5039369 ]\n",
            " [0.44111085 0.4537933  0.1841408 ]]\n"
          ]
        }
      ]
    },
    {
      "cell_type": "markdown",
      "source": [
        "###2. Calculate the transpose of matrix F and store the result in matrix G.\n"
      ],
      "metadata": {
        "id": "pgLqa94_UnaE"
      }
    },
    {
      "cell_type": "code",
      "source": [
        "import tensorflow as tf\n",
        "\n",
        "# Creating matrix F\n",
        "F = tf.constant([[1, 2, 3], [4, 5, 6], [7, 8, 9]])\n",
        "\n",
        "# Calculating the transpose of matrix F\n",
        "G = tf.transpose(F)\n",
        "\n",
        "# Display the values of matrix G\n",
        "print(\"Matrix G (Transpose of Matrix F):\")\n",
        "print(G.numpy())\n"
      ],
      "metadata": {
        "colab": {
          "base_uri": "https://localhost:8080/"
        },
        "id": "4qN97q3OUh5J",
        "outputId": "4fa92ed0-8d92-4aaf-e18d-a7dbc5751170"
      },
      "execution_count": 23,
      "outputs": [
        {
          "output_type": "stream",
          "name": "stdout",
          "text": [
            "Matrix G (Transpose of Matrix F):\n",
            "[[1 4 7]\n",
            " [2 5 8]\n",
            " [3 6 9]]\n"
          ]
        }
      ]
    },
    {
      "cell_type": "markdown",
      "source": [
        "###3. Calculate the element-wise exponential of matrix F and store the result in matrix H."
      ],
      "metadata": {
        "id": "v8M5rZY1U1pr"
      }
    },
    {
      "cell_type": "code",
      "source": [
        "import tensorflow as tf\n",
        "\n",
        "\n",
        "F = tf.constant([[1, 2, 3], [4, 5, 6], [7, 8, 9]], dtype=tf.float32)\n",
        "\n",
        "# Calculating the element-wise exponential of matrix F\n",
        "H = tf.exp(F)\n",
        "\n",
        "# Display the values of matrix H\n",
        "print(\"Matrix H (Element-wise Exponential of Matrix F):\")\n",
        "print(H.numpy())\n"
      ],
      "metadata": {
        "colab": {
          "base_uri": "https://localhost:8080/"
        },
        "id": "hB7NK_aKUqD9",
        "outputId": "860d762b-4fd0-4c8d-c0f1-78c2ffc66adf"
      },
      "execution_count": 25,
      "outputs": [
        {
          "output_type": "stream",
          "name": "stdout",
          "text": [
            "Matrix H (Element-wise Exponential of Matrix F):\n",
            "[[2.7182817e+00 7.3890562e+00 2.0085537e+01]\n",
            " [5.4598148e+01 1.4841316e+02 4.0342877e+02]\n",
            " [1.0966332e+03 2.9809580e+03 8.1030840e+03]]\n"
          ]
        }
      ]
    },
    {
      "cell_type": "markdown",
      "source": [
        "###4. Create a matrix I by concatenating matrix F and matrix G horizontally."
      ],
      "metadata": {
        "id": "l31NB7mSVP3P"
      }
    },
    {
      "cell_type": "code",
      "source": [
        "import tensorflow as tf\n",
        "\n",
        "# Concatenating matrices F and G horizontally\n",
        "I = tf.concat([F, G], axis=1)\n",
        "\n",
        "# Display the values of matrix I\n",
        "print(\"Matrix I (Concatenation of F and G Horizontally):\")\n",
        "print(I.numpy())\n"
      ],
      "metadata": {
        "colab": {
          "base_uri": "https://localhost:8080/"
        },
        "id": "2WI-6JSaU6PP",
        "outputId": "c6fe09a3-8140-4405-b275-9cc7a7f4c785"
      },
      "execution_count": 27,
      "outputs": [
        {
          "output_type": "stream",
          "name": "stdout",
          "text": [
            "Matrix I (Concatenation of F and G Horizontally):\n",
            "[[1 2 3 1 4 7]\n",
            " [4 5 6 2 5 8]\n",
            " [7 8 9 3 6 9]]\n"
          ]
        }
      ]
    },
    {
      "cell_type": "markdown",
      "source": [
        "###5. Create a matrix J by concatenating matrix F and matrix H vertically."
      ],
      "metadata": {
        "id": "qnpmQJJ8Veab"
      }
    },
    {
      "cell_type": "code",
      "source": [
        "import tensorflow as tf\n",
        "\n",
        "# Creating matrices F and H\n",
        "F = tf.constant([[1, 2, 3], [4, 5, 6], [7, 8, 9]], dtype=tf.float32)\n",
        "H = tf.constant([[2.7182817, 7.389056, 20.085537],\n",
        "                 [54.59815, 148.41316, 403.4288],\n",
        "                 [1096.6332, 2980.958, 8103.0835]])\n",
        "\n",
        "# Concatenating matrices F and H vertically\n",
        "J = tf.concat([F, H], axis=0)\n",
        "\n",
        "# Display the values of matrix J\n",
        "print(\"Matrix J (Concatenation of F and H Vertically):\")\n",
        "print(J.numpy())\n"
      ],
      "metadata": {
        "colab": {
          "base_uri": "https://localhost:8080/"
        },
        "id": "kr3QJKtwVS-Z",
        "outputId": "4d9a28fd-03d5-4d5c-8da5-d298fa1e8619"
      },
      "execution_count": 30,
      "outputs": [
        {
          "output_type": "stream",
          "name": "stdout",
          "text": [
            "Matrix J (Concatenation of F and H Vertically):\n",
            "[[1.0000000e+00 2.0000000e+00 3.0000000e+00]\n",
            " [4.0000000e+00 5.0000000e+00 6.0000000e+00]\n",
            " [7.0000000e+00 8.0000000e+00 9.0000000e+00]\n",
            " [2.7182817e+00 7.3890562e+00 2.0085537e+01]\n",
            " [5.4598148e+01 1.4841316e+02 4.0342880e+02]\n",
            " [1.0966332e+03 2.9809580e+03 8.1030835e+03]]\n"
          ]
        }
      ]
    },
    {
      "cell_type": "code",
      "source": [],
      "metadata": {
        "id": "8QAEqbK0VlNX"
      },
      "execution_count": null,
      "outputs": []
    }
  ]
}