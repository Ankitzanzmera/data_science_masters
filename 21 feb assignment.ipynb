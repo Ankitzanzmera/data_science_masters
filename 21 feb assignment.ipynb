{
 "cells": [
  {
   "cell_type": "markdown",
   "id": "d7604418",
   "metadata": {},
   "source": [
    "#### Q1. What is Web Scraping? Why is it Used? Give three areas where Web Scraping is used to get data."
   ]
  },
  {
   "cell_type": "markdown",
   "id": "de08c612",
   "metadata": {},
   "source": [
    "Web scraping is an automatic method to obtain large amounts of data from websites. Most of this data is unstructured data in an HTML format which is then converted into structured data in a spreadsheet or a database so that it can be used in various applications."
   ]
  },
  {
   "cell_type": "markdown",
   "id": "b733a46e",
   "metadata": {},
   "source": [
    "The data which com efrom web scrapping is very useful for firms like we scrapped the reviews which can be used to decrease the faults and improve sales"
   ]
  },
  {
   "cell_type": "markdown",
   "id": "9c0d58a9",
   "metadata": {},
   "source": [
    "Three places where web scrapping is used are:\n",
    "\n",
    "Price Monitoring : Web Scraping can be used by companies to scrap the product data for their products and competing products as well to see how it impacts their pricing strategies. Companies can use this data to fix the optimal pricing for their products so that they can obtain maximum revenue.\n",
    "\n",
    "Market Research : Web scraping can be used for market research by companies. High-quality web scraped data obtained in large volumes can be very helpful for companies in analyzing consumer trends and understanding which direction the company should move in the future.\n",
    "\n",
    "News Monitoring : Web scraping news sites can provide detailed reports on the current news to a company. This is even more essential for companies that are frequently in the news or that depend on daily news for their day-to-day functioning. After all, news reports can make or break a company in a single day!"
   ]
  },
  {
   "cell_type": "markdown",
   "id": "c7e0ae7b",
   "metadata": {},
   "source": [
    "#### Q2. What are the different methods used for Web Scraping?"
   ]
  },
  {
   "cell_type": "markdown",
   "id": "a403da1e",
   "metadata": {},
   "source": [
    "Manual Scraping : web scraping can be done manually. All you need is the ability to copy/paste information and a spreadsheet to keep track of the extracted data.\n",
    "\n",
    "Automated Scraping : Automated web scraping tools have become increasingly popular due their ease of use and savings in time and costs.These tools also come in many different shapes and sizes, from simple browser extensions to more powerful software solutions.\n",
    "\n",
    "Outsourced Scrapping : you might not want to bother with managing your web scraping projects yourself. In this scenario, you might decide to outsource your web scraping projects.In this case, you must be wary of the methods used by the contractor you have selected."
   ]
  },
  {
   "cell_type": "markdown",
   "id": "98e88e20",
   "metadata": {},
   "source": [
    "#### Q3. What is Beautiful Soup? Why is it used?"
   ]
  },
  {
   "cell_type": "markdown",
   "id": "28a1cd70",
   "metadata": {},
   "source": [
    "Beautiful Soup is a python library which is used to butifying documents it makes some indentation , and new line change which make it easier to read an html document, text document etc. and hence makes it somewhat simple for us to scrap the html"
   ]
  },
  {
   "cell_type": "markdown",
   "id": "5ed05885",
   "metadata": {},
   "source": [
    "#### Q4. Why is flask used in this Web Scraping project?"
   ]
  },
  {
   "cell_type": "markdown",
   "id": "5db15b37",
   "metadata": {},
   "source": [
    "flask is used to create the backend server to make get requests from the product link"
   ]
  },
  {
   "cell_type": "markdown",
   "id": "dc66262b",
   "metadata": {},
   "source": [
    "#### Q5. Write the names of AWS services used in this project. Also, explain the use of each service. "
   ]
  },
  {
   "cell_type": "markdown",
   "id": "b6189afb",
   "metadata": {},
   "source": [
    "code pipeline : The code pipeline is used to get code from github and sending to bean stack.\n",
    "    \n",
    "Beanstack : It gives the resourse to our application and make our server up and running."
   ]
  },
  {
   "cell_type": "code",
   "execution_count": null,
   "id": "3c7fe6ce",
   "metadata": {},
   "outputs": [],
   "source": []
  }
 ],
 "metadata": {
  "kernelspec": {
   "display_name": "Python 3 (ipykernel)",
   "language": "python",
   "name": "python3"
  },
  "language_info": {
   "codemirror_mode": {
    "name": "ipython",
    "version": 3
   },
   "file_extension": ".py",
   "mimetype": "text/x-python",
   "name": "python",
   "nbconvert_exporter": "python",
   "pygments_lexer": "ipython3",
   "version": "3.9.13"
  }
 },
 "nbformat": 4,
 "nbformat_minor": 5
}
