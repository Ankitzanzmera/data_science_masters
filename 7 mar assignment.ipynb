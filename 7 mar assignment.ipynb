{
 "cells": [
  {
   "cell_type": "markdown",
   "id": "2a2f12ff",
   "metadata": {},
   "source": [
    "#### Q1. What are the three measures of central tendency?"
   ]
  },
  {
   "cell_type": "markdown",
   "id": "e31e1441",
   "metadata": {},
   "source": [
    "1. Menn\n",
    "2. Median\n",
    "3. Mode"
   ]
  },
  {
   "cell_type": "markdown",
   "id": "a889985f",
   "metadata": {},
   "source": [
    "#### Q2. What is the difference between the mean, median, and mode? How are they used to measure the central tendency of a dataset?"
   ]
  },
  {
   "cell_type": "markdown",
   "id": "70e5414d",
   "metadata": {},
   "source": [
    "1. Mean : The arithmetic mean is found by adding the numbers and dividing the sum by the number of numbers in the list. This is what is most often meant by an average.\n",
    "\n",
    "2. Median : The median is the middle value in a list ordered from smallest to largest. \n",
    "\n",
    "3. Mode :The mode is the most frequently occurring value on the list."
   ]
  },
  {
   "cell_type": "markdown",
   "id": "7dfcf000",
   "metadata": {},
   "source": [
    "#### Q3. Measure the three measures of central tendency for the given height data:\n",
    "[178,177,176,177,178.2,178,175,179,180,175,178.9,176.2,177,172.5,178,176.5]"
   ]
  },
  {
   "cell_type": "code",
   "execution_count": 2,
   "id": "9b7e3009",
   "metadata": {},
   "outputs": [
    {
     "name": "stdout",
     "output_type": "stream",
     "text": [
      "177.01875\n",
      "177.0\n",
      "ModeResult(mode=array([177.]), count=array([3]))\n"
     ]
    },
    {
     "name": "stderr",
     "output_type": "stream",
     "text": [
      "C:\\Users\\Lenovo\\AppData\\Local\\Temp\\ipykernel_8076\\2975637124.py:6: FutureWarning: Unlike other reduction functions (e.g. `skew`, `kurtosis`), the default behavior of `mode` typically preserves the axis it acts along. In SciPy 1.11.0, this behavior will change: the default value of `keepdims` will become False, the `axis` over which the statistic is taken will be eliminated, and the value None will no longer be accepted. Set `keepdims` to True or False to avoid this warning.\n",
      "  print(stats.mode(list1))\n"
     ]
    }
   ],
   "source": [
    "import numpy as np\n",
    "list1 = [178,177,176,177,178.2,178,175,179,180,175,178.9,176.2,177,172.5,178,176.5]\n",
    "print(np.mean(list1))\n",
    "print(np.median(list1))\n",
    "from scipy import stats\n",
    "print(stats.mode(list1))"
   ]
  },
  {
   "cell_type": "markdown",
   "id": "59641019",
   "metadata": {},
   "source": [
    "#### Q4. Find the standard deviation for the given data:\n",
    "[178,177,176,177,178.2,178,175,179,180,175,178.9,176.2,177,172.5,178,176.5]"
   ]
  },
  {
   "cell_type": "code",
   "execution_count": 3,
   "id": "a8405a59",
   "metadata": {},
   "outputs": [
    {
     "name": "stdout",
     "output_type": "stream",
     "text": [
      "1.7885814036548633\n"
     ]
    }
   ],
   "source": [
    "import numpy as np\n",
    "list1 = [178,177,176,177,178.2,178,175,179,180,175,178.9,176.2,177,172.5,178,176.5]\n",
    "print(np.std(list1))"
   ]
  },
  {
   "cell_type": "markdown",
   "id": "d14070ac",
   "metadata": {},
   "source": [
    "#### Q5. How are measures of dispersion such as range, variance, and standard deviation used to describe the spread of a dataset? Provide an example."
   ]
  },
  {
   "cell_type": "markdown",
   "id": "c7204bc8",
   "metadata": {},
   "source": [
    "Standard deviation - We can use it to determine the proportion of the values that fall within a specified number\n",
    "                    of standard deviations from the mean. For example, in a normal distribution, 68% of the values will\n",
    "fall within +/- 1 standard deviation from the mean.\n",
    "\n",
    "Range - The range is the difference between the largest and the smallest observation in the data.\n",
    "\n",
    "Variance - variance is a measure of dispersion that takes into account the spread of all data points\n",
    " in a data set. It's the measure of dispersion the most often used, along with the standard deviation,\n",
    " which is simply the square root of the variance."
   ]
  },
  {
   "cell_type": "markdown",
   "id": "c6bb6ee5",
   "metadata": {},
   "source": [
    "#### Q6. What is a Venn diagram?"
   ]
  },
  {
   "cell_type": "markdown",
   "id": "3261bccb",
   "metadata": {},
   "source": [
    "A Venn diagram is a widely used diagram style that shows the logical relation between sets, popularized.\n",
    "\n",
    "A Venn diagram illustrates the relationships between two or more data sets. Venn diagrams are\n",
    "especially useful for highlighting similarities and differences and are commonly used to compare \n",
    "and contrast the characteristics of different data sets. In a Venn diagram, circles are \n",
    "used to represent each data set."
   ]
  },
  {
   "cell_type": "markdown",
   "id": "2c29a3c0",
   "metadata": {},
   "source": [
    "#### Q7. For the two given sets A = (2,3,4,5,6,7) & B = (0,2,6,8,10). Find:\n",
    "(i) A ⋂ B\n",
    "(ii) A ⋃ B"
   ]
  },
  {
   "cell_type": "markdown",
   "id": "160c9f7e",
   "metadata": {},
   "source": [
    "1. A intersection B is {2,6}\n",
    "2. A union B is {0,2,3,4,5,6,7,10}"
   ]
  },
  {
   "cell_type": "markdown",
   "id": "8241115b",
   "metadata": {},
   "source": [
    "#### Q8. What do you understand about skewness in data?"
   ]
  },
  {
   "cell_type": "markdown",
   "id": "97bbebc8",
   "metadata": {},
   "source": [
    "Skewness is a measurement of the distortion of symmetrical distribution or asymmetry in a data set.\n",
    "Skewness is demonstrated on a bell curve when data points are not distributed symmetrically to \n",
    "the left and right sides of the median on a bell curve."
   ]
  },
  {
   "cell_type": "markdown",
   "id": "332ce8fb",
   "metadata": {},
   "source": [
    "#### Q9. If a data is right skewed then what will be the position of median with respect to mean?"
   ]
  },
  {
   "cell_type": "markdown",
   "id": "7df83187",
   "metadata": {},
   "source": [
    "If data is right skewed then ; Mean> Median> Mode\n",
    "Median will be left side of mean."
   ]
  },
  {
   "cell_type": "markdown",
   "id": "5d736397",
   "metadata": {},
   "source": [
    "#### Q10. Explain the difference between covariance and correlation. How are these measures used in statistical analysis?"
   ]
  },
  {
   "cell_type": "markdown",
   "id": "94ef70db",
   "metadata": {},
   "source": [
    "1. Covariance is an indicator of the extent to which 2 random variables are dependent on each other.\n",
    "A higher number denotes higher dependency. \n",
    "Correlation is a statistical measure that indicates how strongly two variables are related.\n",
    "The value of covariance lies in the range of -∞ and +∞.\n",
    "\n",
    "\n",
    "Both covariance and correlation measure the relationship and the dependency between two variables.\n",
    "Covariance indicates the direction of the linear relationship between variables while correlation\n",
    "measures both the strength and direction of the linear relationship between two variables."
   ]
  },
  {
   "cell_type": "markdown",
   "id": "526a3738",
   "metadata": {},
   "source": [
    "#### Q11. What is the formula for calculating the sample mean? Provide an example calculation for a dataset."
   ]
  },
  {
   "cell_type": "markdown",
   "id": "a066099f",
   "metadata": {},
   "source": [
    "Sample Mean = ( Sum of terms) /(no. of terms)\n",
    "l = [1,2,3,4]\n",
    "Sample mean = 10/4 = 2.5"
   ]
  },
  {
   "cell_type": "code",
   "execution_count": 13,
   "id": "6302dbbb",
   "metadata": {},
   "outputs": [
    {
     "data": {
      "text/plain": [
       "19.785942622950824"
      ]
     },
     "execution_count": 13,
     "metadata": {},
     "output_type": "execute_result"
    }
   ],
   "source": [
    "import seaborn as sns \n",
    "tips = sns.load_dataset('tips')\n",
    "mean = sum(tips['total_bill']) / tips['total_bill'].count()\n",
    "mean"
   ]
  },
  {
   "cell_type": "markdown",
   "id": "b63daefa",
   "metadata": {},
   "source": [
    "#### Q12. For a normal distribution data what is the relationship between its measure of central tendency?"
   ]
  },
  {
   "cell_type": "markdown",
   "id": "b03fa7c9",
   "metadata": {},
   "source": [
    "Mean = Median = Mode"
   ]
  },
  {
   "cell_type": "markdown",
   "id": "77943545",
   "metadata": {},
   "source": [
    "#### Q13. How is covariance different from correlation?"
   ]
  },
  {
   "cell_type": "markdown",
   "id": "b4379621",
   "metadata": {},
   "source": [
    "covariance value is lies between -∞ and +∞. while correlation lies between -1 to +1"
   ]
  },
  {
   "cell_type": "markdown",
   "id": "b3d60401",
   "metadata": {},
   "source": [
    "#### Q14. How do outliers affect measures of central tendency and dispersion? Provide an example."
   ]
  },
  {
   "cell_type": "markdown",
   "id": "144c7ed3",
   "metadata": {},
   "source": [
    "Outliers Measures of central tendency and dispersion can give misleading impressions\n",
    "of a data set if the set contains one or more outliers. An outlier is a value that is\n",
    "much greater than or much less than most of the other values in a data set. \n",
    "\n",
    "Mean is most effected by outliers.\n",
    "Median is less effeted by outliers."
   ]
  },
  {
   "cell_type": "code",
   "execution_count": 16,
   "id": "aaa4af13",
   "metadata": {},
   "outputs": [
    {
     "name": "stdout",
     "output_type": "stream",
     "text": [
      "23.4\n",
      "5.2\n"
     ]
    }
   ],
   "source": [
    "list1 = [2,5,7,3,100]\n",
    "print(np.mean(list1))\n",
    "list1 = [2,5,7,3,9]\n",
    "print(np.mean(list1))"
   ]
  },
  {
   "cell_type": "markdown",
   "id": "ad0c208f",
   "metadata": {},
   "source": [
    "See the Difference in Above Answer. the first result is affected by outliers and second result is without outliers"
   ]
  },
  {
   "cell_type": "code",
   "execution_count": null,
   "id": "41d1b830",
   "metadata": {},
   "outputs": [],
   "source": []
  }
 ],
 "metadata": {
  "kernelspec": {
   "display_name": "Python 3 (ipykernel)",
   "language": "python",
   "name": "python3"
  },
  "language_info": {
   "codemirror_mode": {
    "name": "ipython",
    "version": 3
   },
   "file_extension": ".py",
   "mimetype": "text/x-python",
   "name": "python",
   "nbconvert_exporter": "python",
   "pygments_lexer": "ipython3",
   "version": "3.9.13"
  }
 },
 "nbformat": 4,
 "nbformat_minor": 5
}
