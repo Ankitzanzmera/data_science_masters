{
 "cells": [
  {
   "cell_type": "markdown",
   "id": "5889b743",
   "metadata": {},
   "source": [
    "#### Q1. What is multiprocessing in python? Why is it useful? "
   ]
  },
  {
   "cell_type": "markdown",
   "id": "2acfd656",
   "metadata": {},
   "source": [
    "The Python multiprocessing module provides multiple classes that allow us to build parallel programs to implement multiprocessing in Python. It offers an easy-to-use API for dividing processes between many processors, thereby fully leveraging multiprocessing. It overcomes the limitations of Global Interpreter Lock (GIL) by using sub-processes instead of threads. The primary classes of the Python multiprocessing module are:"
   ]
  },
  {
   "cell_type": "markdown",
   "id": "5c68decf",
   "metadata": {},
   "source": [
    "why is it useful \n",
    "  "
   ]
  },
  {
   "cell_type": "markdown",
   "id": "7c26286b",
   "metadata": {},
   "source": [
    "Performing multiple operations for a single processor becomes challenging. As the number of processes keeps increasing, the processor will have to halt the current process and move to the next, to keep them going. Thus, it will have to interrupt each task, thereby hampering the performance.\n",
    "\n",
    "You can think of it as an employee in an organization tasked to perform jobs in multiple departments. If the employee has to manage the sales, accounts, and even the backend, he will have to stop sales when he is into accounts and vice versa.\n",
    "\n",
    "Suppose there are different employees, each to perform a specific task. It becomes simpler, right? That’s why multiprocessing in Python becomes essential. The smaller task threads act like different employees, making it easier to handle and manage various processes. A multiprocessing system can be represented as:"
   ]
  },
  {
   "cell_type": "markdown",
   "id": "cb122375",
   "metadata": {},
   "source": [
    "#### Q2. What are the differences between multiprocessing and multithreading? "
   ]
  },
  {
   "cell_type": "raw",
   "id": "155ac17b",
   "metadata": {},
   "source": [
    "1.\tIn Multiprocessing, CPUs are added for increasing computing power.\tWhile In Multithreading, many threads are created of a single process for increasing computing power.\n",
    "\n",
    "2.\tIn Multiprocessing, Many processes are executed simultaneously.\tWhile in multithreading, many threads of a process are executed simultaneously.\n",
    "\n",
    "3.\tMultiprocessing are classified into Symmetric and Asymmetric.\tWhile Multithreading is not classified in any categories.\n",
    "\n",
    "4.\tIn Multiprocessing, Process creation is a time-consuming process.\tWhile in Multithreading, process creation is according to economical.\n",
    "\n",
    "5.\tIn Multiprocessing, every process owned a separate address space.\tWhile in Multithreading, a common address space is shared by all the threads.\n"
   ]
  },
  {
   "cell_type": "markdown",
   "id": "cea4a450",
   "metadata": {},
   "source": [
    "#### Q3. Write a python code to create a process using the multiprocessing module."
   ]
  },
  {
   "cell_type": "code",
   "execution_count": 1,
   "id": "78e3c3fb",
   "metadata": {},
   "outputs": [
    {
     "name": "stdout",
     "output_type": "stream",
     "text": [
      "Process Finished\n"
     ]
    }
   ],
   "source": [
    "import multiprocessing \n",
    "def square (i):\n",
    "    print(f'Square {i}={i*i}')\n",
    "\n",
    "if __name__ == \"__main__\":\n",
    "\n",
    "    p1 = multiprocessing.Process(target = square,args = (5,))  \n",
    "    p1.start()\n",
    "    p1.join()   \n",
    "    print('Process Finished')"
   ]
  },
  {
   "cell_type": "markdown",
   "id": "22b0e3a6",
   "metadata": {},
   "source": [
    "#### Q4. What is a multiprocessing pool in python? Why is it used?"
   ]
  },
  {
   "cell_type": "markdown",
   "id": "3989e126",
   "metadata": {},
   "source": [
    "The Python Multiprocessing Pool class allows you to create and manage process pools in Python.\n",
    "\n",
    "Although the Multiprocessing Pool has been available in Python for a long time, it is not widely used, perhaps because of misunderstandings of the capabilities and limitations of Processes and Threads in Python."
   ]
  },
  {
   "cell_type": "markdown",
   "id": "75c2e203",
   "metadata": {},
   "source": [
    "The multiprocessing package offers both local and remote concurrency, effectively side-stepping the Global Interpreter Lock by using subprocesses instead of threads. Due to this, the multiprocessing module allows the programmer to fully leverage multiple processors on a given machine. It runs on both Unix and Windows"
   ]
  },
  {
   "cell_type": "markdown",
   "id": "a8de36ff",
   "metadata": {},
   "source": [
    "#### Q5. How can we create a pool of worker processes in python using the multiprocessing module?"
   ]
  },
  {
   "cell_type": "code",
   "execution_count": null,
   "id": "438d3427",
   "metadata": {},
   "outputs": [],
   "source": [
    "from multiprocessing import Pool\n",
    "\n",
    "def f(x):\n",
    "    return x*x\n",
    "\n",
    "if __name__ == '__main__':\n",
    "    with Pool(5) as p:\n",
    "        print(p.map(f, [1, 2, 3]))"
   ]
  },
  {
   "cell_type": "markdown",
   "id": "3158601b",
   "metadata": {},
   "source": [
    "#### Q6. Write a python program to create 4 processes, each process should print a different number using the multiprocessing module in python."
   ]
  },
  {
   "cell_type": "code",
   "execution_count": 2,
   "id": "9fd7c145",
   "metadata": {},
   "outputs": [
    {
     "name": "stdout",
     "output_type": "stream",
     "text": [
      "Process Finished\n"
     ]
    }
   ],
   "source": [
    "import multiprocessing\n",
    "import time\n",
    "def power2 (num):\n",
    "    for i in num:\n",
    "        print(f'power2 {i}={i**2}')\n",
    "        time.sleep(1)\n",
    "        \n",
    "def power3 (num):\n",
    "    for i in num:\n",
    "        print(f'power3 {i}={i**3}')\n",
    "        time.sleep(1)\n",
    "        \n",
    "def power4 (num):\n",
    "    for i in num:\n",
    "        print(f'power4 {i}={i**4}')\n",
    "        time.sleep(1)\n",
    "        \n",
    "def power5 (num):\n",
    "    for i in num:\n",
    "        print(f'power5 {i}={i**5}')\n",
    "        time.sleep(1)\n",
    "\n",
    "if __name__ == \"__main__\":\n",
    "    l1 = [1,2,3,4,5]\n",
    "    p1 = multiprocessing.Process(target = power2,args = (l1,))\n",
    "    p2 = multiprocessing.Process(target = power3,args = (l1,))\n",
    "    p3 = multiprocessing.Process(target = power4,args = (l1,))\n",
    "    p4 = multiprocessing.Process(target = power5,args = (l1,))\n",
    "    \n",
    "    p1.start()\n",
    "    p2.start()\n",
    "    p3.start()\n",
    "    p4.start()\n",
    "    \n",
    "    p1.join()\n",
    "    p2.join()\n",
    "    p3.join()\n",
    "    p4.join()\n",
    "\n",
    "    print('Process Finished')"
   ]
  },
  {
   "cell_type": "code",
   "execution_count": null,
   "id": "8ff62231",
   "metadata": {},
   "outputs": [],
   "source": []
  }
 ],
 "metadata": {
  "kernelspec": {
   "display_name": "Python 3 (ipykernel)",
   "language": "python",
   "name": "python3"
  },
  "language_info": {
   "codemirror_mode": {
    "name": "ipython",
    "version": 3
   },
   "file_extension": ".py",
   "mimetype": "text/x-python",
   "name": "python",
   "nbconvert_exporter": "python",
   "pygments_lexer": "ipython3",
   "version": "3.9.13"
  }
 },
 "nbformat": 4,
 "nbformat_minor": 5
}
