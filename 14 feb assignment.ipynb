{
 "cells": [
  {
   "cell_type": "markdown",
   "id": "53480d55",
   "metadata": {},
   "source": [
    "#### Q1). What is multithreading in python? why is it used? Name the module used to handle threads in python."
   ]
  },
  {
   "cell_type": "markdown",
   "id": "5b10a5d7",
   "metadata": {},
   "source": [
    "Multithreading refers to concurrently executing multiple threads by rapidly switching the control of the CPU between threads (called context switching). The Python Global Interpreter Lock limits one thread to run at a time even if the machine contains multiple processors."
   ]
  },
  {
   "cell_type": "markdown",
   "id": "ba79447e",
   "metadata": {},
   "source": [
    "Python multithreading enables efficient utilization of the resources as the threads share the data space and memory. Multithreading in Python allows the concurrent and parallel occurrence of various tasks. It causes a reduction in time consumption or response time, thereby increasing the performance."
   ]
  },
  {
   "cell_type": "markdown",
   "id": "d6061ca5",
   "metadata": {},
   "source": [
    "modual named threading is used to handle threads in python"
   ]
  },
  {
   "cell_type": "markdown",
   "id": "e280983b",
   "metadata": {},
   "source": [
    "#### Q2). Why threading module used? Write the use of the following functions.\n",
    "##### 1) activeCount\n",
    "##### 2) currentThread\n",
    "##### 3) enumerate"
   ]
  },
  {
   "cell_type": "markdown",
   "id": "2860e009",
   "metadata": {},
   "source": [
    " Multithreaded programs can run faster on computer systems with multiple CPUs, because theses threads can be executed truly concurrent. A program can remain responsive to input. This is true both on single and on multiple CPU."
   ]
  },
  {
   "cell_type": "raw",
   "id": "8af47cda",
   "metadata": {},
   "source": [
    "1) activeCount() : Active count is used count currently active or running threads.\n",
    "2) currentThread() : it is used return currenct thread object.\n",
    "3) enumerate() :  it return list of threads which is currently Alive."
   ]
  },
  {
   "cell_type": "markdown",
   "id": "e088c3dc",
   "metadata": {},
   "source": [
    "#### Q3). Explain the following functions. \n",
    "                    1) run()\n",
    "                    2) start()\n",
    "                    3) join()\n",
    "                    4) isAlive()"
   ]
  },
  {
   "cell_type": "markdown",
   "id": "79110383",
   "metadata": {},
   "source": [
    "1) run() : \n",
    "        The standard run() method invokes the callable object passed to the object’s constructor as the target argument, if any, with positional and keyword arguments taken from the args and kwargs arguments, respectively."
   ]
  },
  {
   "cell_type": "markdown",
   "id": "4e6d1ec6",
   "metadata": {},
   "source": [
    "2) start() : \n",
    "    Start the thread’s activity.\n",
    "    It must be called at most once per thread object. It arranges for the object’s run() method to be invoked in a separate thread of control."
   ]
  },
  {
   "cell_type": "markdown",
   "id": "51a35e36",
   "metadata": {},
   "source": [
    "3) join():\n",
    "    Wait until the thread terminates. This blocks the calling thread until the thread whose join() method is called terminates – either normally or through an unhandled exception – or until the optional timeout occurs."
   ]
  },
  {
   "cell_type": "markdown",
   "id": "d648776c",
   "metadata": {},
   "source": [
    "4) isalive():\n",
    "    Return whether the thread is alive.\n",
    "    This method returns True just before the run() method starts until just after the run() method terminates. The module function enumerate() returns a list of all alive threads"
   ]
  },
  {
   "cell_type": "markdown",
   "id": "2d0056ae",
   "metadata": {},
   "source": [
    "#### Q4. Write a python program to create two threads. Thread one must print the list of squares and thread two must print the list of cubes."
   ]
  },
  {
   "cell_type": "code",
   "execution_count": 20,
   "id": "70e0ad95",
   "metadata": {},
   "outputs": [
    {
     "name": "stdout",
     "output_type": "stream",
     "text": [
      "Square of 1 is 1\n",
      "Square of 2 is 4\n",
      "Square of 3 is 9\n",
      "Square of 4 is 16\n",
      "Square of 5 is 25\n",
      "Square of 6 is 36\n",
      "Square of 7 is 49\n",
      "Square of 8 is 64\n",
      "Square of 9 is 81\n",
      "Square of 10 is 100\n",
      "Cube of 1 is 1\n",
      "Cube of 2 is 8\n",
      "Cube of 3 is 27\n",
      "Cube of 4 is 64\n",
      "Cube of 5 is 125\n",
      "Cube of 6 is 216\n",
      "Cube of 7 is 343\n",
      "Cube of 8 is 512\n",
      "Cube of 9 is 729\n",
      "Cube of 10 is 1000\n"
     ]
    }
   ],
   "source": [
    "import threading\n",
    "def square(num):\n",
    "    print(f'Square of {num} is {num * num}')\n",
    "    \n",
    "    \n",
    "def cube(num):\n",
    "    print(f'Cube of {num} is {num * num * num}')\n",
    "          \n",
    "thread1 = [threading.Thread(target = square , args =[i]  ) for i in range(1,11)]\n",
    "thread2 = [threading.Thread(target = cube , args =[i]  ) for i in range(1,11)]\n",
    "          \n",
    "for i in thread1:\n",
    "    i.start()\n",
    "for i in thread2:\n",
    "    i.start()"
   ]
  },
  {
   "cell_type": "markdown",
   "id": "576a370b",
   "metadata": {},
   "source": [
    "#### Q5. State advantages and disadvantages of multithreading "
   ]
  },
  {
   "cell_type": "raw",
   "id": "7c6f61cf",
   "metadata": {},
   "source": [
    "Advantage : \n",
    "    -> Enhanced performance by decreased development time\n",
    "    -> Simplified and streamlined program coding\n",
    "    -> Improvised GUI responsiveness\n",
    "    -> Simultaneous and parallelized occurrence of tasks\n",
    "    -> Better use of cache storage by utilization of resources\n",
    "    -> Decreased cost of maintenance\n",
    "    -> Better use of CPU resource"
   ]
  },
  {
   "cell_type": "raw",
   "id": "1323dc9b",
   "metadata": {},
   "source": [
    "Disadvantage : \n",
    "    -> Complex debugging and testing processes\n",
    "    -> Overhead switching of context\n",
    "    -> Increased potential for deadlock occurrence\n",
    "    -> Increased difficulty level in writing a program\n",
    "    -> Unpredictable results\n"
   ]
  },
  {
   "cell_type": "markdown",
   "id": "c548b8bc",
   "metadata": {},
   "source": [
    "#### Q6. Explain deadlocks and race conditions. "
   ]
  },
  {
   "cell_type": "markdown",
   "id": "67a03643",
   "metadata": {},
   "source": [
    "Deadlock : \n",
    "    Deadlock describes a condition in which two or more threads are blocked (hung) forever because they are waiting for each other.\n",
    "    There are many causes of deadlocks. The Thread Analyzer detects deadlocks that are caused by the inappropriate use of mutual exclusion locks. This type of deadlock is commonly encountered in multi-threaded applications. A process with two or more threads can deadlock when the following conditions hold:\n",
    "     \n",
    "     -> Threads that are already holding locks request new locks\n",
    "     -> The requests for new locks are made concurrently\n",
    "     -> Two or more threads form a circular chain in which each thread waits for a lock which is held by the next thread in the chain"
   ]
  },
  {
   "cell_type": "markdown",
   "id": "4be78058",
   "metadata": {},
   "source": [
    "Race Conditions : \n",
    "    A race condition occurs when two threads access a shared variable at the same time. The first thread reads the variable, and the second thread reads the same value from the variable. Then the first thread and second thread perform their operations on the value, and they race to see which thread can write the value last to the shared variable. The value of the thread that writes its value last is preserved, because the thread is writing over the value that the previous thread wrote."
   ]
  },
  {
   "cell_type": "code",
   "execution_count": null,
   "id": "20ad7463",
   "metadata": {},
   "outputs": [],
   "source": []
  }
 ],
 "metadata": {
  "kernelspec": {
   "display_name": "Python 3 (ipykernel)",
   "language": "python",
   "name": "python3"
  },
  "language_info": {
   "codemirror_mode": {
    "name": "ipython",
    "version": 3
   },
   "file_extension": ".py",
   "mimetype": "text/x-python",
   "name": "python",
   "nbconvert_exporter": "python",
   "pygments_lexer": "ipython3",
   "version": "3.9.13"
  }
 },
 "nbformat": 4,
 "nbformat_minor": 5
}
