{
 "cells": [
  {
   "cell_type": "markdown",
   "id": "6cd396ca",
   "metadata": {},
   "source": [
    "#### Q1. Which function is used to open a file? What are the different modes of opening a file? Explain each mode of file opening."
   ]
  },
  {
   "cell_type": "markdown",
   "id": "511c5966",
   "metadata": {},
   "source": [
    "In Python, we use the open() method to open files."
   ]
  },
  {
   "cell_type": "markdown",
   "id": "753b87ec",
   "metadata": {},
   "source": [
    "Diffrent Mode of opening file :\n",
    "    1) r (read) : Open for reading\n",
    "    2) w (write) : open for writing, truncating the file first\n",
    "    3) x : Create a new file and open it for writing\n",
    "    4) a : Open for writing appending to the end of the file if it exists\n",
    "    5) b : Binary mode    \n",
    "    6) t : Text Mode\n",
    "    7) + : Open a disk file for updating\n",
    "    8) U : Universal newline mode"
   ]
  },
  {
   "cell_type": "markdown",
   "id": "2f458699",
   "metadata": {},
   "source": [
    "#### Q2. Why close() function is used? Why is it important to close a file?"
   ]
  },
  {
   "cell_type": "markdown",
   "id": "52ba4796",
   "metadata": {},
   "source": [
    "it ensures that any pending writes that might be in a cache are completed and committed to the file, and also \n",
    "frees up memory that the operating system has been using to keep track of file information so that it can read \n",
    "and write to it efficiently, ensure that other programs don’t try to write to it at the same time"
   ]
  },
  {
   "cell_type": "markdown",
   "id": "93aab135",
   "metadata": {},
   "source": [
    "#### Q3. Write a python program to create a text file. Write ‘I want to become a Data Scientist’ in that file. Then close the file. Open this file and read the content of the file."
   ]
  },
  {
   "cell_type": "code",
   "execution_count": 1,
   "id": "a6124c2d",
   "metadata": {},
   "outputs": [],
   "source": [
    "with open('assignment.txt','w') as f:\n",
    "    f.write('I want to Become a Data scienctist')\n"
   ]
  },
  {
   "cell_type": "code",
   "execution_count": 3,
   "id": "6208e674",
   "metadata": {},
   "outputs": [
    {
     "name": "stdout",
     "output_type": "stream",
     "text": [
      "I want to Become a Data scienctist\n"
     ]
    }
   ],
   "source": [
    "with open('assignment.txt','r') as f:\n",
    "    print(f.read())"
   ]
  },
  {
   "cell_type": "markdown",
   "id": "71c2c4f5",
   "metadata": {},
   "source": [
    "#### Q5. Explain why with statement is used with open(). What is the advantage of using with statement and open() together?"
   ]
  },
  {
   "cell_type": "markdown",
   "id": "a1b6e190",
   "metadata": {},
   "source": [
    "The with statement in Python is used for resource management and exception handling. You’d most likely find it when working with file streams. For example, the statement ensures that the file stream process doesn’t block other processes if an exception is raised, but terminates properly."
   ]
  },
  {
   "cell_type": "markdown",
   "id": "c6a7f925",
   "metadata": {},
   "source": [
    "Advantage : \n",
    "    “With” statement can help in many tasks that need to be performed at the start or end of a procedure.\n",
    "E.g. In the case of file handling, you can define methods that can open and close the file for you. Or you are creating an app where you need to contact with a database, there you need to start a connection when the data transfer takes place and end the connection when the transfer is done.\n",
    "“with” has a condition that it works with objects that support context management protocol, or it works with objects that have an __enter()__ and __exit()__ method.\n",
    "\n",
    "We can make our own class with these methods and that will enable us to use “with”.\n",
    "\n"
   ]
  },
  {
   "cell_type": "markdown",
   "id": "3bd9512b",
   "metadata": {},
   "source": [
    "#### Q6 : Explain the write() and writelines() functions. Give a suitable example."
   ]
  },
  {
   "cell_type": "markdown",
   "id": "9faee1da",
   "metadata": {},
   "source": [
    "The write() method writes a specified text to the file. Where the specified text will be inserted depends on the file mode and stream position."
   ]
  },
  {
   "cell_type": "code",
   "execution_count": null,
   "id": "47fe1fef",
   "metadata": {},
   "outputs": [],
   "source": [
    "with open('assignment.txt','w') as f:\n",
    "    f.write('I want to Become a Data scienctist')"
   ]
  },
  {
   "cell_type": "markdown",
   "id": "053ecca0",
   "metadata": {},
   "source": [
    "The writelines() method writes the items of a list to the file."
   ]
  },
  {
   "cell_type": "code",
   "execution_count": null,
   "id": "bce5b26f",
   "metadata": {},
   "outputs": [],
   "source": [
    "with open('assignment.txt','w') as f:\n",
    "    f.writelines(['I want to Become a Data scienctist'])"
   ]
  }
 ],
 "metadata": {
  "kernelspec": {
   "display_name": "Python 3 (ipykernel)",
   "language": "python",
   "name": "python3"
  },
  "language_info": {
   "codemirror_mode": {
    "name": "ipython",
    "version": 3
   },
   "file_extension": ".py",
   "mimetype": "text/x-python",
   "name": "python",
   "nbconvert_exporter": "python",
   "pygments_lexer": "ipython3",
   "version": "3.9.13"
  }
 },
 "nbformat": 4,
 "nbformat_minor": 5
}
