{
 "cells": [
  {
   "cell_type": "markdown",
   "id": "0c042298",
   "metadata": {},
   "source": [
    "### Q1. Which keyword is used to create a function? Create a function to return a list of odd numbers in the range of 1 to 25."
   ]
  },
  {
   "cell_type": "markdown",
   "id": "6e74b625",
   "metadata": {},
   "source": [
    "'def' keyword is used to create function."
   ]
  },
  {
   "cell_type": "markdown",
   "id": "863f86ae",
   "metadata": {},
   "source": [
    "code:"
   ]
  },
  {
   "cell_type": "code",
   "execution_count": 29,
   "id": "e9117673",
   "metadata": {},
   "outputs": [
    {
     "data": {
      "text/plain": [
       "[1, 3, 5, 7, 9, 11, 13, 15, 17, 19, 21, 23, 25]"
      ]
     },
     "execution_count": 29,
     "metadata": {},
     "output_type": "execute_result"
    }
   ],
   "source": [
    "def odd_num(number_list):\n",
    "    output = []\n",
    "    for i in number_list:\n",
    "        if i % 2 != 0:\n",
    "            output.append(i)\n",
    "    return output\n",
    "\n",
    "odd_num([i for i in range(0,26)])\n",
    "            "
   ]
  },
  {
   "cell_type": "markdown",
   "id": "a24236aa",
   "metadata": {},
   "source": [
    "### Q2. Why *args and **kwargs is used in some functions? Create a function each for *args and **kwargs to demonstrate their use."
   ]
  },
  {
   "cell_type": "markdown",
   "id": "083c1a25",
   "metadata": {},
   "source": [
    "*args is used to pass infinite number of str,int,list or etc as  parameter to a function \n",
    "while **kwargs is used to pass infinite number of key and value as pair as parameter to function "
   ]
  },
  {
   "cell_type": "code",
   "execution_count": 30,
   "id": "55e726a4",
   "metadata": {},
   "outputs": [
    {
     "name": "stdout",
     "output_type": "stream",
     "text": [
      "*args: (1, 2, 3, (4, 5, 6), ['a', 'b', 'c'], {1: 'a', 2: 'b', 3: 'c'})\n",
      "**kwargs: {'a': 'pw', 'b': (1, 2, 3), 'c': [4, 5, 6], 'd': {'a': 'z', 'b': 'y'}}\n"
     ]
    }
   ],
   "source": [
    "def test1(*args):\n",
    "    return args\n",
    "print(\"*args:\" , test1(1,2,3,(4,5,6),['a','b','c'],{1:'a',2:'b',3:'c'}))\n",
    "\n",
    "def test2(**kwargs):\n",
    "    return kwargs\n",
    "print(\"**kwargs:\", test2(a='pw',b=(1,2,3),c=[4,5,6],d={'a':'z','b':'y'}))"
   ]
  },
  {
   "cell_type": "markdown",
   "id": "a234dec8",
   "metadata": {},
   "source": [
    "### Q3. What is an iterator in python? Name the method used to initialise the iterator object and the method used for iteration. Use these methods to print the first five elements of the given list [2, 4, 6, 8, 10, 12, 14, 16,18, 20]."
   ]
  },
  {
   "cell_type": "markdown",
   "id": "04836d2f",
   "metadata": {},
   "source": [
    "An iterator is an object that contains a countable number of values. An iterator is an object that can be iterated upon, meaning\n",
    "that you can traverse through all the values."
   ]
  },
  {
   "cell_type": "code",
   "execution_count": 31,
   "id": "08b7a5c9",
   "metadata": {},
   "outputs": [
    {
     "ename": "SyntaxError",
     "evalue": "invalid syntax (1880487783.py, line 1)",
     "output_type": "error",
     "traceback": [
      "\u001b[1;36m  File \u001b[1;32m\"C:\\Users\\Lenovo\\AppData\\Local\\Temp\\ipykernel_2036\\1880487783.py\"\u001b[1;36m, line \u001b[1;32m1\u001b[0m\n\u001b[1;33m    to initialize iterator iter() method is used while for iteration next() method is used.\u001b[0m\n\u001b[1;37m       ^\u001b[0m\n\u001b[1;31mSyntaxError\u001b[0m\u001b[1;31m:\u001b[0m invalid syntax\n"
     ]
    }
   ],
   "source": [
    "to initialize iterator iter() method is used while for iteration next() method is used."
   ]
  },
  {
   "cell_type": "code",
   "execution_count": 32,
   "id": "20f20722",
   "metadata": {},
   "outputs": [
    {
     "name": "stdout",
     "output_type": "stream",
     "text": [
      "2\n",
      "4\n",
      "6\n",
      "8\n",
      "10\n"
     ]
    }
   ],
   "source": [
    "number = [i for i in range(1,21) if i%2==0]\n",
    "iterator = iter(number)\n",
    "for i in range(0,5):\n",
    "    val = next(iterator)\n",
    "    print(val)"
   ]
  },
  {
   "cell_type": "markdown",
   "id": "b8343bf1",
   "metadata": {},
   "source": [
    "### Q4. What is a generator function in python? Why yield keyword is used? Give an example of a generator function."
   ]
  },
  {
   "cell_type": "markdown",
   "id": "b44d14e6",
   "metadata": {},
   "source": [
    "Generator is function that returns an iterator that produces sequence of value where it iterated, it is useful when we want to \n",
    "produce large sequence of value."
   ]
  },
  {
   "cell_type": "code",
   "execution_count": 33,
   "id": "5a5a27b7",
   "metadata": {},
   "outputs": [
    {
     "name": "stdout",
     "output_type": "stream",
     "text": [
      "<generator object even_num at 0x000001A3110A8D60>\n",
      "2\n",
      "4\n",
      "6\n",
      "8\n",
      "10\n"
     ]
    }
   ],
   "source": [
    "# example\n",
    "def even_num(num_list):\n",
    "    for i in num_list:\n",
    "        if i%2 == 0:\n",
    "            yield i\n",
    "    return i\n",
    "x = even_num([i for i in range(1,11)])\n",
    "print(x)\n",
    "for i in x:\n",
    "    print(i)"
   ]
  },
  {
   "cell_type": "markdown",
   "id": "7f989382",
   "metadata": {},
   "source": [
    "### Q5. Create a generator function for prime numbers less than 1000. Use the next() method to print the first 20 prime numbers."
   ]
  },
  {
   "cell_type": "code",
   "execution_count": 35,
   "id": "9e9aeeb1",
   "metadata": {
    "scrolled": true
   },
   "outputs": [
    {
     "name": "stdout",
     "output_type": "stream",
     "text": [
      "<generator object prime_num at 0x000001A3110A8040>\n",
      "2\n",
      "3\n",
      "5\n",
      "7\n",
      "11\n",
      "13\n",
      "17\n",
      "19\n",
      "23\n",
      "29\n",
      "31\n",
      "37\n",
      "41\n",
      "43\n",
      "47\n",
      "53\n",
      "59\n",
      "61\n",
      "67\n",
      "71\n",
      "73\n"
     ]
    }
   ],
   "source": [
    "def prime_num(num_list): \n",
    "    for i in num_list:\n",
    "        if i > 1:\n",
    "            for j in range(2,i):\n",
    "                if i%j == 0:\n",
    "                    break\n",
    "            else:\n",
    "                yield i\n",
    "    return i\n",
    "num = prime_num([i for i in range(1,1001)])\n",
    "print(num)\n",
    "for i in range(0,21):\n",
    "    x = next(num)\n",
    "    print(x)"
   ]
  },
  {
   "cell_type": "code",
   "execution_count": null,
   "id": "feb0951d",
   "metadata": {},
   "outputs": [],
   "source": []
  }
 ],
 "metadata": {
  "kernelspec": {
   "display_name": "Python 3 (ipykernel)",
   "language": "python",
   "name": "python3"
  },
  "language_info": {
   "codemirror_mode": {
    "name": "ipython",
    "version": 3
   },
   "file_extension": ".py",
   "mimetype": "text/x-python",
   "name": "python",
   "nbconvert_exporter": "python",
   "pygments_lexer": "ipython3",
   "version": "3.9.13"
  }
 },
 "nbformat": 4,
 "nbformat_minor": 5
}
