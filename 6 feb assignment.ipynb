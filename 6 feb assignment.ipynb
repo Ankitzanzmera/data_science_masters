{
 "cells": [
  {
   "cell_type": "markdown",
   "id": "69546e44",
   "metadata": {},
   "source": [
    "### Q1. Create a function which will take a list as an argument and return the product of all the numbers after creating a flat list. Use the below-given list as an argument for your function.\n",
    "#### list1 = [1,2,3,4, [44,55,66, True], False, (34,56,78,89,34), {1,2,,3,2,1}, {1:34, \"key2\": [55, 67, 78, 89], 4: (45, 22, 61, 34)}, [56, 'data science'], 'Machine Learning']"
   ]
  },
  {
   "cell_type": "code",
   "execution_count": 8,
   "id": "020276d8",
   "metadata": {},
   "outputs": [
    {
     "name": "stdout",
     "output_type": "stream",
     "text": [
      "1033677959746771369708460310528000\n"
     ]
    }
   ],
   "source": [
    "list1 = [1,2,3,4, [44,55,66, True], False, (34,56,78,89,34), {1,2,3,3,2,1}, {1:34, \"key2\": [55, 67, 78, 89], 4: (45, 22, 61, 34)}, [56, 'data science'], 'Machine Learning']\n",
    "\n",
    "def find_numeric_product(list1): #this function will extract all numeric value for given list and will make a new list of numeric value\n",
    "    numeric_list = []\n",
    "    for i in list1:\n",
    "        if type(i) == int:\n",
    "            numeric_list.append(i)\n",
    "        elif type(i) == list:\n",
    "            for x in i:\n",
    "                if type(x) == int:\n",
    "                    numeric_list.append(x)\n",
    "        elif type(i) == tuple:\n",
    "            for x in i:\n",
    "                if type(x) == int:\n",
    "                    numeric_list.append(x)\n",
    "        elif type(i) == set:\n",
    "            for x in i:\n",
    "                if type(x) == int:\n",
    "                    numeric_list.append(x)\n",
    "        elif type(i) == dict:\n",
    "            temp = i.values() \n",
    "            for x in temp:\n",
    "                if type(x) == int:\n",
    "                    numeric_list.append(x)\n",
    "                elif type(x) == list:\n",
    "                    for y in x:\n",
    "                        if type(y) == int:\n",
    "                            numeric_list.append(y)\n",
    "                elif type(x) == tuple:\n",
    "                    for y in x:\n",
    "                        if type(y) == int:\n",
    "                             numeric_list.append(y)\n",
    "    return get_product(numeric_list) #in return statement it will call another function and send numeric list to function and will get product of list and will return to where it was called.\n",
    "\n",
    "def get_product(list1): # this function will find product\n",
    "    product = 1\n",
    "    for i in list1:\n",
    "        product = product * i\n",
    "    return product\n",
    "\n",
    "print(find_numeric_product(list1))"
   ]
  },
  {
   "cell_type": "markdown",
   "id": "cf75c731",
   "metadata": {},
   "source": [
    "### Q2. Write a python program for encrypting a message sent to you by your friend. The logic of encryption should be such that, for a the output should be z. For b, the output should be y. For c, the output should be x respectively. Also, the whitespace should be replaced with a dollar sign. Keep the punctuation marks unchanged.\n",
    "\n",
    "#### Input Sentence: I want to become a Data Scientist.\n",
    "#### Encrypt the above input sentence using the program you just created."
   ]
  },
  {
   "cell_type": "code",
   "execution_count": 9,
   "id": "945b0729",
   "metadata": {},
   "outputs": [
    {
     "name": "stdout",
     "output_type": "stream",
     "text": [
      "Enter Massage to Encrypt ::--I want to become a Data Scientist.\n",
      "The encrypted Message of <I want to become a Data Scientist.> is -- <R@dzmg@gl@yvxlnv@z@Wzgz@Hxrvmgrhg>\n"
     ]
    }
   ],
   "source": [
    "cap_alphabet = [chr(i) for i in range(65,91)] # All Capital alphabet\n",
    "cap_rev_alphabet = [chr(i) for i in range(90,64,-1)] # All Capital alphbet but in reversed\n",
    "small_alphabet = [chr(i) for i in range(97,123)] # all Small Alphabet\n",
    "small_rev_alphabet = [chr(i) for i in range(122,96,-1)] #all Small Alphabet But in Reversed\n",
    "\n",
    "def merge(list1,list2):  #it will two list into dictionary\n",
    "    dictionary = {}\n",
    "    for i,j in zip(list1,list2):\n",
    "        dictionary.update({i:j})\n",
    "    return dictionary\n",
    "\n",
    "capital_letter = merge(cap_alphabet,cap_rev_alphabet)\n",
    "small_letter = merge(small_alphabet,small_rev_alphabet) \n",
    "all_alphabets = {**capital_letter,**small_letter} # it will merge two Dictionary\n",
    "all_alphabets[' '] = '@'\n",
    "\n",
    "msg = input(\"Enter Massage to Encrypt ::--\")\n",
    "\n",
    "inputed_msg = [i for i in msg] \n",
    "\n",
    "encrypted_msg = ''\n",
    "for i in inputed_msg:  # it will check each alphabet which was given in input and make output of their respective values\n",
    "    if i in all_alphabets:\n",
    "        encrypted_msg += all_alphabets[i]\n",
    "\n",
    "print(f'The encrypted Message of <{msg}> is -- <{encrypted_msg}>')"
   ]
  },
  {
   "cell_type": "code",
   "execution_count": null,
   "id": "6d13760a",
   "metadata": {},
   "outputs": [],
   "source": []
  }
 ],
 "metadata": {
  "kernelspec": {
   "display_name": "Python 3 (ipykernel)",
   "language": "python",
   "name": "python3"
  },
  "language_info": {
   "codemirror_mode": {
    "name": "ipython",
    "version": 3
   },
   "file_extension": ".py",
   "mimetype": "text/x-python",
   "name": "python",
   "nbconvert_exporter": "python",
   "pygments_lexer": "ipython3",
   "version": "3.9.13"
  }
 },
 "nbformat": 4,
 "nbformat_minor": 5
}
