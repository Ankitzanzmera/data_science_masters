{
 "cells": [
  {
   "cell_type": "markdown",
   "id": "2e9fbb67",
   "metadata": {},
   "source": [
    "#### Q1. What is an API? Give an example, where an API is used in real life."
   ]
  },
  {
   "cell_type": "markdown",
   "id": "f88e185d",
   "metadata": {},
   "source": [
    "APIs are mechanisms that enable two software components to communicate with each other using a set of definitions and protocols."
   ]
  },
  {
   "cell_type": "markdown",
   "id": "091887d3",
   "metadata": {},
   "source": [
    "For example, the weather bureau’s software system contains daily weather data. The weather app on your phone “talks” to this system via APIs and shows you daily weather updates on your phone."
   ]
  },
  {
   "cell_type": "markdown",
   "id": "5c4d44c4",
   "metadata": {},
   "source": [
    "#### Q2. Give advantages and disadvantages of using API."
   ]
  },
  {
   "cell_type": "markdown",
   "id": "5a7a66c8",
   "metadata": {},
   "source": [
    "Advantage : \n",
    "    1) Increased visibility and traffic\n",
    "    2) Seamless intregration\n",
    "    3) increased efficiency\n",
    "    4) easier maintanance\n",
    "    5) Reduced Costs\n",
    "    6) improve customer experience\n",
    " \n",
    "Disadvantage : \n",
    "    1) Increased complexity\n",
    "    2) Limited Functionaliy\n",
    "    3) Dependency on third party service\n",
    "    4) Security and privacy Risks\n",
    "    "
   ]
  },
  {
   "cell_type": "markdown",
   "id": "cfe0803a",
   "metadata": {},
   "source": [
    "#### Q3. What is a Web API? Differentiate between API and Web API."
   ]
  },
  {
   "cell_type": "markdown",
   "id": "a9642f27",
   "metadata": {},
   "source": [
    "Web api : WEB API is the subset of API, The normal api works on TCP/IP protocol while web api works on HTTP protocol, in lame man language the tranfer an dreciving of data on teh web by following HTTP protocols is called web api\n"
   ]
  },
  {
   "cell_type": "markdown",
   "id": "439084d4",
   "metadata": {},
   "source": [
    "Implementation: APIs can be implemented using any programming language or technology, while Web APIs are typically implemented using web-based languages and frameworks, such as JavaScript, XML, or JSON.\n",
    "\n",
    "Platform: APIs can be used on any platform, including desktop applications, mobile devices, and embedded systems, while Web APIs are specifically designed for use on web-based applications.\n",
    "\n",
    "Scope: API is a general term that can refer to any type of interface for accessing software functionality or data, while Web API specifically refers to APIs that use web-based protocols.\n",
    "\n",
    "Access: APIs can be accessed through a variety of different methods, such as local function calls or network sockets, while Web APIs are typically accessed over the internet using HTTP or other web protocols.\n",
    "\n",
    "Standards: Web APIs often follow specific standards, such as REST or SOAP (Simple Object Access Protocol), while APIs may or may not follow any specific standards or protocols."
   ]
  },
  {
   "cell_type": "markdown",
   "id": "323bf180",
   "metadata": {},
   "source": [
    "#### Q4. Explain REST and SOAP Architecture. Mention shortcomings of SOAP."
   ]
  },
  {
   "cell_type": "markdown",
   "id": "8ed6a521",
   "metadata": {},
   "source": [
    "REST (Representational State Transfer) is a lightweight, web-based architecture that uses the HTTP protocol to exchange data between clients and servers.The API client can then interact with these resources using the HTTP methods (GET, POST, PUT, DELETE) to retrieve, create, update, or delete data.\n",
    "\n",
    "SOAP (Simple Object Access Protocol) is a more complex architecture that uses XML to transfer data between clients and servers. SOAP is more heavyweight than REST and is designed to work with more complex distributed systems.SOAP defines a set of rules for how messages should be formatted and sent between applications, including a message envelope, header, and body.\n"
   ]
  },
  {
   "cell_type": "markdown",
   "id": "83b44a94",
   "metadata": {},
   "source": [
    "Some Short Comming of SOAP : \n",
    "\n",
    "Limited Support: SOAP has limited support for caching, which can lead to slower performance and increased network traffic.\n",
    "\n",
    "Complexity: SOAP is more complex and has a steeper learning curve than REST, which can make it more difficult for developers to use.\n",
    "\n",
    "Overhead: SOAP messages are typically larger and more verbose than REST messages, which can lead to increased network traffic and slower performance."
   ]
  },
  {
   "cell_type": "markdown",
   "id": "4512c08a",
   "metadata": {},
   "source": [
    "#### Q5. Differentiate between REST and SOAP."
   ]
  },
  {
   "cell_type": "markdown",
   "id": "9b2ff005",
   "metadata": {},
   "source": [
    "REST(Representational State Transfer) :\n",
    "\n",
    "Security : It is less secure than SOAP.\n",
    "Protocol : It uses HTTP protocol only for Data Transfering.\n",
    "Weight : It is very light weight.\n",
    "Language : It send data in JSON(Java Script Object Notation).\n",
    "Speed : REST API's are Faster than SOAP API's."
   ]
  },
  {
   "cell_type": "markdown",
   "id": "5ef63d17",
   "metadata": {},
   "source": [
    "SOAP(Simple Object Access Protocol) :\n",
    "\n",
    "Security : It is more secure than REST.\n",
    "Protocol : It uses SMTP, TCP/IP , HTTP protocol for Data Transfering.\n",
    "Weight : It is heavy weight.\n",
    "Language : It send data in XML(Extensible Markup Language).\n",
    "Speed : SOAP API's are Slower than REST API's."
   ]
  }
 ],
 "metadata": {
  "kernelspec": {
   "display_name": "Python 3 (ipykernel)",
   "language": "python",
   "name": "python3"
  },
  "language_info": {
   "codemirror_mode": {
    "name": "ipython",
    "version": 3
   },
   "file_extension": ".py",
   "mimetype": "text/x-python",
   "name": "python",
   "nbconvert_exporter": "python",
   "pygments_lexer": "ipython3",
   "version": "3.9.13"
  }
 },
 "nbformat": 4,
 "nbformat_minor": 5
}
