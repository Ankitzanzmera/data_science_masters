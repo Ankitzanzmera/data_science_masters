{
 "cells": [
  {
   "cell_type": "markdown",
   "id": "edee4389",
   "metadata": {},
   "source": [
    "#### Q1. You are writing code for a company. The requirement of the company is that you create a python function that will check whether the password entered by the user is correct or not. The function should take the password as input and return the string “Valid Password” if the entered password follows the below-given password guidelines else it should return “Invalid Password”.\n",
    "#### Note:\n",
    "#####        1. The Password should contain at least two uppercase letters and at least two lowercase letters.\n",
    "#####        2. The Password should contain at least a number and three special characters.\n",
    "#####        3. The length of the password should be 10 characters long."
   ]
  },
  {
   "cell_type": "code",
   "execution_count": 121,
   "id": "06bc944e",
   "metadata": {},
   "outputs": [
    {
     "name": "stdout",
     "output_type": "stream",
     "text": [
      "Enter A Password ::-- qazdwaWDSKM!@#$1234\n",
      "Valid Password\n"
     ]
    }
   ],
   "source": [
    "A = ord('A')\n",
    "a = ord('a')\n",
    "capital_letter = [chr(i+A) for i in range(26)]\n",
    "small_letter  = [chr(i+a) for i in range(26)]\n",
    "numeric = [i for i in range(10)]\n",
    "special_char = ['!','#','$','%','&','(',')','*','+',',','-','.','/',':',';','<','=','>','?','@','[',']','^','_',\n",
    "                '`','{','|','}','~']\n",
    "\n",
    "def check_pwd(pwd):\n",
    "    upper,lower,special,numbers = 0,0,0,0\n",
    "    if len(pwd) >= 10:\n",
    "        for i in pwd:\n",
    "            if i in capital_letter:\n",
    "                upper += 1\n",
    "            elif i in small_letter:\n",
    "                lower += 1\n",
    "            elif i in special_char:\n",
    "                special += 1\n",
    "            elif int(i) in numeric:\n",
    "                numbers += 1\n",
    "    else:\n",
    "        print('Invalid Password...')\n",
    "    return upper,lower,special,numbers\n",
    "\n",
    "password = input('Enter A Password ::-- ')\n",
    "upper,lower,special,numbers = check_pwd(password)\n",
    "if upper >= 2 and lower >= 2 and special >= 3 and numbers >= 1 :\n",
    "    print('Valid Password')\n",
    "else:\n",
    "    print('Invalid Password')"
   ]
  },
  {
   "cell_type": "markdown",
   "id": "037bb420",
   "metadata": {},
   "source": [
    "### Q2. Solve the below-given questions using at least one of the following:\n",
    "####    1. Lambda function\n",
    "####    2. Filter function\n",
    "####    3. Map function\n",
    "####    4. List Comprehension\n",
    "\n",
    "####    --> Check if the string starts with a particular letter.\n",
    "####    --> Check if the string is numeric.\n",
    "####    --> Sort a list of tuples having fruit names and their quantity. [(\"mango\",99),(\"orange\",80), (\"grapes\", 1000)]\n",
    "####    --> Find the squares of numbers from 1 to 10.\n",
    "####    --> Find the cube root of numbers from 1 to 10.\n",
    "####    --> Check if a given number is even.\n",
    "####    -->  Filter odd numbers from the given list. [1,2,3,4,5,6,7,8,9,10]\n",
    "####    --> Sort a list of integers into positive and negative integers lists. [1,2,3,4,5,6,-1,-2,-3,-4,-5,0]"
   ]
  },
  {
   "cell_type": "code",
   "execution_count": 122,
   "id": "5d2d06a0",
   "metadata": {},
   "outputs": [
    {
     "name": "stdout",
     "output_type": "stream",
     "text": [
      "PwSkills\n",
      "None\n",
      "[80, 99, 1000]\n",
      "[1, 4, 9, 16, 25, 36, 49, 64, 81, 100]\n",
      "[1, 8, 27, 64, 125, 216, 343, 512, 729, 1000]\n",
      "[2, 4, 6, 8, 10]\n",
      "[1, 3, 5, 7, 9]\n",
      "[0, 1, 2, 3, 4, 5, 6] [-5, -4, -3, -2, -1]\n"
     ]
    }
   ],
   "source": [
    "# lambda functions\n",
    "\n",
    "string = 'PwSkills'\n",
    "list1 = [i for i in range(1,11)]\n",
    "list2 = [(\"mango\",99),(\"orange\",80), (\"grapes\", 1000)]\n",
    "list3 = [1,2,3,4,5,6,-1,-2,-3,-4,-5,0]\n",
    "\n",
    "func = lambda x :x if x[0] == 'P' else None\n",
    "print(func(string))\n",
    "\n",
    "func = lambda x :x if x.isnumeric() else None\n",
    "print(func(string))\n",
    "\n",
    "func = sorted(map(lambda x:x[1],list2))\n",
    "print(func)\n",
    "\n",
    "x = list(map(lambda x :x*x,list1))\n",
    "print(x)\n",
    "\n",
    "x = list(map(lambda x :x*x*x,list1))\n",
    "print(x)\n",
    "\n",
    "x = list(filter(lambda x:x%2==0,list1))\n",
    "print(x)\n",
    "\n",
    "x = list(filter(lambda x:x%2!=0,list1))\n",
    "print(x)\n",
    "\n",
    "p = []\n",
    "n = []\n",
    "x = list(map(lambda x:p.append(x) if x >= 0 else n.append(x),list3))\n",
    "p.sort(),n.sort()\n",
    "print(p,n)"
   ]
  },
  {
   "cell_type": "code",
   "execution_count": null,
   "id": "5fe5fbfa",
   "metadata": {},
   "outputs": [],
   "source": []
  }
 ],
 "metadata": {
  "kernelspec": {
   "display_name": "Python 3 (ipykernel)",
   "language": "python",
   "name": "python3"
  },
  "language_info": {
   "codemirror_mode": {
    "name": "ipython",
    "version": 3
   },
   "file_extension": ".py",
   "mimetype": "text/x-python",
   "name": "python",
   "nbconvert_exporter": "python",
   "pygments_lexer": "ipython3",
   "version": "3.9.13"
  }
 },
 "nbformat": 4,
 "nbformat_minor": 5
}
