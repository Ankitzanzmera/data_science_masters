{
 "cells": [
  {
   "cell_type": "markdown",
   "id": "683ebbcc",
   "metadata": {},
   "source": [
    "### Q1. Explain Class and Object with respect to Object-Oriented Programming. Give a suitable example."
   ]
  },
  {
   "cell_type": "markdown",
   "id": "392cce28",
   "metadata": {},
   "source": [
    "#### The class basically is the blueprint which contains methods and instance variables and the object is associated with the class by using object we can access the methods of the respected class the object is anything which is having some properties and behaviours\n",
    "#### for an example bellow is the code in which i have created one simple class and also created object of thet class"
   ]
  },
  {
   "cell_type": "code",
   "execution_count": 18,
   "id": "09fd1d12",
   "metadata": {},
   "outputs": [
    {
     "name": "stdout",
     "output_type": "stream",
     "text": [
      "Welcome to the PW Skills\n"
     ]
    }
   ],
   "source": [
    "class pwskills:\n",
    "    def msg(self):\n",
    "        print('Welcome to the PW Skills')\n",
    "        \n",
    "object = pwskills()\n",
    "object.msg()"
   ]
  },
  {
   "cell_type": "markdown",
   "id": "efa1dd52",
   "metadata": {},
   "source": [
    "### Q2. Name the four pillars of OOPs."
   ]
  },
  {
   "cell_type": "markdown",
   "id": "8ff2b134",
   "metadata": {},
   "source": [
    "1) Inheritance\n",
    "2) Polymorphism\n",
    "3) Abstraction\n",
    "4) Encapsulation"
   ]
  },
  {
   "cell_type": "markdown",
   "id": "0a08e572",
   "metadata": {},
   "source": [
    "### Q3. Explain why the init() function is used. Give a suitable example."
   ]
  },
  {
   "cell_type": "markdown",
   "id": "59c00a27",
   "metadata": {},
   "source": [
    "while creating an object of a perticular class if we want to pass some of the variables with the oject and also want to access them separately then we need to define a constructor fo that perticular class\n",
    "init() is the constructor that takes values from the object and pass them tho the instance variables\n",
    "So that whenever we want to access them we can access them with a respective variable name"
   ]
  },
  {
   "cell_type": "code",
   "execution_count": 19,
   "id": "2e6f536b",
   "metadata": {},
   "outputs": [],
   "source": [
    "class college:\n",
    "    def __init__(self,name,phone,id):\n",
    "        self.name = name\n",
    "        self.phone = phone\n",
    "        self.id = id\n",
    "    \n",
    "    def show_msg(self):\n",
    "        print(f'Welcome {self.name} to the Pw skills')\n",
    "        print(f'Your Phone No is {self.phone}')\n",
    "        print(f'Your Id is {self.id}')\n",
    "        "
   ]
  },
  {
   "cell_type": "code",
   "execution_count": 20,
   "id": "9b61d03b",
   "metadata": {},
   "outputs": [
    {
     "name": "stdout",
     "output_type": "stream",
     "text": [
      "Welcome ankit to the Pw skills\n",
      "Your Phone No is 9328419\n",
      "Your Id is 52\n"
     ]
    }
   ],
   "source": [
    "msrds052 = college('ankit',9328419,52)\n",
    "msrds052.show_msg()"
   ]
  },
  {
   "cell_type": "markdown",
   "id": "4c064989",
   "metadata": {},
   "source": [
    "### Q4. Why self is used in OOPs?"
   ]
  },
  {
   "cell_type": "markdown",
   "id": "28cadf89",
   "metadata": {},
   "source": [
    "the self is used to mention that the perticular method belongs to the same class\n",
    "we can use any word instead of self just we have to pass that same word to the method also"
   ]
  },
  {
   "cell_type": "markdown",
   "id": "3e3c2cef",
   "metadata": {},
   "source": [
    "### Q5. What is inheritance? Give an example for each type of inheritance. "
   ]
  },
  {
   "cell_type": "markdown",
   "id": "e99b62ca",
   "metadata": {},
   "source": [
    "If a child class is able to access all the methods and instance variables of parent class then it can be defifines as the inheritance."
   ]
  },
  {
   "cell_type": "markdown",
   "id": "5057a2f9",
   "metadata": {},
   "source": [
    "Type Of Ineritance"
   ]
  },
  {
   "cell_type": "markdown",
   "id": "6812ef75",
   "metadata": {},
   "source": [
    "1) Single level inheritance "
   ]
  },
  {
   "cell_type": "code",
   "execution_count": null,
   "id": "4e1ab51d",
   "metadata": {},
   "outputs": [],
   "source": []
  },
  {
   "cell_type": "code",
   "execution_count": 21,
   "id": "1f558b67",
   "metadata": {},
   "outputs": [],
   "source": [
    "class TheClass1:\n",
    "    def fun1(self):\n",
    "        print(\"The Parent Class\")\n",
    "\n",
    "class TheClass2(TheClass1):\n",
    "    def fun2(self):\n",
    "        print(\"The Child Class\")"
   ]
  },
  {
   "cell_type": "code",
   "execution_count": 22,
   "id": "591567b2",
   "metadata": {},
   "outputs": [
    {
     "name": "stdout",
     "output_type": "stream",
     "text": [
      "The Parent Class\n",
      "The Child Class\n"
     ]
    }
   ],
   "source": [
    "obj1 = TheClass2()\n",
    "obj2 = TheClass1()\n",
    "obj1.fun1()\n",
    "obj1.fun2()"
   ]
  },
  {
   "cell_type": "markdown",
   "id": "6f7b6f18",
   "metadata": {},
   "source": [
    "2) Multiple Inheritance"
   ]
  },
  {
   "cell_type": "code",
   "execution_count": 23,
   "id": "db9b95c8",
   "metadata": {},
   "outputs": [],
   "source": [
    "class TheClass1:\n",
    "    def fun1(self):\n",
    "        print(\"The Parent Class\")\n",
    "\n",
    "class TheClass2:\n",
    "    def fun2(self):\n",
    "        print(\"The Parent Class\")\n",
    "        \n",
    "class TheClass3(TheClass1,TheClass2):\n",
    "    def fun3(self):\n",
    "        print(\"The Child Class\")"
   ]
  },
  {
   "cell_type": "code",
   "execution_count": 24,
   "id": "f7e07fec",
   "metadata": {},
   "outputs": [
    {
     "name": "stdout",
     "output_type": "stream",
     "text": [
      "The Parent Class\n",
      "The Parent Class\n"
     ]
    }
   ],
   "source": [
    "obj = TheClass3()\n",
    "obj.fun1()\n",
    "obj.fun2()"
   ]
  },
  {
   "cell_type": "markdown",
   "id": "82cd173f",
   "metadata": {},
   "source": [
    "3) Multilevel Inheritance"
   ]
  },
  {
   "cell_type": "code",
   "execution_count": 25,
   "id": "2af689c1",
   "metadata": {},
   "outputs": [],
   "source": [
    "class TheClass1:\n",
    "    def fun1(self):\n",
    "        print(\"The Parent Class\")\n",
    "\n",
    "class TheClass2(TheClass1):\n",
    "    def fun2(self):\n",
    "        print(\"The child 1 Class\")\n",
    "        \n",
    "class TheClass3(TheClass2):\n",
    "    def fun3(self):\n",
    "        print(\"The Child 2 Class\")"
   ]
  },
  {
   "cell_type": "code",
   "execution_count": 26,
   "id": "62e43dd4",
   "metadata": {},
   "outputs": [
    {
     "name": "stdout",
     "output_type": "stream",
     "text": [
      "The Parent Class\n",
      "The child 1 Class\n",
      "The Parent Class\n"
     ]
    }
   ],
   "source": [
    "obj = TheClass3()\n",
    "obj1 = TheClass2()\n",
    "obj.fun1()\n",
    "obj.fun2()\n",
    "obj1.fun1()"
   ]
  },
  {
   "cell_type": "markdown",
   "id": "e6bb36af",
   "metadata": {},
   "source": [
    "4) Hierarchical Inheritance"
   ]
  },
  {
   "cell_type": "code",
   "execution_count": 27,
   "id": "8e8d5149",
   "metadata": {},
   "outputs": [],
   "source": [
    "class TheClass1:\n",
    "    def fun1(self):\n",
    "        print(\"The Parent Class\")\n",
    "\n",
    "class TheClass2(TheClass1):\n",
    "    def fun2(self):\n",
    "        print(\"The child 1 Class\")\n",
    "        \n",
    "class TheClass3(TheClass1):\n",
    "    def fun3(self):\n",
    "        print(\"The Child 2 Class\")"
   ]
  },
  {
   "cell_type": "code",
   "execution_count": 28,
   "id": "4a27ba0c",
   "metadata": {},
   "outputs": [
    {
     "name": "stdout",
     "output_type": "stream",
     "text": [
      "The Parent Class\n",
      "The child 1 Class\n"
     ]
    }
   ],
   "source": [
    "obj5 = TheClass3()\n",
    "obj6 = TheClass2()\n",
    "obj5.fun1()\n",
    "obj6.fun2()"
   ]
  }
 ],
 "metadata": {
  "kernelspec": {
   "display_name": "Python 3 (ipykernel)",
   "language": "python",
   "name": "python3"
  },
  "language_info": {
   "codemirror_mode": {
    "name": "ipython",
    "version": 3
   },
   "file_extension": ".py",
   "mimetype": "text/x-python",
   "name": "python",
   "nbconvert_exporter": "python",
   "pygments_lexer": "ipython3",
   "version": "3.9.13"
  }
 },
 "nbformat": 4,
 "nbformat_minor": 5
}
