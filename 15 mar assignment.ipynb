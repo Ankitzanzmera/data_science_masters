{
 "cells": [
  {
   "cell_type": "markdown",
   "id": "0ec55368",
   "metadata": {},
   "source": [
    "#### Q1 explain following with examples \n",
    "##### 1) Artificial Intelligence\n",
    "##### 2) Machine learning\n",
    "##### 3) Deep learning"
   ]
  },
  {
   "cell_type": "markdown",
   "id": "c7bbee28",
   "metadata": {},
   "source": [
    "1. Artificial Intelligence:\n",
    "    AI refers to the development of intelligent machines\n",
    " that can perform tasks that usually require human intelligence. An example of AI is\n",
    " a self-driving car that can navigate and make decisions based on its surroundings,\n",
    " without human intervention.\n",
    " \n",
    "2. Machine Learning : \n",
    " ML is a subfield of AI that focuses on developing algorithms\n",
    " and statistical models that enable machines to learn from data without being explicitly\n",
    " programmed. An example of ML is a spam filter that can learn to distinguish between \n",
    "spam and non-spam emails based on examples of previously labeled data.\n",
    "\n",
    "3. Deep Learning - Deep learning is a subset of ML that uses artificial neural networks\n",
    " with multiple layers to learn hierarchical representations of data. An example of deep\n",
    "learning is a voice assistant like Siri or Alexa that can recognize and respond to \n",
    "natural language queries with a high degree of accuracy.\n",
    "\n"
   ]
  },
  {
   "cell_type": "markdown",
   "id": "25302c92",
   "metadata": {},
   "source": [
    "#### Q2- What is supervised learning? list some example "
   ]
  },
  {
   "cell_type": "markdown",
   "id": "921909c8",
   "metadata": {},
   "source": [
    "Supervised learning is a type of machine learning where a model is trained on a labeled\n",
    " dataset, where the input data is paired with corresponding output labels. The goal of\n",
    " supervised learning is to learn a mapping function from the input data to the output\n",
    " labels, which can then be used to make predictions on new, unseen data."
   ]
  },
  {
   "cell_type": "markdown",
   "id": "1957a512",
   "metadata": {},
   "source": [
    "Examples : \n",
    "   1. Image Classification\n",
    "   2. Speech recognition\n",
    "   3. Sentiment Analysis\n",
    "   4. Regression Analysis"
   ]
  },
  {
   "cell_type": "markdown",
   "id": "6b70c8e2",
   "metadata": {},
   "source": [
    "#### Q3- What is unsupervised learning? list some example "
   ]
  },
  {
   "cell_type": "markdown",
   "id": "982c4667",
   "metadata": {},
   "source": [
    "Unsupervised learning is a type of machine learning where a model is trained on an unlabeled dataset,\n",
    " without any corresponding output labels. The goal of unsupervised learning is to learn patterns, relationships,\n",
    " and structure within the data, without any explicit supervision."
   ]
  },
  {
   "cell_type": "markdown",
   "id": "f6c54b15",
   "metadata": {},
   "source": [
    "Examples :\n",
    "   1. Clustering\n",
    "   2. Dimensionality reduction\n",
    "   3. Anomaly Detection\n",
    "    "
   ]
  },
  {
   "cell_type": "markdown",
   "id": "003830a7",
   "metadata": {},
   "source": [
    "#### Q4- What is the difference between AI,ML,DL,DS"
   ]
  },
  {
   "cell_type": "markdown",
   "id": "0d332fef",
   "metadata": {},
   "source": [
    "1.Artificial Intelligence (AI) - AI refers to the development of machines or algorithms that can perform tasks that \n",
    "typically require human intelligence, such as speech recognition, image recognition, and decision making. AI encompasses\n",
    " a wide range of techniques and approaches, including machine learning and deep learning.\n",
    "\n",
    "2.Machine Learning (ML) - ML is a subset of AI that involves training algorithms to recognize patterns in data, without\n",
    " being explicitly programmed to do so. ML algorithms can learn from and make predictions on new data based on the patterns\n",
    " they've learned from previous data.\n",
    "\n",
    "3.Deep Learning (DL) - DL is a subset of ML that involves training deep neural networks, which are artificial neural\n",
    " networks with multiple layers, to recognize patterns in data. DL is particularly effective for tasks that involve large\n",
    " amounts of complex data, such as image and speech recognition.\n",
    "\n",
    "4.Data Science (DS) - DS refers to the interdisciplinary field that involves using statistical and computational techniques \n",
    "to extract insights and knowledge from data. DS encompasses a range of techniques, including machine learning and deep \n",
    "learning, and involves a variety of tasks such as data collection, data cleaning, data analysis, and data visualization. \n",
    "DS is often used in conjunction with AI and ML to develop intelligent systems and applications."
   ]
  },
  {
   "cell_type": "markdown",
   "id": "0ccf9807",
   "metadata": {},
   "source": [
    "#### Q5- What are the main differences between supervised, unsupervised, and semi-supervised learning?"
   ]
  },
  {
   "cell_type": "markdown",
   "id": "e7edfa16",
   "metadata": {},
   "source": [
    "the main differences between supervised, unsupervised, and semi-supervised learning:\n",
    "\n",
    "i. Supervised Learning:\n",
    "\n",
    "-Requires labeled data for training\n",
    "-The algorithm learns to map inputs to outputs based on labeled examples\n",
    "-The goal is to predict an output variable based on input variables\n",
    "-Examples: image classification, spam filtering, sentiment analysis\n",
    "\n",
    "\n",
    "ii. Unsupervised Learning:\n",
    "\n",
    "-Does not require labeled data for training\n",
    "-The algorithm learns to find patterns or structure in data without a specific output variable to predict\n",
    "-The goal is to explore and discover insights in data\n",
    "-Examples: clustering, anomaly detection, dimensionality reduction\n",
    "\n",
    "\n",
    "iii.Semi-Supervised Learning:\n",
    "\n",
    "-Uses both labeled and unlabeled data for training\n",
    "-The algorithm learns to map inputs to outputs based on a combination of labeled and unlabeled examples\n",
    "-The goal is to improve the accuracy of a supervised learning model by using additional unlabeled data\n",
    "-Examples: text classification, speech recognition, image recognition"
   ]
  },
  {
   "cell_type": "markdown",
   "id": "26f1b94f",
   "metadata": {},
   "source": [
    "#### Q6- What is train, test and validation split? Explain the importance of each term."
   ]
  },
  {
   "cell_type": "markdown",
   "id": "5400452b",
   "metadata": {},
   "source": [
    "Train, test, and validation split refers to the process of dividing a dataset into subsets for the\n",
    " purpose of building and evaluating a machine learning model. Here is the explanation of each term \n",
    "and their importance:\n",
    "1.Train set:\n",
    "\n",
    "-The subset of data used for training the machine learning model\n",
    "-It is the largest subset of data and typically accounts for 70-80% of the data\n",
    "-The model learns from the patterns in the train set to make predictions\n",
    "\n",
    "2.Test set:\n",
    "-The subset of data used for evaluating the performance of the model\n",
    "-It is used to estimate the accuracy of the model on new, unseen data\n",
    "-It is important to use a test set that is representative of the real-world data that \n",
    " the model will encounter in order to get an accurate estimate of the model's performance\n",
    "\n",
    "3.Validation set:\n",
    "-The subset of data used for tuning the hyperparameters of the model\n",
    "-Hyperparameters are settings that are not learned from the data, but rather set by the user prior \n",
    " to training the model\n",
    "-The purpose of the validation set is to choose the best hyperparameters for the model to achieve the\n",
    "  highest accuracy on the test set\n",
    "-It is important to use a validation set that is separate from the test set in order to avoid overfitting\n",
    "   the hyperparameters to the test set, which can lead to poor performance on new, unseen data."
   ]
  },
  {
   "cell_type": "markdown",
   "id": "65ce1fc5",
   "metadata": {},
   "source": [
    "##### Q7- How can unsupervised learning be used in anomaly detection?\n"
   ]
  },
  {
   "cell_type": "markdown",
   "id": "f4e0e39e",
   "metadata": {},
   "source": [
    "Unsupervised learning can be used for anomaly detection in the following way:\n",
    "\n",
    "1.Train an unsupervised learning model (such as clustering algorithms or dimensionality reduction techniques)\n",
    " on a dataset that contains both normal and anomalous instances.\n",
    "\n",
    "2.The unsupervised learning model learns the patterns in the normal instances and forms a representation of \n",
    "what is considered normal in the data.\n",
    "\n",
    "3.When the model is presented with a new, unseen instance, it compares the features of the instance to the\n",
    " learned normal patterns. If the instance is significantly different from the learned patterns, the model \n",
    " identifies it as an anomaly.\n",
    "\n",
    "4.The identified anomalies can be further analyzed and investigated to determine if they are truly anomalous\n",
    " or if they represent a new, previously unseen pattern in the data."
   ]
  },
  {
   "cell_type": "markdown",
   "id": "f214b24e",
   "metadata": {},
   "source": [
    "#### Q8- List down some commonly used supervised learning algorithms and unsupervised learning algorithms."
   ]
  },
  {
   "cell_type": "markdown",
   "id": "6ec7dbe6",
   "metadata": {},
   "source": [
    "Supervised Learning Algorithms:\n",
    "\n",
    "1.Linear Regression\n",
    "2.Logistic Regression\n",
    "3.Decision Trees\n",
    "4.Random Forest\n",
    "5.Support Vector Machines (SVM)\n",
    "6.K-Nearest Neighbors (KNN)\n",
    "7.Neural Networks\n",
    "\n",
    "\n",
    "Unsupervised Learning Algorithms:\n",
    "\n",
    "1.K-Means Clustering\n",
    "2.Hierarchical Clustering\n",
    "3.Principal Component Analysis (PCA)\n",
    "4.Independent Component Analysis (ICA)\n",
    "5.t-distributed Stochastic Neighbor Embedding (t-SNE)\n",
    "6.Apriori algorithm for Association Rule Mining\n",
    "7.Locality Sensitive Hashing (LSH) for Nearest Neighbor Search"
   ]
  },
  {
   "cell_type": "code",
   "execution_count": null,
   "id": "2b918235",
   "metadata": {},
   "outputs": [],
   "source": []
  },
  {
   "cell_type": "code",
   "execution_count": null,
   "id": "5e537aee",
   "metadata": {},
   "outputs": [],
   "source": []
  }
 ],
 "metadata": {
  "kernelspec": {
   "display_name": "Python 3 (ipykernel)",
   "language": "python",
   "name": "python3"
  },
  "language_info": {
   "codemirror_mode": {
    "name": "ipython",
    "version": 3
   },
   "file_extension": ".py",
   "mimetype": "text/x-python",
   "name": "python",
   "nbconvert_exporter": "python",
   "pygments_lexer": "ipython3",
   "version": "3.9.13"
  }
 },
 "nbformat": 4,
 "nbformat_minor": 5
}
