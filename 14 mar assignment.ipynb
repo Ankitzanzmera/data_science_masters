{
 "cells": [
  {
   "cell_type": "markdown",
   "id": "fe89c1de",
   "metadata": {},
   "source": [
    "#### Q1. Write a Python function that takes in two arrays of data and calculates the F-value for a variance ratio test. The function should return the F-value and the corresponding p-value for the test."
   ]
  },
  {
   "cell_type": "code",
   "execution_count": 6,
   "id": "fe137e3f",
   "metadata": {},
   "outputs": [
    {
     "name": "stdout",
     "output_type": "stream",
     "text": [
      "F-value: 0.25\n",
      "p-value: 0.10400000000000002\n"
     ]
    }
   ],
   "source": [
    "import numpy as np\n",
    "from scipy.stats import f\n",
    "\n",
    "def variance_ratio_test(x, y):\n",
    "    var_x = np.var(x)\n",
    "    var_y = np.var(y)\n",
    "    F = var_x / var_y\n",
    "\n",
    "    df_x = len(x) - 1\n",
    "    df_y = len(y) - 1\n",
    "\n",
    "    p_value = f.cdf(F, df_x, df_y)\n",
    "\n",
    "    return F, p_value\n",
    "x = [1, 2, 3, 4, 5]\n",
    "y = [2, 4, 6, 8, 10]\n",
    "\n",
    "F, p_value = variance_ratio_test(x, y)\n",
    "\n",
    "print(\"F-value:\", F)\n",
    "print(\"p-value:\", p_value)"
   ]
  },
  {
   "cell_type": "markdown",
   "id": "28e0546e",
   "metadata": {},
   "source": [
    "#### Q2. Given a significance level of 0.05 and the degrees of freedom for the numerator and denominator of an F-distribution, write a Python function that returns the critical F-value for a two-tailed test."
   ]
  },
  {
   "cell_type": "code",
   "execution_count": 8,
   "id": "b7e1f020",
   "metadata": {},
   "outputs": [
    {
     "name": "stdout",
     "output_type": "stream",
     "text": [
      "Critical F-value: 3.8586986662732143\n"
     ]
    }
   ],
   "source": [
    "from scipy.stats import f\n",
    "\n",
    "def critical_f_value(dfn, dfd, alpha=0.05):\n",
    "    f_value = f.ppf(1 - alpha / 2, dfn, dfd)\n",
    "    return f_value\n",
    "\n",
    "dfn = 3\n",
    "dfd = 20\n",
    "alpha = 0.05\n",
    "critical_f = critical_f_value(dfn, dfd, alpha)\n",
    "print(\"Critical F-value:\", critical_f)"
   ]
  },
  {
   "cell_type": "markdown",
   "id": "b5d2748a",
   "metadata": {},
   "source": [
    "#### Q3. Write a Python program that generates random samples from two normal distributions with known variances and uses an F-test to determine if the variances are equal. The program should output the F- value, degrees of freedom, and p-value for the test."
   ]
  },
  {
   "cell_type": "code",
   "execution_count": 9,
   "id": "57b13ef0",
   "metadata": {},
   "outputs": [
    {
     "name": "stdout",
     "output_type": "stream",
     "text": [
      "F-value: 0.7792593732703956\n",
      "Degrees of freedom numerator: 49\n",
      "Degrees of freedom denominator: 74\n",
      "p-value: 0.8229821876353054\n"
     ]
    }
   ],
   "source": [
    "import numpy as np\n",
    "from scipy.stats import f\n",
    "\n",
    "np.random.seed(123)\n",
    "\n",
    "n1 = 50\n",
    "n2 = 75\n",
    "mean1 = 10\n",
    "mean2 = 12\n",
    "var1 = 4\n",
    "var2 = 6\n",
    "\n",
    "sample1 = np.random.normal(loc=mean1, scale=np.sqrt(var1), size=n1)\n",
    "sample2 = np.random.normal(loc=mean2, scale=np.sqrt(var2), size=n2)\n",
    "\n",
    "F = np.var(sample1, ddof=1) / np.var(sample2, ddof=1)\n",
    "dfn = n1 - 1\n",
    "dfd = n2 - 1\n",
    "p_value = f.sf(F, dfn, dfd)\n",
    "\n",
    "print(\"F-value:\", F)\n",
    "print(\"Degrees of freedom numerator:\", dfn)\n",
    "print(\"Degrees of freedom denominator:\", dfd)\n",
    "print(\"p-value:\", p_value)"
   ]
  },
  {
   "cell_type": "markdown",
   "id": "77246365",
   "metadata": {},
   "source": [
    "#### Q4.The variances of two populations are known to be 10 and 15. A sample of 12 observations is taken from each population. Conduct an F-test at the 5% significance level to determine if the variances are significantly different."
   ]
  },
  {
   "cell_type": "markdown",
   "id": "6a8b0a95",
   "metadata": {},
   "source": [
    "Define the null hypothesis and alternative hypothesis:\n",
    "Null hypothesis (H0): The variances of the two populations are equal.\n",
    "Alternative hypothesis (HA): The variances of the two populations are significantly different.\n",
    "Determine the significance level (α) and degrees of freedom for the numerator and denominator of the F-distribution:\n",
    "  Significance level (α) = 0.05\n",
    "  Degrees of freedom numerator (dfn)=sample       \n",
    "  size of population 1 - 1 = 12 - 1 = 11\n",
    "  Degrees of freedom denominator (dfd) = sample       \n",
    "  size of population 2 - 1 = 12 - 1 = 11\n",
    "Calculate the F-statistic using the formula:\n",
    "  F = s1^2 / s2^2\n",
    "\n",
    "where\n",
    "  s1^2 and s2^2 are the sample variances for population 1 and population 2, respectively.\n",
    "Using the given information, we can conduct an F-test as follows:\n",
    "  H0: σ1^2 = σ2^2\n",
    "  HA: σ1^2 ≠ σ2^2\n",
    "\n",
    "  α = 0.05, dfn = 11, dfd = 11\n",
    "\n",
    "Calculate the F-statistic:\n",
    "  F = s1^2 / s2^2\n",
    "\n",
    "\n",
    "\n",
    "Since the variances are known to be 10 and 15 for population 1 and population 2, respectively, we can use these values as the sample variances:\n",
    "  F = 10 / 15\n",
    "  = 0.67\n",
    "\n",
    "Find the p-value for the F-statistic using the cumulative distribution function (cdf) of the F-distribution with degrees of freedom dfn and dfd:\n",
    "  p-value = 2 * min(f.cdf(F, dfn, dfd), 1 - f.cdf(F, dfn, dfd))\n",
    "\n",
    "Here we multiply the cdf by 2 because it is a two-tailed test.\n",
    "  p-value = 2 * min(f.cdf(0.67, 11, 11), 1 - f.cdf(0.67, 11, 11))\n",
    "  = 2 * min(0.255, 0.282)\n",
    "  = 0.51\n",
    "\n",
    "Compare the p-value with the significance level α.\n",
    "Since the p-value (0.51) is greater than α (0.05), fail to reject the null hypothesis and conclude that there is not enough evidence to suggest that the variances of the two populations are different.\n",
    "Therefore, we can conclude that at the 5% significance level, there is no significant difference in the variances of the two populations."
   ]
  },
  {
   "cell_type": "markdown",
   "id": "36994599",
   "metadata": {},
   "source": [
    "#### Q5. A manufacturer claims that the variance of the diameter of a certain product is 0.005. A sample of 25 products is taken, and the sample variance is found to be 0.006. Conduct an F-test at the 1% significance level to determine if the claim is justified."
   ]
  },
  {
   "cell_type": "markdown",
   "id": "d89bab0b",
   "metadata": {},
   "source": [
    "The hypothesis test we will conduct is:\n",
    "Null hypothesis: The variance of the diameter of the product is 0.005.\n",
    "Alternative hypothesis: The variance of the diameter of the product is greater than 0.005.\n",
    "We will use the F-test to compare the sample variance with the claimed population variance:\n",
    "\n",
    "   F = sample variance / population variance\n",
    "\n",
    "Under the null hypothesis, the F statistic follows an F distribution with degrees of freedom (n-1) for the numerator and (m-1) for the denominator, where n is the sample size and m is the assumed population size.\n",
    "In this case, we have:\n",
    "n = 25 (sample size)\n",
    "m = infinity (population size is not specified)\n",
    "sample variance = 0.006\n",
    "claimed population variance = 0.005\n",
    "Therefore, the F statistic is:\n",
    "F = 0.006 / 0.005 = 1.2\n",
    "\n",
    "The critical value of F at the 1% level of significance with (24, infinity) degrees of freedom is 2.75. \n",
    "Since the calculated F value of 1.2 is less than the critical value of 2.75, we fail to reject the null hypothesis.\n",
    "\n",
    "Therefore, we do not have sufficient evidence to conclude that the population variance is greater than 0.005. The manufacturer's claim is justified at the 1% level of significance."
   ]
  },
  {
   "cell_type": "markdown",
   "id": "44b4de4b",
   "metadata": {},
   "source": [
    "#### Q6. Write a Python function that takes in the degrees of freedom for the numerator and denominator of an F-distribution and calculates the mean and variance of the distribution. The function should return the mean and variance as a tuple."
   ]
  },
  {
   "cell_type": "code",
   "execution_count": 10,
   "id": "15d96c06",
   "metadata": {},
   "outputs": [
    {
     "data": {
      "text/plain": [
       "(1.25, 1.3541666666666667)"
      ]
     },
     "execution_count": 10,
     "metadata": {},
     "output_type": "execute_result"
    }
   ],
   "source": [
    "import scipy.stats as stats\n",
    "\n",
    "def f_distribution_mean_variance(df_numerator, df_denominator):\n",
    "    \n",
    "    mean = df_denominator / (df_denominator - 2)\n",
    "    variance = (2 * (df_denominator**2) * (df_numerator + df_denominator - 2)) / ((df_numerator * (df_denominator - 2)**2 * (df_denominator - 4)))\n",
    "    return (mean, variance)\n",
    "\n",
    "f_distribution_mean_variance(5, 10)"
   ]
  },
  {
   "cell_type": "markdown",
   "id": "7faecb36",
   "metadata": {},
   "source": [
    "#### Q7. A random sample of 10 measurements is taken from a normal population with unknown variance. The sample variance is found to be 25. Another random sample of 15 measurements is taken from another normal population with unknown variance, and the sample variance is found to be 20. Conduct an F-test at the 10% significance level to determine if the variances are significantly different."
   ]
  },
  {
   "cell_type": "code",
   "execution_count": 11,
   "id": "1ad5b667",
   "metadata": {},
   "outputs": [
    {
     "name": "stdout",
     "output_type": "stream",
     "text": [
      "F statistic: 1.25\n",
      "p-value: 0.6583902808707023\n",
      "Critical values of F: 0.3305268601412525 2.6457907352338195\n",
      "Fail to reject the null hypothesis\n"
     ]
    }
   ],
   "source": [
    "import scipy.stats as stats\n",
    "\n",
    "# Define the sample variances and sample sizes\n",
    "s1 = 25\n",
    "s2 = 20\n",
    "n1 = 10\n",
    "n2 = 15\n",
    "\n",
    "# Calculate the F statistic\n",
    "F = s1 / s2\n",
    "\n",
    "# Calculate the p-value\n",
    "p_value = stats.f.cdf(F, n1-1, n2-1)\n",
    "\n",
    "# Calculate the critical values of F\n",
    "alpha = 0.1\n",
    "f_critical_lower = stats.f.ppf(alpha/2, n1-1, n2-1)\n",
    "f_critical_upper = stats.f.ppf(1-alpha/2, n1-1, n2-1)\n",
    "\n",
    "# Print the results\n",
    "print(\"F statistic:\", F)\n",
    "print(\"p-value:\", p_value)\n",
    "print(\"Critical values of F:\", f_critical_lower, f_critical_upper)\n",
    "\n",
    "if F < f_critical_lower or F > f_critical_upper:\n",
    "    print(\"Reject the null hypothesis\")\n",
    "else:\n",
    "    print(\"Fail to reject the null hypothesis\")\n"
   ]
  },
  {
   "cell_type": "markdown",
   "id": "9cc19500",
   "metadata": {},
   "source": [
    "#### Q8. The following data represent the waiting times in minutes at two different restaurants on a Saturday night: Restaurant A: 24, 25, 28, 23, 22, 20, 27; Restaurant B: 31, 33, 35, 30, 32, 36. Conduct an F-test at the 5% significance level to determine if the variances are significantly different."
   ]
  },
  {
   "cell_type": "markdown",
   "id": "1b0e7ab3",
   "metadata": {},
   "source": [
    "We will conduct an F-test to determine if the variances of the waiting times at the two restaurants are significantly different.\n",
    "The null hypothesis is that the variances are equal, and\n",
    "the alternative hypothesis is that the variances are not equal.\n",
    "First, we calculate the sample variances for each restaurant:\n",
    "Restaurant A: s1^2 = ((24-25.71)^2 + (25-25.71)^2 + ... + (27-25.71)^2) / 6 = 7.61\n",
    "Restaurant B: s2^2 = ((31-32.83)^2 + (33-32.83)^2 + ... + (36-32.83)^2) / 5 = 5.5\n",
    "Next, we calculate the F-statistic:\n",
    "F = s1^2 / s2^2 = 7.61 / 5.5 = 1.38\n",
    "\n",
    "The degrees of freedom for the numerator and denominator are 6-1 = 5 and 5-1 = 4, respectively.\n",
    "Using a significance level of 0.05, the critical values for an F-distribution with (5,4) degrees of freedom are 0.063 and 5.987.\n",
    "Since the calculated F value of 1.38 is between the critical values of 0.063 and 5.987, we fail to reject the null hypothesis.\n",
    "Therefore, we do not have sufficient evidence to conclude that the variances of the waiting times at the two restaurants are significantly different at the 5% level of significance."
   ]
  },
  {
   "cell_type": "markdown",
   "id": "b97451ac",
   "metadata": {},
   "source": [
    "#### Q9. The following data represent the test scores of two groups of students: Group A: 80, 85, 90, 92, 87, 83; Group B: 75, 78, 82, 79, 81, 84. Conduct an F-test at the 1% significance level to determine if the variances are significantly different."
   ]
  },
  {
   "cell_type": "code",
   "execution_count": 12,
   "id": "6a75f81e",
   "metadata": {},
   "outputs": [
    {
     "name": "stdout",
     "output_type": "stream",
     "text": [
      "F statistic: 1.9442622950819677\n",
      "p-value: 0.7584478225464656\n",
      "Critical values of F: 0.066936171954696 14.939605459912224\n",
      "Fail to reject the null hypothesis\n"
     ]
    }
   ],
   "source": [
    "import numpy as np\n",
    "import scipy.stats as stats\n",
    "\n",
    "A = np.array([80, 85, 90, 92, 87, 83])\n",
    "B = np.array([75, 78, 82, 79, 81, 84])\n",
    "\n",
    "s1_squared = np.var(A, ddof=1)\n",
    "s2_squared = np.var(B, ddof=1)\n",
    "\n",
    "F = s1_squared / s2_squared\n",
    "\n",
    "p_value = stats.f.cdf(F, len(A)-1, len(B)-1)\n",
    "\n",
    "alpha = 0.01\n",
    "f_critical_lower = stats.f.ppf(alpha/2, len(A)-1, len(B)-1)\n",
    "f_critical_upper = stats.f.ppf(1-alpha/2, len(A)-1, len(B)-1)\n",
    "\n",
    "print(\"F statistic:\", F)\n",
    "print(\"p-value:\", p_value)\n",
    "print(\"Critical values of F:\", f_critical_lower, f_critical_upper)\n",
    "\n",
    "if F < f_critical_lower or F > f_critical_upper:\n",
    "    print(\"Reject the null hypothesis\")\n",
    "else:\n",
    "    print(\"Fail to reject the null hypothesis\")\n"
   ]
  },
  {
   "cell_type": "code",
   "execution_count": null,
   "id": "4484f4bc",
   "metadata": {},
   "outputs": [],
   "source": []
  }
 ],
 "metadata": {
  "kernelspec": {
   "display_name": "Python 3 (ipykernel)",
   "language": "python",
   "name": "python3"
  },
  "language_info": {
   "codemirror_mode": {
    "name": "ipython",
    "version": 3
   },
   "file_extension": ".py",
   "mimetype": "text/x-python",
   "name": "python",
   "nbconvert_exporter": "python",
   "pygments_lexer": "ipython3",
   "version": "3.9.13"
  }
 },
 "nbformat": 4,
 "nbformat_minor": 5
}
