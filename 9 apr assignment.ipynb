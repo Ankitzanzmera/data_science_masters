{
 "cells": [
  {
   "cell_type": "markdown",
   "id": "64c0e332",
   "metadata": {},
   "source": [
    "#### Q1. What is Bayes' theorem?"
   ]
  },
  {
   "cell_type": "markdown",
   "id": "f2ea0992",
   "metadata": {},
   "source": [
    "Bayes' theorem is a fundamental concept in probability theory that describes the probability of an event based on prior knowledge or observations. It is named after Thomas Bayes, an 18th-century British statistician and Presbyterian minister who first formulated the theorem. In essence, Bayes' theorem provides a mathematical way to update the probability of an event based on new evidence or information. It is widely used in various fields, including statistics, machine learning, and artificial intelligence."
   ]
  },
  {
   "cell_type": "markdown",
   "id": "df849a7f",
   "metadata": {},
   "source": [
    "#### Q2. What is the formula for Bayes' theorem?"
   ]
  },
  {
   "cell_type": "markdown",
   "id": "a22a0540",
   "metadata": {},
   "source": [
    "P(A|B) = P(B|A) * P(A) / P(B)\n",
    "\n",
    "where:\n",
    "\n",
    "P(A|B) is the conditional probability of event A given that event B has occurred. P(B|A) is the conditional probability of event B given that event A has occurred. P(A) is the prior probability of event A. P(B) is the prior probability of event B. In words, the theorem states that the probability of A given B is proportional to the probability of B given A, multiplied by the prior probability of A, and divided by the prior probability of B.\n",
    "\n",
    "Bayes' theorem is widely used in various fields, including statistics, machine learning, and artificial intelligence, to update beliefs or predictions based on new evidence or data."
   ]
  },
  {
   "cell_type": "markdown",
   "id": "82a07098",
   "metadata": {},
   "source": [
    "#### Q3. How is Bayes' theorem used in practice?"
   ]
  },
  {
   "cell_type": "markdown",
   "id": "3e73ede5",
   "metadata": {},
   "source": [
    "Bayes' theorem is a mathematical principle that describes how to update probabilities based on new information. It is widely used in a variety of fields, including statistics, machine learning, and artificial intelligence. Here are some practical applications of Bayes' theorem:\n",
    "\n",
    "Spam Filtering: Bayes' theorem is used in spam filtering to classify emails as either spam or non-spam. A probabilistic model is used to calculate the probability that an email is spam based on the words and phrases it contains. This probability is then updated based on the user's feedback on the classification, which improves the accuracy of the spam filter.\n",
    "\n",
    "Medical Diagnosis: Bayes' theorem is used in medical diagnosis to calculate the probability of a patient having a particular disease given their symptoms and medical history. A probabilistic model is used to estimate the probability of the disease based on the available data, and this probability is updated as new information becomes available, such as the results of a blood test.\n",
    "\n",
    "Fraud Detection: Bayes' theorem is used in fraud detection to identify fraudulent transactions. A probabilistic model is used to calculate the probability that a transaction is fraudulent based on various factors, such as the amount, location, and type of transaction. This probability is then updated based on historical data and other factors, such as the user's behavior.\n",
    "\n",
    "Weather Forecasting: Bayes' theorem is used in weather forecasting to estimate the probability of different weather conditions based on historical data and current observations. A probabilistic model is used to estimate the probability of different weather outcomes, such as rain, snow, or sunny weather, and this probability is updated as new observations become available.\n",
    "\n",
    "Speech Recognition: Bayes' theorem is used in speech recognition to estimate the probability that a particular sequence of sounds corresponds to a particular word or phrase. A probabilistic model is used to calculate the probability of different words or phrases based on the input sound signal, and this probability is updated as more sounds are heard."
   ]
  },
  {
   "cell_type": "markdown",
   "id": "aebc4631",
   "metadata": {},
   "source": [
    "#### Q4. What is the relationship between Bayes' theorem and conditional probability?"
   ]
  },
  {
   "cell_type": "markdown",
   "id": "f850feb2",
   "metadata": {},
   "source": [
    "Bayes' theorem is a mathematical principle that relates conditional probabilities. It states that the probability of an event A given an event B can be calculated using the conditional probability of B given A and the marginal probability of A and B.\n",
    "\n",
    "Here is the formal statement of Bayes' theorem:\n",
    "\n",
    "P(A | B) = P(B | A) * P(A) / P(B)\n",
    "\n",
    "where P(A | B) is the conditional probability of A given B, P(B | A) is the conditional probability of B given A, P(A) is the marginal probability of A, and P(B) is the marginal probability of B.\n",
    "\n",
    "Conditional probability, on the other hand, is the probability of an event occurring given that another event has occurred. It is calculated by dividing the joint probability of both events by the probability of the conditioning event.\n",
    "\n",
    "Here is the formula for conditional probability:\n",
    "\n",
    "P(A | B) = P(A and B) / P(B)\n",
    "\n",
    "where P(A and B) is the joint probability of A and B occurring together, and P(B) is the probability of B occurring."
   ]
  },
  {
   "cell_type": "markdown",
   "id": "0747a32f",
   "metadata": {},
   "source": [
    "#### Q5. How do you choose which type of Naive Bayes classifier to use for any given problem?"
   ]
  },
  {
   "cell_type": "markdown",
   "id": "91b9fae0",
   "metadata": {},
   "source": [
    "The three common types of Naive Bayes classifiers are Gaussian Naive Bayes, Multinomial Naive Bayes, and Bernoulli Naive Bayes. The choice of which type of Naive Bayes classifier to use for a given problem depends on the nature of the data and the problem.\n",
    "\n",
    "Gaussian Naive Bayes: This classifier assumes that the features follow a normal distribution. It is suitable for continuous data where the features can be modeled using a Gaussian distribution. For example, it can be used for classification problems where the features are continuous variables such as height, weight, or temperature.\n",
    "\n",
    "Multinomial Naive Bayes: This classifier is appropriate for discrete data, such as word counts. It is commonly used in natural language processing (NLP) applications, such as sentiment analysis, spam filtering, or text classification.\n",
    "\n",
    "Bernoulli Naive Bayes: This classifier is similar to the Multinomial Naive Bayes classifier, but it is more suitable for binary or boolean data. For example, it can be used for sentiment analysis where the features are binary, representing the presence or absence of a particular word or phrase.\n",
    "\n",
    "In general, if the features in the dataset are continuous and follow a Gaussian distribution, the Gaussian Naive Bayes classifier is the best choice. If the features are discrete and represent counts or frequencies, the Multinomial Naive Bayes classifier is the most suitable. And if the features are binary, then the Bernoulli Naive Bayes classifier is the most appropriate.\n",
    "\n",
    "However, it's worth noting that the choice of classifier is not always clear-cut and may require experimentation to determine which one performs best for a particular problem. Additionally, there are variations and extensions of Naive Bayes that can better handle specific types of data, such as the Complement Naive Bayes, which is suitable for imbalanced datasets."
   ]
  },
  {
   "cell_type": "markdown",
   "id": "c1b9fb10",
   "metadata": {},
   "source": [
    "#### Q6.You have a dataset with two features, X1 and X2, and two possible classes, A and B. You want to use Naive Bayes to classify a new instance with features X1 = 3 and X2 = 4. The following table shows the frequency of each feature value for each class:"
   ]
  },
  {
   "cell_type": "markdown",
   "id": "794c6c44",
   "metadata": {},
   "source": [
    " Class X1=1 X1=2 X1=3 X2=1 X2=2 X2=3 X2=4\n",
    " \n",
    "    A      3    3    4    4    3    3    3\n",
    " \n",
    "    B      2    2    1    2    2    2    3"
   ]
  },
  {
   "cell_type": "markdown",
   "id": "dd3d18cd",
   "metadata": {},
   "source": [
    "Using Bayes' theorem, the posterior probability for class A is:\n",
    "\n",
    "P(A | X1 = 3, X2 = 4) = P(X1 = 3, X2 = 4 | A) * P(A) / P(X1 = 3, X2 = 4)\n",
    "\n",
    "We can apply the Naive Bayes assumption that the features are conditionally independent given the class, so:\n",
    "\n",
    "P(X1 = 3, X2 = 4 | A) = P(X1 = 3 | A) * P(X2 = 4 | A)\n",
    "\n",
    "Using the table, we can find:\n",
    "\n",
    "P(X1 = 3 | A) = 4/10 P(X2 = 4 | A) = 3/10\n",
    "\n",
    "The prior probability for class A is assumed to be 0.5, since we have equal prior probabilities for each class.\n",
    "\n",
    "Now we need to compute the denominator P(X1 = 3, X2 = 4). We can use the law of total probability to break this down:\n",
    "\n",
    "P(X1 = 3, X2 = 4) = P(X1 = 3, X2 = 4 | A) * P(A) + P(X1 = 3, X2 = 4 | B) * P(B)\n",
    "\n",
    "Using the Naive Bayes assumption, we have:\n",
    "\n",
    "P(X1 = 3, X2 = 4 | A) = P(X1 = 3 | A) * P(X2 = 4 | A) = 4/10 * 3/10 = 12/100 P(X1 = 3, X2 = 4 | B) = P(X1 = 3 | B) * P(X2 = 4 | B) = 1/7 * 3/7 = 3/49\n",
    "\n",
    "Therefore:\n",
    "\n",
    "P(X1 = 3, X2 = 4) = 12/100 * 0.5 + 3/49 * 0.5 = 0.0689\n",
    "\n",
    "Now we can calculate the posterior probability for class A:\n",
    "\n",
    "P(A | X1 = 3, X2 = 4) = 12/100 * 0.5 / 0.0689 = 0.347\n",
    "\n",
    "Using the same approach, we can calculate the posterior probability for class B:\n",
    "\n",
    "P(B | X1 = 3, X2 = 4) = P(X1 = 3, X2 = 4 | B) * P(B) / P(X1 = 3, X2 = 4) = 3/49 * 0.5 / 0.0689 = 0.153"
   ]
  },
  {
   "cell_type": "code",
   "execution_count": null,
   "id": "2ae0443c",
   "metadata": {},
   "outputs": [],
   "source": []
  }
 ],
 "metadata": {
  "kernelspec": {
   "display_name": "Python 3 (ipykernel)",
   "language": "python",
   "name": "python3"
  },
  "language_info": {
   "codemirror_mode": {
    "name": "ipython",
    "version": 3
   },
   "file_extension": ".py",
   "mimetype": "text/x-python",
   "name": "python",
   "nbconvert_exporter": "python",
   "pygments_lexer": "ipython3",
   "version": "3.9.13"
  }
 },
 "nbformat": 4,
 "nbformat_minor": 5
}
