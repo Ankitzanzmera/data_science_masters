{
 "cells": [
  {
   "cell_type": "markdown",
   "id": "1c3abf8d",
   "metadata": {},
   "source": [
    "#### Q1: What are the Probability Mass Function (PMF) and Probability Density Function (PDF)? Explain with an example."
   ]
  },
  {
   "cell_type": "markdown",
   "id": "2579353b",
   "metadata": {},
   "source": [
    "Probability Mass Function (PMF):-\n",
    "The probability mass function P(X = x) = f(x) of a discrete random variable is a function that \n",
    "satisfies the following properties:    P(X = x) = f(x) > 0; if x ∈ Range of x that supports.\n",
    "Example- Rolling a Dice.\n",
    "\n",
    "probability density function:-\n",
    "probability density function (PDF), It is a function whose integral is calculated to \n",
    "find probabilities associated with a continuous random variable\n",
    "\n",
    " PDF is used to define the random variable's probability coming within a distinct range of values,\n",
    "as opposed to taking on any one value. The function explains the probability density function of normal\n",
    "distribution and how mean and deviation exists.\n",
    "Example- Height of students in the class."
   ]
  },
  {
   "cell_type": "markdown",
   "id": "b54d9750",
   "metadata": {},
   "source": [
    "#### Q2: What is Cumulative Density Function (CDF)? Explain with an example. Why CDF is used?"
   ]
  },
  {
   "cell_type": "markdown",
   "id": "37a287f1",
   "metadata": {},
   "source": [
    "The cumulative distribution function (CDF) of random variable X is defined as\n",
    "FX(x) = P(X ≤ x), for all x ∈ R. Note that the subscript X indicates that this is \n",
    "the CDF of the random variable X. Also, note that the CDF is defined for all x ∈ R.\n",
    "\n",
    "the cumulative distribution function of a real-valued random variable X, or just distribution\n",
    "function of X, evaluated at x, is the probability that X \n",
    "will take a value less than or equal to x.\n",
    "\n",
    "It is used to describe the probability distribution of random variables in a table."
   ]
  },
  {
   "cell_type": "markdown",
   "id": "db177162",
   "metadata": {},
   "source": [
    "#### Q3: What are some examples of situations where the normal distribution might be used as a model? Explain how the parameters of the normal distribution relate to the shape of the distribution."
   ]
  },
  {
   "cell_type": "markdown",
   "id": "38d370c0",
   "metadata": {},
   "source": [
    "Lets understand the daily life examples of Normal Distribution.\n",
    "Height. ...\n",
    "Rolling A Dice. ...\n",
    "Tossing A Coin. ...\n",
    "IQ. ...\n",
    "Technical Stock Market. ...\n",
    "Blood Pressure. ...\n",
    "Shoe Size. ...\n",
    "Birth Weight.\n",
    "\n",
    "1 st +- Standred Deviation occupy 68% of data.\n",
    "\n",
    "2 end +- Standred Deviation occupy 95% of data.\n",
    "\n",
    "3 rd +- Standred Deviation occupy 97.7% of data.\n",
    "\n",
    "The graph of the normal distribution is a “bell-shaped” curve\n",
    "\n",
    "Like the normal distribution, the t-distribution has a smooth shape. Like the normal distribution, \n",
    "the t-distribution is symmetric. If you think about folding it in half at the mean, each side will be the same. \n",
    "Like a standard normal distribution (or z-distribution), the t-distribution has a mean of zero."
   ]
  },
  {
   "cell_type": "markdown",
   "id": "afc6c149",
   "metadata": {},
   "source": [
    "#### Q4: Explain the importance of Normal Distribution. Give a few real-life examples of Normal Distribution. "
   ]
  },
  {
   "cell_type": "markdown",
   "id": "ab6f5f6e",
   "metadata": {},
   "source": [
    "The normal distribution is an important probability distribution in statistics because many \n",
    "continuous data in nature and psychology display this bell-shaped curve when compiled and graphed.\n",
    "\n",
    "The normal distribution has the remarkable property stated in the so-called central limit theorem.\n",
    "Mean, Median, Mode\n",
    "\n",
    "For example, “Height of people” is something that follows a normal distribution pattern perfectly:\n",
    "Most people are of average height, the numbers of people that are taller and shorter than average \n",
    "are fairly equal and a very small (and still roughly equivalent) \n",
    "number of people are either extremely tall or extremely "
   ]
  },
  {
   "cell_type": "markdown",
   "id": "891a7725",
   "metadata": {},
   "source": [
    "#### Q5: What is Bernaulli Distribution? Give an Example. What is the difference between Bernoulli "
   ]
  },
  {
   "cell_type": "markdown",
   "id": "07cc26e4",
   "metadata": {},
   "source": [
    "Distribution and Binomial Distribution?\n",
    "Bernaulli Distribution:-\n",
    "The Bernoulli distribution therefore describes events having exactly two outcomes, \n",
    "which are ubiquitous in real life. Some examples of such events are as follows: a team\n",
    "will win a championship or not, a student will pass or fail an exam,\n",
    "and a rolled dice will either show a 6 or any other number.\n",
    "\n",
    "The Bernoulli distribution represents the success or failure of a single Bernoulli trial. \n",
    "The Binomial Distribution represents the number of successes and failures \n",
    "in n independent Bernoulli trials for some given value of n."
   ]
  },
  {
   "cell_type": "markdown",
   "id": "c5d57672",
   "metadata": {},
   "source": [
    "#### Q6. Consider a dataset with a mean of 50 and a standard deviation of 10. If we assume that the dataset is normally distributed, what is the probability that a randomly selected observation will be greater than 60? Use the appropriate formula and show your calculations."
   ]
  },
  {
   "cell_type": "markdown",
   "id": "d5564037",
   "metadata": {},
   "source": [
    "  z = (x - μ) / σ\n",
    "\n",
    "   where z is the standard score, x is the observed value, μ is the mean, and σ is the standard deviation.\n",
    "   \n",
    "  (60 - 50)/10 = 1\n",
    "  now see the value for 1 in z-table which is 0.8413\n",
    "  but we want greater than 60 so substract whatever value you got from z-table form 1\n",
    "  1-0.8413 = 0.1587"
   ]
  },
  {
   "cell_type": "markdown",
   "id": "d88ada57",
   "metadata": {},
   "source": [
    "#### Q7: Explain uniform Distribution with an example."
   ]
  },
  {
   "cell_type": "markdown",
   "id": "886af34f",
   "metadata": {},
   "source": [
    "In statistics, uniform distribution refers to a type of probability distribution in which all outcomes are equally likely.\n",
    "A deck of cards has within it uniform distributions because the likelihood of drawing\n",
    "a heart, a club, a diamond, or a spade is equally likely.\n",
    "\n",
    "A good example of a discrete uniform distribution would be the possible outcomes of rolling a 6-sided die.\n",
    "The possible values would be 1, 2, 3, 4, 5, or 6. In this case, each of the six numbers has an equal chance of appearing.\n",
    "Therefore, each time the 6-sided die is thrown, each side has a chance of 1/6."
   ]
  },
  {
   "cell_type": "markdown",
   "id": "61bd2845",
   "metadata": {},
   "source": [
    "#### Q8: What is the z score? State the importance of the z score."
   ]
  },
  {
   "cell_type": "markdown",
   "id": "9ba44dcc",
   "metadata": {},
   "source": [
    "A z-score is important because it tells where your data lies in the data distribution. \n",
    "For example, if a z-score is 1.5, it is 1.5 standard deviations away from the mean.\n",
    "\n",
    "A z-score is an example of a standardized score. A z-score measures how many standard \n",
    "deviations a data point is from the mean in a distribution.\n",
    "\n",
    "Technically, a z-score is the number of standard deviations from the mean value of the reference population\n"
   ]
  },
  {
   "cell_type": "markdown",
   "id": "456b0036",
   "metadata": {},
   "source": [
    "#### Q9: What is Central Limit Theorem? State the significance of the Central Limit Theorem."
   ]
  },
  {
   "cell_type": "markdown",
   "id": "11feacec",
   "metadata": {},
   "source": [
    "The central limit theorem says that the sampling distribution of the mean will always be normally distributed,\n",
    "as long as the sample size is large enough. Regardless of whether the population has a normal, Poisson, binomial, \n",
    "or any other distribution, the sampling distribution of the mean will be normal.\n",
    "\n",
    "One of the most important components of the theorem is that the mean of the sample will be the mean of the entire population. \n",
    "If we calculate the mean of multiple samples of the population, add them up, and find their average,\n",
    "the result will be the estimate of the population mean.\n"
   ]
  },
  {
   "cell_type": "markdown",
   "id": "5cea7010",
   "metadata": {},
   "source": [
    "#### Q10: State the assumptions of the Central Limit Theorem."
   ]
  },
  {
   "cell_type": "markdown",
   "id": "a557a847",
   "metadata": {},
   "source": [
    "It needs to be sampled at random. The samples should be unrelated to one another. One sample should not impact the others. \n",
    "When taking samples without replacement, the sample size should not exceed 10% of the population."
   ]
  },
  {
   "cell_type": "code",
   "execution_count": null,
   "id": "c5135a42",
   "metadata": {},
   "outputs": [],
   "source": []
  }
 ],
 "metadata": {
  "kernelspec": {
   "display_name": "Python 3 (ipykernel)",
   "language": "python",
   "name": "python3"
  },
  "language_info": {
   "codemirror_mode": {
    "name": "ipython",
    "version": 3
   },
   "file_extension": ".py",
   "mimetype": "text/x-python",
   "name": "python",
   "nbconvert_exporter": "python",
   "pygments_lexer": "ipython3",
   "version": "3.9.13"
  }
 },
 "nbformat": 4,
 "nbformat_minor": 5
}
