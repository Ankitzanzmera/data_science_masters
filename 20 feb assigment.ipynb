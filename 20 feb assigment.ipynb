{
 "cells": [
  {
   "cell_type": "markdown",
   "id": "3b54ec4d",
   "metadata": {},
   "source": [
    "#### Q1. Explain GET and POST methods."
   ]
  },
  {
   "cell_type": "markdown",
   "id": "f0f1253b",
   "metadata": {},
   "source": [
    "The GET method is part of the python requests module which is used to obtain data from a web URL\n",
    "\n",
    "The POST method is used to send data mostly through a form to the server for creating or updating data in the server. The requests module provides us with post method which can directly send the data by taking the URL and value of the data parameter."
   ]
  },
  {
   "cell_type": "markdown",
   "id": "28a164c6",
   "metadata": {},
   "source": [
    "#### Q2. Why is request used in Flask?"
   ]
  },
  {
   "cell_type": "markdown",
   "id": "5a566c4e",
   "metadata": {},
   "source": [
    "The Request, in Flask, is an object that contains all the data sent from the Client to Server. This data can be recovered using the GET/POST Methods.The request context keeps track of the request-level data during a request. Rather than passing the request object to each function that runs during a reques"
   ]
  },
  {
   "cell_type": "markdown",
   "id": "e25d07a8",
   "metadata": {},
   "source": [
    "#### Q3. Why is redirect() used in Flask?"
   ]
  },
  {
   "cell_type": "markdown",
   "id": "252c602a",
   "metadata": {},
   "source": [
    "Flask class provides the redirect() function which redirects the user to some specified URL with the specified status code."
   ]
  },
  {
   "cell_type": "markdown",
   "id": "765bb919",
   "metadata": {},
   "source": [
    "#### Q4. What are templates in Flask? Why is the render_template() function used?"
   ]
  },
  {
   "cell_type": "markdown",
   "id": "4ae397d5",
   "metadata": {},
   "source": [
    "Templates are files that contain static data as well as placeholders for dynamic data. A template is rendered with specific data to produce a final document.\n",
    "\n",
    "It basically allows creating web applications in a Pythonic syntax and concepts. With Flask, we can use Python libraries and tools in our web applications. Using Flask we can set up a webserver to load up some basic HTML templates along with Jinja2 templating syntax."
   ]
  },
  {
   "cell_type": "markdown",
   "id": "bcb27f84",
   "metadata": {},
   "source": [
    "#### Q5. Create a simple API. Use Postman to test it. Attach the screenshot of the output in the Jupyter Notebook."
   ]
  },
  {
   "cell_type": "code",
   "execution_count": null,
   "id": "9cf2df4c",
   "metadata": {},
   "outputs": [],
   "source": []
  }
 ],
 "metadata": {
  "kernelspec": {
   "display_name": "Python 3 (ipykernel)",
   "language": "python",
   "name": "python3"
  },
  "language_info": {
   "codemirror_mode": {
    "name": "ipython",
    "version": 3
   },
   "file_extension": ".py",
   "mimetype": "text/x-python",
   "name": "python",
   "nbconvert_exporter": "python",
   "pygments_lexer": "ipython3",
   "version": "3.9.13"
  }
 },
 "nbformat": 4,
 "nbformat_minor": 5
}
