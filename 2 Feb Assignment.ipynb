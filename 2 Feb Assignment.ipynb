{
 "cells": [
  {
   "cell_type": "markdown",
   "id": "d6243a15",
   "metadata": {},
   "source": [
    "# Q1. What are the characteristics of the tuples? Is tuple immutable? "
   ]
  },
  {
   "cell_type": "raw",
   "id": "2d625e64",
   "metadata": {},
   "source": [
    "Characteristics of Tuples :\n",
    "    1) They are indexed.\n",
    "    2) Tuples are ordered.\n",
    "    3) These are immutable.\n",
    "    4)They can contain duplicate items.\n",
    "\n",
    "Yes Tuple is Immutabe."
   ]
  },
  {
   "cell_type": "markdown",
   "id": "9c041454",
   "metadata": {},
   "source": [
    "### Q2. What are the two tuple methods in python? Give an example of each method. Give a reason why tuples have only two in-built methods as compared to Lists."
   ]
  },
  {
   "cell_type": "raw",
   "id": "28ec5837",
   "metadata": {},
   "source": [
    "There are two tuple methods:\n",
    "    1) count()\n",
    "    2) index()"
   ]
  },
  {
   "cell_type": "code",
   "execution_count": 8,
   "id": "935463e7",
   "metadata": {},
   "outputs": [
    {
     "name": "stdout",
     "output_type": "stream",
     "text": [
      "2\n",
      "8\n"
     ]
    }
   ],
   "source": [
    "input_tuple = (0,1,2,3,3,4,5,6,7,8,9,10)\n",
    "print(input_tuple.count(3))\n",
    "print(input_tuple.index(7))"
   ]
  },
  {
   "cell_type": "markdown",
   "id": "b99d8548",
   "metadata": {},
   "source": [
    "As list is mutable we can change the list elements by passing index but in case of tuples they are immutable and we can't change thier elements by passing indexes. That is why the list has an extra functions like pop(), append(), extend(), insert(), remove() which are not applicable for tuples"
   ]
  },
  {
   "cell_type": "markdown",
   "id": "ea54375f",
   "metadata": {},
   "source": [
    "### Q3. Which collection datatypes in python do not allow duplicate items? Write a code using a set to removeduplicates from the given l ist. List = [1, 1, 1, 2, 1, 3, 1, 4, 2, 1, 2, 2, 2, 3, 2, 4, 3, 1, 3, 2, 3, 3, 3, 4, 4, 1, 4, 2, 4, 3, 4, 4] "
   ]
  },
  {
   "cell_type": "markdown",
   "id": "58cfeebd",
   "metadata": {},
   "source": [
    "In python set is a data structure which not allows duplicate values\n",
    "\n",
    "Below is the code which will remove all the duplicates from the list List"
   ]
  },
  {
   "cell_type": "code",
   "execution_count": 10,
   "id": "8b3e6599",
   "metadata": {},
   "outputs": [
    {
     "data": {
      "text/plain": [
       "[1, 2, 3, 4]"
      ]
     },
     "execution_count": 10,
     "metadata": {},
     "output_type": "execute_result"
    }
   ],
   "source": [
    "input = [1, 1, 1, 2, 1, 3, 1, 4, 2, 1, 2, 2, 2, 3, 2, 4, 3, 1, 3, 2, 3, 3, 3, 4, 4, 1, 4, 2, 4, 3, 4, 4]\n",
    "s = list(set(input))\n",
    "s"
   ]
  },
  {
   "cell_type": "markdown",
   "id": "89bcdd42",
   "metadata": {},
   "source": [
    "### Q4. Explain the difference between the union() and update() methods for a set. Give an example of each method."
   ]
  },
  {
   "cell_type": "markdown",
   "id": "8f25ef18",
   "metadata": {},
   "source": [
    "The union() method in sets is used to add missing elements and the resultant set will be stored in new set at the new location\n",
    "\n",
    "The update() method is also used to add missing elements in one set but here the new set will be formed at the same location only"
   ]
  },
  {
   "cell_type": "code",
   "execution_count": 13,
   "id": "256af4d6",
   "metadata": {},
   "outputs": [
    {
     "name": "stdout",
     "output_type": "stream",
     "text": [
      "{2, 3, 'e', 'c', 8, 9, 'a', 'd', 'b'}\n"
     ]
    },
    {
     "data": {
      "text/plain": [
       "{2, 3, 8, 9, 'a', 'b', 'c', 'd', 'e'}"
      ]
     },
     "execution_count": 13,
     "metadata": {},
     "output_type": "execute_result"
    }
   ],
   "source": [
    "s = {9,3,2,8,8}\n",
    "s1 = {'a','b','c','d','e'}\n",
    "print(s.union(s1))\n",
    "s.update(s1)\n",
    "s"
   ]
  },
  {
   "cell_type": "markdown",
   "id": "21f02166",
   "metadata": {},
   "source": [
    "### Q5. What is a dictionary? Give an example. Also, state whether a dictionary is ordered or unordered. "
   ]
  },
  {
   "cell_type": "markdown",
   "id": "4efd5d65",
   "metadata": {},
   "source": [
    "A dictionary contains data in the form of key and value pairs\n",
    "Dictionary is ordered if we want to pop pair from the dictionary we have to pass key related to that pair"
   ]
  },
  {
   "cell_type": "code",
   "execution_count": 23,
   "id": "3c4fb0f6",
   "metadata": {},
   "outputs": [
    {
     "name": "stdout",
     "output_type": "stream",
     "text": [
      "3\n",
      "{'Name': 'Adam', 'surname': 'warlock', 9: '3'}\n",
      "Name\n",
      "surname\n",
      "9\n"
     ]
    }
   ],
   "source": [
    "dictionary = { \"int\" : 3, \"Name\" : \"Adam\", \"surname\" : \"warlock\", 9 : \"3\"}\n",
    "print(dictionary.pop('int'))\n",
    "print(dictionary)"
   ]
  },
  {
   "cell_type": "markdown",
   "id": "77223d20",
   "metadata": {},
   "source": [
    "### Q6. Can we create a nested dictionary? If so, please give an example by creating a simple one-level nested dictionary."
   ]
  },
  {
   "cell_type": "markdown",
   "id": "fa66b8b5",
   "metadata": {},
   "source": [
    "Yes, we can create a nested dictionary by passing the value as another dictionary"
   ]
  },
  {
   "cell_type": "code",
   "execution_count": 25,
   "id": "f5239a62",
   "metadata": {},
   "outputs": [
    {
     "data": {
      "text/plain": [
       "{'name': 'Adam',\n",
       " 'surname': 'warlock',\n",
       " 'Address': {'city': 'LA', 'country': 'usa'}}"
      ]
     },
     "execution_count": 25,
     "metadata": {},
     "output_type": "execute_result"
    }
   ],
   "source": [
    "dictionary = {'name':'Adam',\"surname\" : \"warlock\",'Address':{'city':'LA','country':'usa'}}\n",
    "dictionary"
   ]
  },
  {
   "cell_type": "markdown",
   "id": "8ecfa247",
   "metadata": {},
   "source": [
    "### Q7. Using setdefault() method, create key named topics in the given dictionary and also add the value of the key as this list ['Python', 'Machine Learning’, 'Deep Learning']\n",
    "### dict1 = {'language' : 'Python', 'course': 'Data Science Masters'}"
   ]
  },
  {
   "cell_type": "code",
   "execution_count": 26,
   "id": "70111bc9",
   "metadata": {},
   "outputs": [
    {
     "data": {
      "text/plain": [
       "{'Language': 'Python',\n",
       " 'Course': 'Data Science Masters',\n",
       " 'topics': ['Python', 'Machine Learning', 'Deep learning']}"
      ]
     },
     "execution_count": 26,
     "metadata": {},
     "output_type": "execute_result"
    }
   ],
   "source": [
    "dict1 = {\"Language\" : \"Python\", \"Course\" : \"Data Science Masters\" }\n",
    "dict1.setdefault(\"topics\", [\"Python\", \"Machine Learning\", \"Deep learning\"])\n",
    "dict1"
   ]
  },
  {
   "cell_type": "markdown",
   "id": "9f35c78c",
   "metadata": {},
   "source": [
    "### Q8. What are the three view objects in dictionaries? Use the three in-built methods in python to display these three view objects for the given dictionary.\n",
    "### dict1 = {'Sport': 'Cricket' , 'Teams': ['India', 'Australia', 'England', 'South Africa', 'Sri Lanka', 'New Zealand']}"
   ]
  },
  {
   "cell_type": "raw",
   "id": "c44332f0",
   "metadata": {},
   "source": [
    "There are three vie methods for dictionaries in python these are keys(), values() and items().\n",
    "\n",
    "The keys() method add all the keys of the dictinary in the tuple and will print that tuple.\n",
    "\n",
    "The values() method add all the values of the dictinary in the tuple and will print that tuple.\n",
    "\n",
    "The items() method add all the items of the dictinary in the tuple and will print that tuple."
   ]
  },
  {
   "cell_type": "code",
   "execution_count": 29,
   "id": "167446d5",
   "metadata": {},
   "outputs": [],
   "source": [
    "dict1 = {'Sport': 'Cricket' , 'Teams': ['India', 'Australia', 'England', 'South Africa', 'Sri Lanka', 'New Zealand']}"
   ]
  },
  {
   "cell_type": "code",
   "execution_count": 34,
   "id": "f55be5c9",
   "metadata": {},
   "outputs": [
    {
     "name": "stdout",
     "output_type": "stream",
     "text": [
      "dict_keys(['Sport', 'Teams'])\n",
      "dict_values(['Cricket', ['India', 'Australia', 'England', 'South Africa', 'Sri Lanka', 'New Zealand']])\n",
      "dict_items([('Sport', 'Cricket'), ('Teams', ['India', 'Australia', 'England', 'South Africa', 'Sri Lanka', 'New Zealand'])])\n"
     ]
    }
   ],
   "source": [
    "print(dict1.keys())\n",
    "print(dict1.values())\n",
    "print(dict1.items())"
   ]
  }
 ],
 "metadata": {
  "kernelspec": {
   "display_name": "Python 3 (ipykernel)",
   "language": "python",
   "name": "python3"
  },
  "language_info": {
   "codemirror_mode": {
    "name": "ipython",
    "version": 3
   },
   "file_extension": ".py",
   "mimetype": "text/x-python",
   "name": "python",
   "nbconvert_exporter": "python",
   "pygments_lexer": "ipython3",
   "version": "3.9.13"
  }
 },
 "nbformat": 4,
 "nbformat_minor": 5
}
