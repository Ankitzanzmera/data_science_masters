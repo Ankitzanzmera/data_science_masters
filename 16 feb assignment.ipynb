{
 "cells": [
  {
   "cell_type": "markdown",
   "id": "84fcbe60",
   "metadata": {},
   "source": [
    "#### Q1. What is a database? Differentiate between SQL and NoSQL databases."
   ]
  },
  {
   "cell_type": "markdown",
   "id": "f4106e97",
   "metadata": {},
   "source": [
    "Database:"
   ]
  },
  {
   "cell_type": "markdown",
   "id": "f5710a6f",
   "metadata": {},
   "source": [
    "A database is an organized collection of structured information, or data, typically stored electronically in a computer system. A database is usually controlled by a database management system (DBMS). Together, the data and the DBMS, along with the applications that are associated with them, are referred to as a database system, often shortened to just database."
   ]
  },
  {
   "cell_type": "markdown",
   "id": "f356d85a",
   "metadata": {},
   "source": [
    "Difference between SQL and NoSQL:"
   ]
  },
  {
   "cell_type": "markdown",
   "id": "73041f0a",
   "metadata": {},
   "source": [
    "| No | SQL | NOSQL |\n",
    "| --- | --- | --- |\n",
    "| 1 | RELATIONAL DATABASE MANAGEMENT SYSTEM (RDBMS) | Non-relational or distributed database system. |\n",
    "| 2 | These databases have fixed or static or predefined schema | They have dynamic schema |\n",
    "| 3 | These databases are not suited for hierarchical data storage. | These databases are best suited for hierarchical data storage. |\n",
    "| 4 | These databases are best suited for complex queries | These databases are not so good for complex queries\n",
    " |\n",
    "| 5 | Vertically Scalable | \tHorizontally scalable |\n",
    "| 6 | Follows ACID property | Follows CAP(consistency, availability, partition tolerance) |"
   ]
  },
  {
   "cell_type": "markdown",
   "id": "0cf87a3b",
   "metadata": {},
   "source": [
    "#### Q2. What is DDL? Explain why CREATE, DROP, ALTER, and TRUNCATE are used with an example."
   ]
  },
  {
   "cell_type": "markdown",
   "id": "febba2a8",
   "metadata": {},
   "source": [
    "DDL is an abbreviation of Data Definition Language.\n",
    "\n",
    "The DDL Commands in Structured Query Language are used to create and modify the schema of the database and its objects. The syntax of DDL commands is predefined for describing the data. The commands of Data Definition Language deal with how the data should exist in the database."
   ]
  },
  {
   "cell_type": "markdown",
   "id": "f851761d",
   "metadata": {},
   "source": [
    "1) CREATE : CREATE is a DDL command used to create databases, tables, triggers and other database objects.\n",
    "    \n",
    "ex: CREATE Database Database_Name;  "
   ]
  },
  {
   "cell_type": "markdown",
   "id": "ff5936ca",
   "metadata": {},
   "source": [
    "2) DROP : DROP is a DDL command used to delete/remove the database objects from the SQL database. We can easily remove the entire table, view, or index from the database using this DDL command.\n",
    "\n",
    "ex : DROP DATABASE Database_Name;  \n"
   ]
  },
  {
   "cell_type": "markdown",
   "id": "c12477ed",
   "metadata": {},
   "source": [
    "3) ALTER : ALTER is a DDL command which changes or modifies the existing structure of the database, and it also changes the schema of database objects.\n",
    "\n",
    "ex : ALTER TABLE name_of_table ADD column_name column_definition;"
   ]
  },
  {
   "cell_type": "markdown",
   "id": "2e23cf9d",
   "metadata": {},
   "source": [
    "4) TRUNCATE : TRUNCATE is another DDL command which deletes or removes all the records from the table.\n",
    "\n",
    "ex : TRUNCATE TABLE Table_Name;  "
   ]
  },
  {
   "cell_type": "markdown",
   "id": "f3703db9",
   "metadata": {},
   "source": [
    "#### Q3. What is DML? Explain INSERT, UPDATE, and DELETE with an example."
   ]
  },
  {
   "cell_type": "markdown",
   "id": "5efca3d5",
   "metadata": {},
   "source": [
    "DML is an abbreviation of Data Manipulation Language.\n",
    "\n",
    "The DML commands in Structured Query Language change the data present in the SQL database. We can easily access, store, modify, update and delete the existing records from the database using DML commands."
   ]
  },
  {
   "cell_type": "markdown",
   "id": "f656d662",
   "metadata": {},
   "source": [
    "1) INSERT :  INSERT is another most important data manipulation command in Structured Query Language, which allows users to insert data in database tables.\n",
    "\n",
    "ex : INSERT INTO Student (Stu_id, Stu_Name, Stu_Marks, Stu_Age) VALUES (104, Anmol, 89, 19);  "
   ]
  },
  {
   "cell_type": "markdown",
   "id": "5425835c",
   "metadata": {},
   "source": [
    "2) UPDATE : UPDATE is another most important data manipulation command in Structured Query Language, which allows users to update or modify the existing data in database tables.\n",
    "\n",
    "ex : UPDATE Product SET Product_Price = 80 WHERE Product_Id = 'P102' ;  \n"
   ]
  },
  {
   "cell_type": "markdown",
   "id": "ddf7d531",
   "metadata": {},
   "source": [
    "3) DELETE : DELETE is a DML command which allows SQL users to remove single or multiple existing records from the database tables.\n",
    "This command of Data Manipulation Language does not delete the stored data permanently from the database. We use the WHERE clause with the DELETE command to select specific rows from the table.\n",
    "\n",
    "ex : DELETE FROM Product WHERE Product_Id = 'P202' ;  \n",
    "    "
   ]
  },
  {
   "cell_type": "markdown",
   "id": "1c8b4c3d",
   "metadata": {},
   "source": [
    "#### Q4. What is DQL? Explain SELECT with an example."
   ]
  },
  {
   "cell_type": "markdown",
   "id": "a57a4601",
   "metadata": {},
   "source": [
    "DQL is used to fetch the data from the database."
   ]
  },
  {
   "cell_type": "markdown",
   "id": "0e025c9a",
   "metadata": {},
   "source": [
    "1) SELECT : This is the same as the projection operation of relational algebra. It is used to select the attribute based on the condition described by WHERE clause.\n",
    "\n",
    "ex : SELECT emp_name FROM employee WHERE age > 20; "
   ]
  },
  {
   "cell_type": "markdown",
   "id": "a82ab456",
   "metadata": {},
   "source": [
    "#### Q5. Explain Primary Key and Foreign Key."
   ]
  },
  {
   "cell_type": "markdown",
   "id": "7ec905f3",
   "metadata": {},
   "source": [
    "Primary key : \n",
    "    The PRIMARY KEY constraint uniquely identifies each record in a table.\n",
    "    Primary keys must contain UNIQUE values, and cannot contain NULL values.\n",
    "    A table can have only ONE primary key; and in the table, this primary key can consist of single or multiple columns (fields)."
   ]
  },
  {
   "cell_type": "markdown",
   "id": "c180236b",
   "metadata": {},
   "source": [
    "Foreign Key : The FOREIGN KEY constraint is used to prevent actions that would destroy links between tables.\n",
    "\n",
    "A FOREIGN KEY is a field (or collection of fields) in one table, that refers to the PRIMARY KEY in another table.\n",
    "\n",
    "The table with the foreign key is called the child table, and the table with the primary key is called the referenced or parent table."
   ]
  },
  {
   "cell_type": "markdown",
   "id": "21f6085e",
   "metadata": {},
   "source": [
    "#### Q6. Write a python code to connect MySQL to python. Explain the cursor() and execute() method."
   ]
  },
  {
   "cell_type": "code",
   "execution_count": 3,
   "id": "d6a39155",
   "metadata": {
    "scrolled": true
   },
   "outputs": [
    {
     "name": "stdout",
     "output_type": "stream",
     "text": [
      "('employee',)\n",
      "('information_schema',)\n",
      "('login',)\n",
      "('mongo',)\n",
      "('mysql',)\n",
      "('performance_schema',)\n",
      "('phpmyadmin',)\n",
      "('sales',)\n",
      "('sales1',)\n",
      "('sports',)\n",
      "('test',)\n"
     ]
    }
   ],
   "source": [
    "import mysql.connector\n",
    "conn = mysql.connector.connect( host = 'localhost' , user = 'root' , password = '' )\n",
    "mycursor = conn.cursor()\n",
    "mycursor.execute(\"show databases\")\n",
    "for i in mycursor.fetchall():\n",
    "    print(i)"
   ]
  },
  {
   "cell_type": "markdown",
   "id": "3bd484bd",
   "metadata": {},
   "source": [
    "Cursor() : It is an object that is used to make the connection for executing SQL queries. It acts as middleware between SQLite database connection and SQL query. It is created after giving connection to SQLite database."
   ]
  },
  {
   "cell_type": "markdown",
   "id": "d512383f",
   "metadata": {},
   "source": [
    "execute() : This routine is a shortcut of the above execute method provided by the cursor object and it creates an intermediate cursor object by calling the cursor method, then calls the cursor's execute method with the parameters given."
   ]
  },
  {
   "cell_type": "markdown",
   "id": "5116ca01",
   "metadata": {},
   "source": [
    "#### Q7. Give the order of execution of SQL clauses in an SQL query."
   ]
  },
  {
   "cell_type": "markdown",
   "id": "5464adcc",
   "metadata": {},
   "source": [
    "1) FROM\n",
    "2) WHERE\n",
    "3) GROUP BY\n",
    "4) HAVING\n",
    "5) SELECT\n",
    "6) ORDER BY\n",
    "7) LIMIT"
   ]
  },
  {
   "cell_type": "code",
   "execution_count": null,
   "id": "ef7d3bf2",
   "metadata": {},
   "outputs": [],
   "source": []
  }
 ],
 "metadata": {
  "kernelspec": {
   "display_name": "Python 3 (ipykernel)",
   "language": "python",
   "name": "python3"
  },
  "language_info": {
   "codemirror_mode": {
    "name": "ipython",
    "version": 3
   },
   "file_extension": ".py",
   "mimetype": "text/x-python",
   "name": "python",
   "nbconvert_exporter": "python",
   "pygments_lexer": "ipython3",
   "version": "3.9.13"
  }
 },
 "nbformat": 4,
 "nbformat_minor": 5
}
