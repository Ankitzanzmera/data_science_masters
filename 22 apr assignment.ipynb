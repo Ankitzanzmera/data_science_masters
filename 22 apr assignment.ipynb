{
 "cells": [
  {
   "cell_type": "markdown",
   "id": "b34c8ee2",
   "metadata": {},
   "source": [
    "#### Q1. Write a Python code to implement the KNN classifier algorithm on load_iris dataset insklearn.datasets.\n"
   ]
  },
  {
   "cell_type": "code",
   "execution_count": 1,
   "id": "c0def415",
   "metadata": {},
   "outputs": [],
   "source": [
    "import seaborn as sns\n",
    "from sklearn.datasets import load_iris\n",
    "import warnings\n",
    "warnings.filterwarnings('ignore')"
   ]
  },
  {
   "cell_type": "code",
   "execution_count": 2,
   "id": "ecf2bbae",
   "metadata": {},
   "outputs": [],
   "source": [
    "data = load_iris()\n",
    "X = data['data']\n",
    "y = data['target']"
   ]
  },
  {
   "cell_type": "code",
   "execution_count": 3,
   "id": "7267f7fc",
   "metadata": {},
   "outputs": [],
   "source": [
    "from sklearn.model_selection import train_test_split\n",
    "X_train,X_test,y_train,y_test = train_test_split(X,y,test_size=0.33,random_state=42)"
   ]
  },
  {
   "cell_type": "code",
   "execution_count": 4,
   "id": "d98ec0ec",
   "metadata": {},
   "outputs": [],
   "source": [
    "from sklearn.neighbors import KNeighborsClassifier\n",
    "classifier = KNeighborsClassifier(n_neighbors=5,algorithm='auto')"
   ]
  },
  {
   "cell_type": "code",
   "execution_count": 5,
   "id": "b5d99d50",
   "metadata": {},
   "outputs": [
    {
     "data": {
      "text/plain": [
       "array([1, 0, 2, 1, 1, 0, 1, 2, 1, 1, 2, 0, 0, 0, 0, 1, 2, 1, 1, 2, 0, 2,\n",
       "       0, 2, 2, 2, 2, 2, 0, 0, 0, 0, 1, 0, 0, 2, 1, 0, 0, 0, 2, 1, 1, 0,\n",
       "       0, 1, 1, 2, 1, 2])"
      ]
     },
     "execution_count": 5,
     "metadata": {},
     "output_type": "execute_result"
    }
   ],
   "source": [
    "classifier.fit(X_train,y_train)\n",
    "classifier.predict(X_test)"
   ]
  },
  {
   "cell_type": "markdown",
   "id": "453fd323",
   "metadata": {},
   "source": [
    "#### Q2. Write a Python code to implement the KNN regressor algorithm on load_boston dataset in sklearn.datasets.\n"
   ]
  },
  {
   "cell_type": "code",
   "execution_count": 6,
   "id": "87930e3d",
   "metadata": {},
   "outputs": [],
   "source": [
    "from sklearn.datasets import load_boston\n",
    "data = load_boston()\n",
    "X = data['data']\n",
    "y = data['target']"
   ]
  },
  {
   "cell_type": "code",
   "execution_count": 7,
   "id": "d5fb1f38",
   "metadata": {},
   "outputs": [],
   "source": [
    "from sklearn.model_selection import train_test_split\n",
    "X_train,X_test,y_train,y_test = train_test_split(X,y,test_size=0.33,random_state=42)"
   ]
  },
  {
   "cell_type": "code",
   "execution_count": 8,
   "id": "7e37e0f4",
   "metadata": {},
   "outputs": [],
   "source": [
    "from sklearn.neighbors import KNeighborsRegressor\n",
    "regressor = KNeighborsRegressor(n_neighbors=5,algorithm='auto')"
   ]
  },
  {
   "cell_type": "code",
   "execution_count": 9,
   "id": "22918cc8",
   "metadata": {},
   "outputs": [
    {
     "data": {
      "text/plain": [
       "array([24.54, 29.34, 14.6 , 28.94, 17.44, 31.88, 20.58, 16.06, 18.02,\n",
       "       21.18, 21.9 , 21.36, 12.28, 20.56, 23.7 , 21.74, 21.18, 14.06,\n",
       "       33.72, 10.6 , 25.86, 29.34, 19.7 , 21.08, 18.88, 23.16, 21.88,\n",
       "       12.34, 21.9 , 21.18, 22.68, 23.14, 10.3 , 30.04, 17.54, 21.12,\n",
       "       21.66, 22.92, 22.52, 29.08, 21.18, 27.98, 38.82, 22.4 , 24.84,\n",
       "       12.6 , 19.7 , 28.94, 19.8 , 22.22, 22.44, 34.7 , 22.04, 21.18,\n",
       "       29.72, 21.38, 12.5 , 35.04, 21.82, 20.6 , 25.3 , 38.82, 28.68,\n",
       "       16.26, 30.46, 24.24, 12.24, 25.3 , 35.04, 12.34, 23.94, 22.52,\n",
       "       14.82, 30.38, 20.56,  8.98, 19.68, 38.82, 10.94, 15.04, 22.4 ,\n",
       "       15.96, 26.3 , 12.24, 22.02, 34.  , 14.16, 22.58, 26.04, 17.86,\n",
       "       24.5 , 15.22, 17.48, 21.76, 24.76, 17.86, 30.16, 10.76, 10.76,\n",
       "       11.92, 21.82, 20.56, 23.16, 21.28, 22.22, 10.88, 23.96, 24.56,\n",
       "       26.74, 26.3 ,  9.98, 15.74, 23.46, 33.72, 33.46, 15.22, 27.9 ,\n",
       "       17.2 , 22.76, 22.44, 24.78, 31.62,  9.78, 18.74, 24.38, 23.28,\n",
       "       28.28, 24.22, 16.98, 31.86, 20.3 , 20.56, 17.28, 17.4 , 18.18,\n",
       "       12.28, 23.46, 33.72, 29.68, 22.04, 22.4 , 29.1 , 26.74, 21.62,\n",
       "       23.16, 34.6 , 21.6 , 13.68, 20.36, 31.48, 15.22, 14.58, 22.36,\n",
       "       19.18, 23.94, 29.62, 19.44, 32.48, 23.46,  9.58, 33.62, 21.56,\n",
       "       22.76, 23.14, 30.22, 22.08, 39.32])"
      ]
     },
     "execution_count": 9,
     "metadata": {},
     "output_type": "execute_result"
    }
   ],
   "source": [
    "regressor.fit(X_train,y_train)\n",
    "regressor.predict(X_test)"
   ]
  },
  {
   "cell_type": "markdown",
   "id": "7263f486",
   "metadata": {},
   "source": [
    "#### Q3. Write a Python code snippet to find the optimal value of K for the KNN classifier algorithm using cross-validation on load_iris dataset in sklearn.datasets.\n"
   ]
  },
  {
   "cell_type": "code",
   "execution_count": 10,
   "id": "2053de8f",
   "metadata": {},
   "outputs": [],
   "source": [
    "from sklearn.model_selection import GridSearchCV\n",
    "params = {'n_neighbors' :[1,2,3,4,5,6,7,8,9,10]}\n",
    "classifier = GridSearchCV(KNeighborsRegressor(),param_grid = params,cv = 5)"
   ]
  },
  {
   "cell_type": "code",
   "execution_count": 11,
   "id": "366ab4c1",
   "metadata": {},
   "outputs": [
    {
     "data": {
      "text/plain": [
       "{'n_neighbors': 3}"
      ]
     },
     "execution_count": 11,
     "metadata": {},
     "output_type": "execute_result"
    }
   ],
   "source": [
    "classifier.fit(X_train,y_train)\n",
    "classifier.best_params_"
   ]
  },
  {
   "cell_type": "markdown",
   "id": "0c963636",
   "metadata": {},
   "source": [
    "#### Q4. Implement the KNN regressor algorithm with feature scaling on load_boston dataset in sklearn.datasets."
   ]
  },
  {
   "cell_type": "code",
   "execution_count": 12,
   "id": "b6a63bc1",
   "metadata": {},
   "outputs": [],
   "source": [
    "from sklearn.datasets import load_boston\n",
    "data = load_boston()\n",
    "X = data['data']\n",
    "y = data['target']\n",
    "from sklearn.model_selection import train_test_split\n",
    "X_train,X_test,y_train,y_test = train_test_split(X,y,test_size=0.33,random_state=42)"
   ]
  },
  {
   "cell_type": "code",
   "execution_count": 13,
   "id": "7253cb9d",
   "metadata": {},
   "outputs": [
    {
     "data": {
      "text/plain": [
       "array([[ 0.89624872, -0.51060139,  0.98278223, ...,  0.86442095,\n",
       "         0.24040357,  0.77155612],\n",
       "       [-0.34895881, -0.51060139, -0.44867555, ...,  1.22118698,\n",
       "         0.20852839,  0.32248963],\n",
       "       [-0.41764058,  0.03413008, -0.48748013, ..., -1.36536677,\n",
       "         0.43481957,  0.92775316],\n",
       "       ...,\n",
       "       [-0.43451148,  2.97567999, -1.32968321, ..., -0.56264319,\n",
       "         0.36745216, -0.90756208],\n",
       "       [ 1.01703049, -0.51060139,  0.98278223, ...,  0.86442095,\n",
       "        -2.80977992,  1.50233514],\n",
       "       [-0.40667333, -0.51060139, -0.38831288, ...,  1.17659123,\n",
       "        -3.25117205, -0.26046005]])"
      ]
     },
     "execution_count": 13,
     "metadata": {},
     "output_type": "execute_result"
    }
   ],
   "source": [
    "from sklearn.preprocessing import StandardScaler\n",
    "scaler = StandardScaler()\n",
    "X_train_scaled = scaler.fit_transform(X_train)\n",
    "X_test_scaled = scaler.transform(X_test)\n",
    "X_train_scaled"
   ]
  },
  {
   "cell_type": "code",
   "execution_count": 14,
   "id": "afa766ac",
   "metadata": {},
   "outputs": [
    {
     "data": {
      "text/plain": [
       "array([24.54, 29.34, 14.6 , 28.94, 17.44, 31.88, 20.58, 16.06, 18.02,\n",
       "       21.18, 21.9 , 21.36, 12.28, 20.56, 23.7 , 21.74, 21.18, 14.06,\n",
       "       33.72, 10.6 , 25.86, 29.34, 19.7 , 21.08, 18.88, 23.16, 21.88,\n",
       "       12.34, 21.9 , 21.18, 22.68, 23.14, 10.3 , 30.04, 17.54, 21.12,\n",
       "       21.66, 22.92, 22.52, 29.08, 21.18, 27.98, 38.82, 22.4 , 24.84,\n",
       "       12.6 , 19.7 , 28.94, 19.8 , 22.22, 22.44, 34.7 , 22.04, 21.18,\n",
       "       29.72, 21.38, 12.5 , 35.04, 21.82, 20.6 , 25.3 , 38.82, 28.68,\n",
       "       16.26, 30.46, 24.24, 12.24, 25.3 , 35.04, 12.34, 23.94, 22.52,\n",
       "       14.82, 30.38, 20.56,  8.98, 19.68, 38.82, 10.94, 15.04, 22.4 ,\n",
       "       15.96, 26.3 , 12.24, 22.02, 34.  , 14.16, 22.58, 26.04, 17.86,\n",
       "       24.5 , 15.22, 17.48, 21.76, 24.76, 17.86, 30.16, 10.76, 10.76,\n",
       "       11.92, 21.82, 20.56, 23.16, 21.28, 22.22, 10.88, 23.96, 24.56,\n",
       "       26.74, 26.3 ,  9.98, 15.74, 23.46, 33.72, 33.46, 15.22, 27.9 ,\n",
       "       17.2 , 22.76, 22.44, 24.78, 31.62,  9.78, 18.74, 24.38, 23.28,\n",
       "       28.28, 24.22, 16.98, 31.86, 20.3 , 20.56, 17.28, 17.4 , 18.18,\n",
       "       12.28, 23.46, 33.72, 29.68, 22.04, 22.4 , 29.1 , 26.74, 21.62,\n",
       "       23.16, 34.6 , 21.6 , 13.68, 20.36, 31.48, 15.22, 14.58, 22.36,\n",
       "       19.18, 23.94, 29.62, 19.44, 32.48, 23.46,  9.58, 33.62, 21.56,\n",
       "       22.76, 23.14, 30.22, 22.08, 39.32])"
      ]
     },
     "execution_count": 14,
     "metadata": {},
     "output_type": "execute_result"
    }
   ],
   "source": [
    "from sklearn.neighbors import KNeighborsRegressor\n",
    "regressor = KNeighborsRegressor(n_neighbors=5,algorithm='auto')\n",
    "regressor.fit(X_train,y_train)\n",
    "regressor.predict(X_test)"
   ]
  },
  {
   "cell_type": "markdown",
   "id": "72a12c56",
   "metadata": {},
   "source": [
    "#### Q5. Write a Python code snippet to implement the KNN classifier algorithm with weighted voting on load_iris dataset in sklearn.datasets.\n"
   ]
  },
  {
   "cell_type": "code",
   "execution_count": 15,
   "id": "376a3a12",
   "metadata": {},
   "outputs": [
    {
     "data": {
      "text/plain": [
       "array([24.53647384, 31.03480478, 15.72056537, 29.59139223, 17.61849361,\n",
       "       32.02395363, 20.47500086, 15.84360849, 18.4987169 , 20.94911185,\n",
       "       22.54664945, 20.88348005, 12.23877675, 20.91006945, 23.77262602,\n",
       "       21.82508719, 20.54223245, 13.77669672, 34.36441456, 10.95866924,\n",
       "       26.42388876, 30.93258153, 18.67280178, 21.05225726, 17.71262909,\n",
       "       21.10255918, 22.75749485, 11.94770274, 22.56027537, 20.04157948,\n",
       "       22.70792905, 23.43559813, 10.25436795, 30.73552035, 18.36319146,\n",
       "       21.30810832, 22.57223525, 20.41840834, 22.14600095, 30.35916605,\n",
       "       20.3861741 , 31.25796434, 39.3745921 , 22.27933417, 25.23183002,\n",
       "       12.3617611 , 18.83902264, 30.19640555, 19.91776014, 22.15870163,\n",
       "       22.41327114, 34.08078435, 21.68191699, 21.71696862, 30.78169707,\n",
       "       20.96240258, 12.18981442, 36.59817495, 22.60655322, 20.84712983,\n",
       "       23.4463727 , 38.38931648, 34.3730875 , 16.1532243 , 30.43729211,\n",
       "       24.17715971, 11.69290013, 26.54626334, 34.19721654, 12.70176683,\n",
       "       22.91990788, 23.17817696, 14.87456556, 26.22511161, 21.45481198,\n",
       "        8.94303227, 19.58109182, 39.34391412,  9.81642826, 13.89178914,\n",
       "       22.41470539, 15.72168434, 25.76186089, 12.23341575, 22.32152957,\n",
       "       33.19934253, 14.38552428, 22.41960161, 26.21325185, 18.05421651,\n",
       "       24.32758125, 16.11075582, 17.95351775, 21.18452938, 25.58200914,\n",
       "       17.91846089, 31.16459406,  9.1838562 , 10.55254772, 11.10134414,\n",
       "       22.30781136, 21.29524012, 21.89057679, 21.26444352, 22.52864048,\n",
       "       11.58943732, 23.9368248 , 24.32670731, 24.57112002, 26.15646259,\n",
       "        9.31030804, 16.55834683, 22.39228691, 37.41034413, 33.06219917,\n",
       "       14.45642927, 28.43764848, 15.38470233, 22.5446066 , 22.48243918,\n",
       "       22.58184529, 32.64231977, 10.73667033, 21.07247388, 25.4936477 ,\n",
       "       23.39021557, 28.72922607, 28.27879139, 15.10387247, 31.21569063,\n",
       "       19.53517887, 20.08947578, 16.68331372, 17.93693241, 17.57129385,\n",
       "       12.28283433, 22.53443764, 35.06439733, 29.94733507, 21.43569114,\n",
       "       22.33753427, 29.10983982, 27.58546435, 21.97241858, 22.2727341 ,\n",
       "       34.08453293, 21.829555  , 14.12407055, 20.34202912, 33.3699001 ,\n",
       "       14.00729193, 14.32908702, 24.18870103, 19.63273448, 22.88433993,\n",
       "       29.86148093, 19.68858761, 34.03854563, 24.15473215,  9.66303075,\n",
       "       34.65123914, 22.01116876, 22.56942421, 23.43544793, 33.79400842,\n",
       "       20.02634034, 40.12275812])"
      ]
     },
     "execution_count": 15,
     "metadata": {},
     "output_type": "execute_result"
    }
   ],
   "source": [
    "regressor = KNeighborsRegressor(n_neighbors=5,algorithm='auto',weights='distance')\n",
    "regressor.fit(X_train,y_train)\n",
    "regressor.predict(X_test)"
   ]
  },
  {
   "cell_type": "markdown",
   "id": "0a32ef14",
   "metadata": {},
   "source": [
    "#### Q6. Implement a function to standardise the features before applying KNN classifier."
   ]
  },
  {
   "cell_type": "code",
   "execution_count": 16,
   "id": "cea26f2d",
   "metadata": {},
   "outputs": [],
   "source": [
    "from sklearn.preprocessing import StandardScaler\n",
    "\n",
    "def standardize_data(X_train,X_test):\n",
    "    scaler = StandardScaler()\n",
    "    X_train_scaled = scaler.fit_transform(X_train)\n",
    "    X_test_scaled = scaler.transform(X_test)\n",
    "    return X_train_scaled,X_test_scaled\n",
    "train_scaled,test_scaled = standardize_data(X_train,X_test)"
   ]
  },
  {
   "cell_type": "markdown",
   "id": "2d363a6c",
   "metadata": {},
   "source": [
    "#### Q7. Write a Python function to calculate the euclidean distance between two points."
   ]
  },
  {
   "cell_type": "code",
   "execution_count": 17,
   "id": "7dace08f",
   "metadata": {},
   "outputs": [
    {
     "name": "stdout",
     "output_type": "stream",
     "text": [
      "4.242640687119285\n"
     ]
    }
   ],
   "source": [
    "\n",
    "import numpy as np\n",
    "\n",
    "def Euclidian_distance(point1,point2):\n",
    "    distance = 0\n",
    "    for i in range(len(point1)):\n",
    "        distance += (point1[i] - point2[i])**2\n",
    "    final_distance = np.sqrt(distance)\n",
    "    return final_distance\n",
    "\n",
    "pt1 = np.array([2,3])\n",
    "pt2 = np.array([5,6])\n",
    "print(Euclidian_distance(pt1,pt2))"
   ]
  },
  {
   "cell_type": "markdown",
   "id": "1cd1cd81",
   "metadata": {},
   "source": [
    "#### Q8. Write a Python function to calculate the manhattan distance between two points."
   ]
  },
  {
   "cell_type": "code",
   "execution_count": 18,
   "id": "f1724bd0",
   "metadata": {},
   "outputs": [
    {
     "name": "stdout",
     "output_type": "stream",
     "text": [
      "1\n"
     ]
    }
   ],
   "source": [
    "def Manhatten_distance(point1,point2):\n",
    "    distance = 0\n",
    "    for i in range(len(point1)):\n",
    "        distance = np.abs(point1[i] - point2[i])\n",
    "    return distance\n",
    "pt1 = np.array([4,5])\n",
    "pt2 = np.array([10,4])\n",
    "print(Manhatten_distance(pt1,pt2))"
   ]
  }
 ],
 "metadata": {
  "kernelspec": {
   "display_name": "Python 3 (ipykernel)",
   "language": "python",
   "name": "python3"
  },
  "language_info": {
   "codemirror_mode": {
    "name": "ipython",
    "version": 3
   },
   "file_extension": ".py",
   "mimetype": "text/x-python",
   "name": "python",
   "nbconvert_exporter": "python",
   "pygments_lexer": "ipython3",
   "version": "3.9.13"
  }
 },
 "nbformat": 4,
 "nbformat_minor": 5
}
