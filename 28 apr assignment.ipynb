{
 "cells": [
  {
   "cell_type": "code",
   "execution_count": null,
   "id": "6dea9f90",
   "metadata": {},
   "outputs": [],
   "source": [
    "#### Q1. What is hierarchical clustering, and how is it different from other clustering techniques?\n",
    "#### Q2. What are the two main types of hierarchical clustering algorithms? Describe each in brief.\n",
    "#### Q3. How do you determine the distance between two clusters in hierarchical clustering, and what are the common distance metrics used?\n",
    "#### Q4. How do you determine the optimal number of clusters in hierarchical clustering, and what are some common methods used for this purpose?\n",
    "#### Q5. What are dendrograms in hierarchical clustering, and how are they useful in analyzing the results?\n",
    "#### Q6. Can hierarchical clustering be used for both numerical and categorical data? If yes, how are the distance metrics different for each type of data?\n",
    "#### Q7. How can you use hierarchical clustering to identify outliers or anomalies in your data?"
   ]
  }
 ],
 "metadata": {
  "kernelspec": {
   "display_name": "Python 3 (ipykernel)",
   "language": "python",
   "name": "python3"
  },
  "language_info": {
   "codemirror_mode": {
    "name": "ipython",
    "version": 3
   },
   "file_extension": ".py",
   "mimetype": "text/x-python",
   "name": "python",
   "nbconvert_exporter": "python",
   "pygments_lexer": "ipython3",
   "version": "3.9.13"
  }
 },
 "nbformat": 4,
 "nbformat_minor": 5
}
