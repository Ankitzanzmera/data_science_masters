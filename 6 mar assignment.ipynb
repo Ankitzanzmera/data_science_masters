{
 "cells": [
  {
   "cell_type": "markdown",
   "id": "ad05490b",
   "metadata": {},
   "source": [
    "#### Q1. What is Statistics?"
   ]
  },
  {
   "cell_type": "markdown",
   "id": "6fd78fd3",
   "metadata": {},
   "source": [
    "Statistics is the science of collecting , organising and analysing data."
   ]
  },
  {
   "cell_type": "markdown",
   "id": "08426177",
   "metadata": {},
   "source": [
    "#### Q2. Define the different types of statistics and give an example of when each type might be used."
   ]
  },
  {
   "cell_type": "markdown",
   "id": "0fcffd12",
   "metadata": {},
   "source": [
    "There are two types of Statistics, which are descriptive Statistics and inferential Statistics. \n",
    "\n",
    "In descriptive Statistics, the Data or Collection Data are described in a summarized way\n",
    "whereas in inferential Statistics, \n",
    "we make use of it in order to explain the descriptive kind. Both of them are used on a large scale.\n",
    "\n",
    "Example : Suppose we want to describe the test scores in a specific class of 30 students\n",
    "Descriptive question \" what is the average score of the class\"\n",
    "Inferential question \"Is the score in classromm similar what you expect in the entire college\""
   ]
  },
  {
   "cell_type": "markdown",
   "id": "1b6db000",
   "metadata": {},
   "source": [
    "#### Q3. What are the different types of data and how do they differ from each other? Provide an example of each type of data."
   ]
  },
  {
   "cell_type": "markdown",
   "id": "17951053",
   "metadata": {},
   "source": [
    "1. Qualitative data\n",
    "2. Quantitative data\n",
    "\n",
    "1). Qualitative or Categorical Data is data that can’t be measured or counted in the form of numbers. \n",
    "These types of data are sorted by category, not by number.\n",
    "\n",
    "Examples of qualitative data are :\n",
    "Favorite holiday destination\n",
    "Opinion on something (agree, disagree, or neutral)\n",
    "Colors\n",
    "\n",
    "The Qualitative data are further classified into two parts :\n",
    "(a) Nominal Data\n",
    "Nominal Data is used to label variables without any order or rank. The color of hair can be considered nominal data,\n",
    "as one color can’t be compared with another color.\n",
    "\n",
    "Examples of Nominal Data :\n",
    "\n",
    "Colour of hair (Blonde, red, Brown, Black, etc.)\n",
    "Gender (Male, Female)\n",
    "\n",
    "(b) Ordinal Data\n",
    "Ordinal data have natural ordering where a number is present in some kind of order by their position on the scale.\n",
    "\n",
    "Examples of Ordinal Data :\n",
    "    \n",
    "When companies ask for feedback, experience, or satisfaction on a scale of 1 to 10\n",
    "Letter grades in the exam (A, B, C, D, etc.)\n",
    "Ranking of people in a competition (First, Second, Third, etc.)\n",
    "Economic Status (High, Medium, and Low)\n",
    "\n",
    "2. Quantitative Data\n",
    "Quantitative data can be expressed in numerical values, making it countable and including statistical data analysis.\n",
    "These kinds of data are also known as Numerical data. \n",
    "\n",
    "Examples of Quantitative Data : \n",
    "Room Temperature\n",
    "Scores and Marks (Ex: 59, 80, 60, etc.)\n",
    "Time\n",
    "The Quantitative data are further classified into two parts :\n",
    "    \n",
    "(x) Discrete Data\n",
    "The discrete data contain the values that fall under integers or whole numbers.\n",
    "\n",
    "The discrete data are countable and have finite values.\n",
    "\n",
    "Examples of Discrete Data : \n",
    "Total numbers of students present in a class\n",
    "Days in a week\n",
    "(y) Continuous Data\n",
    "Continuous data are in the form of fractional numbers. The continuous variable can take any value within a range. \n",
    "\n",
    "Examples of Continuous Data : \n",
    "Height of a person\n",
    "Speed of a vehicle\n",
    "“Time-taken” to finish the work."
   ]
  },
  {
   "cell_type": "markdown",
   "id": "4ce2f766",
   "metadata": {},
   "source": [
    "#### Q4. Categorise the following datasets with respect to quantitative and qualitative data types:\n",
    "     1. Grading in exam: A+, A, B+, B, C+, C, D, E\n",
    "     2. Colour of mangoes: yellow, green, orange, red\n",
    "     3. Height data of a class: [178.9, 179, 179.5, 176, 177.2, 178.3, 175.8,...]\n",
    "     4. Number of mangoes exported by a farm: [500, 600, 478, 672, ...]"
   ]
  },
  {
   "cell_type": "markdown",
   "id": "85acb08c",
   "metadata": {},
   "source": [
    "1. Qualitative Data\n",
    "2. Qualitative Data\n",
    "3. Quantitative data\n",
    "4. Quantitative Data"
   ]
  },
  {
   "cell_type": "markdown",
   "id": "500d7fa0",
   "metadata": {},
   "source": [
    "#### Q5. Explain the concept of levels of measurement and give an example of a variable for each level."
   ]
  },
  {
   "cell_type": "markdown",
   "id": "74ddb01e",
   "metadata": {},
   "source": [
    "1. Nominal: the data can only be categorized.example :Colour\n",
    "2. Ordinal: the data can be categorized and ranked.example:Economic Status (High, Medium, and Low)\n",
    "3. Interval: the data can be categorized and ranked, and evenly spaced.example:Temperature\n",
    "4. Ratio: the data can be categorized, ranked, evenly spaced and has a natural zero.example:Students Age in a class"
   ]
  },
  {
   "cell_type": "markdown",
   "id": "a3702702",
   "metadata": {},
   "source": [
    "#### Q6. Why is it important to understand the level of measurement when analyzing data? Provide an example to illustrate your answer."
   ]
  },
  {
   "cell_type": "markdown",
   "id": "14669c14",
   "metadata": {},
   "source": [
    "It is important to understand the level of measurement of variables in research,\n",
    "because the level of measurement determines the type of statistical analysis that can be conducted, \n",
    "and, therefore, the type of conclusions that can be drawn from the research. \n",
    "\n",
    "Example:Temperature.\n",
    "unless we are knowing the type of data we will be unable to use the level of measurement for the  analysis of data"
   ]
  },
  {
   "cell_type": "markdown",
   "id": "18f034a3",
   "metadata": {},
   "source": [
    "#### Q7. How nominal data type is different from ordinal data type."
   ]
  },
  {
   "cell_type": "markdown",
   "id": "0d09a5bd",
   "metadata": {},
   "source": [
    "Ordinal data is data that can be ranked or ordered. Examples include data taken from a poll or survey. \n",
    "Nominal data is data that can be made to fit various categories.\n",
    "Examples include whether an animal is a mammal, fish, reptile, amphibian, or bird."
   ]
  },
  {
   "cell_type": "markdown",
   "id": "bae05b36",
   "metadata": {},
   "source": [
    "#### Q8. Which type of plot can be used to display data in terms of range?"
   ]
  },
  {
   "cell_type": "markdown",
   "id": "c3d65ed9",
   "metadata": {},
   "source": [
    "Histogram"
   ]
  },
  {
   "cell_type": "markdown",
   "id": "a0ab33b4",
   "metadata": {},
   "source": [
    "#### Q9. Describe the difference between descriptive and inferential statistics. Give an example of each type of statistics and explain how they are used."
   ]
  },
  {
   "cell_type": "markdown",
   "id": "1c696ab2",
   "metadata": {},
   "source": [
    "1. Descriptive statistics explains already known data related to a particular sample or population of a small size.\n",
    "Inferential statistics, however, aims to draw inferences or conclusions about a whole population.\n",
    "\n",
    "2. We use charts, graphs, and tables to represent descriptive statistics, \n",
    "while we use probability methods for inferential statistics.\n",
    "Example : Suppose we want to describe the test scores in a specific class of 30 students\n",
    "Descriptive question \" what is the average score of the class\"\n",
    "Inferential question \"Is the score in classromm similar what you expect in the entire college\""
   ]
  },
  {
   "cell_type": "markdown",
   "id": "8a45ba21",
   "metadata": {},
   "source": [
    "#### Q10. What are some common measures of central tendency and variability used in statistics? Explain how each measure can be used to describe a dataset."
   ]
  },
  {
   "cell_type": "markdown",
   "id": "b04d57a1",
   "metadata": {},
   "source": [
    "There are three main measures of central tendency:\n",
    "1. Mode:value that occurs with greatest frequency.\n",
    "2. Median:“middle value” or the average of “middle two values” in a data set when the numbers are arranged in an order. \n",
    "3. Mean: average of data values,\n",
    "\n",
    "There are two measure of Variability:\n",
    "1. Variance :square of the standard deviation\n",
    "2. Standard deviation:measure of how much data values are deviated away from mean.\n",
    "3. Range :Difference between the maximum value and the minimum value in a data set,\n",
    "Range = maximum value – minimum value"
   ]
  },
  {
   "cell_type": "code",
   "execution_count": null,
   "id": "49d20eaf",
   "metadata": {},
   "outputs": [],
   "source": []
  }
 ],
 "metadata": {
  "kernelspec": {
   "display_name": "Python 3 (ipykernel)",
   "language": "python",
   "name": "python3"
  },
  "language_info": {
   "codemirror_mode": {
    "name": "ipython",
    "version": 3
   },
   "file_extension": ".py",
   "mimetype": "text/x-python",
   "name": "python",
   "nbconvert_exporter": "python",
   "pygments_lexer": "ipython3",
   "version": "3.9.13"
  }
 },
 "nbformat": 4,
 "nbformat_minor": 5
}
