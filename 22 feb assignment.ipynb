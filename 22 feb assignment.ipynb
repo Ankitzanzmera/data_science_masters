{
 "cells": [
  {
   "cell_type": "markdown",
   "id": "5c02853c",
   "metadata": {},
   "source": [
    "#### Q1. Write a python program to extract the video URL of the first five videos."
   ]
  },
  {
   "cell_type": "code",
   "execution_count": null,
   "id": "d1d654b3",
   "metadata": {},
   "outputs": [],
   "source": [
    "#importing the necessary libraries\n",
    "import requests\n",
    "from bs4 import BeautifulSoup\n",
    "\n",
    "url = 'https://www.youtube.com/results?search_query=python'\n",
    "\n",
    "\n",
    "response = requests.get(url)\n",
    "\n",
    "\n",
    "#parsing the response using BeautifulSoup\n",
    "\n",
    "soup = BeautifulSoup(response.text, 'html.parser')\n",
    "\n",
    "\n",
    "#extracting the video URLs of the first five videos\n",
    "\n",
    "video_urls =\n",
    "\n",
    "for vid in soup.findAll('a', attrs={'class': 'yt-uix-tile-link'}):5:\n",
    "\n",
    "video_urls.append('https://www.youtube.com' + vid'href')\n",
    "\n",
    "\n",
    "#printing the video URLs of the first five videos\n",
    "\n",
    "print(video_urls)"
   ]
  },
  {
   "cell_type": "markdown",
   "id": "2ce0dfb1",
   "metadata": {},
   "source": [
    "#### Q2. Write a python program to extract the URL of the video thumbnails of the first five videos."
   ]
  },
  {
   "cell_type": "code",
   "execution_count": null,
   "id": "0ec53e6b",
   "metadata": {},
   "outputs": [],
   "source": [
    "import requests\n",
    "\n",
    "from bs4 import BeautifulSoup\n",
    "\n",
    "\n",
    "url = 'https://www.youtube.com/results?search_query=python'\n",
    "\n",
    "\n",
    "Make a GET request to fetch the raw HTML content\n",
    "\n",
    "\n",
    "html_content = requests.get(url).text\n",
    "\n",
    "\n",
    "Parse the html content\n",
    "\n",
    "\n",
    "soup = BeautifulSoup(html_content, \"lxml\")\n",
    "\n",
    "\n",
    "Print the parsed content i.e. html****print(soup.prettify())\n",
    "\n",
    "\n",
    "Extract all the <a> tags into a list\n",
    "\n",
    "\n",
    "a_tags = soup.find_all('a', id='thumbnail')\n",
    "\n",
    "\n",
    "Get the URL of the first five video thumbnailsfor i in range(5):\n",
    "\n",
    "print(a_tagsi)"
   ]
  },
  {
   "cell_type": "markdown",
   "id": "7e977449",
   "metadata": {},
   "source": [
    "#### Q3. Write a python program to extract the title of the first five videos."
   ]
  },
  {
   "cell_type": "code",
   "execution_count": null,
   "id": "5f45fd24",
   "metadata": {},
   "outputs": [],
   "source": [
    "import requests\n",
    "\n",
    "from bs4 import BeautifulSoup\n",
    "\n",
    "\n",
    "url = 'https://www.youtube.com/results?search_query=python'\n",
    "\n",
    "\n",
    "Make a GET request to fetch the raw HTML content\n",
    "\n",
    "\n",
    "html_content = requests.get(url).text\n",
    "\n",
    "\n",
    "Parse the html content\n",
    "\n",
    "\n",
    "soup = BeautifulSoup(html_content, \"lxml\")\n",
    "\n",
    "\n",
    "Print the number of videos foundvideo_titles = soup.find_all('a', attrs={'rel': 'spf-prefetch'}):5\n",
    "\n",
    "for title in video_titles:\n",
    "\n",
    "print(title'title')"
   ]
  },
  {
   "cell_type": "markdown",
   "id": "d0684eae",
   "metadata": {},
   "source": [
    "#### Q4. Write a python program to extract the number of views of the first five videos."
   ]
  },
  {
   "cell_type": "code",
   "execution_count": null,
   "id": "c68a2530",
   "metadata": {},
   "outputs": [],
   "source": [
    "\n",
    "import requests\n",
    "\n",
    "from bs4 import BeautifulSoup\n",
    "\n",
    "\n",
    "URL of the page from which****data is to be extracted\n",
    "\n",
    "\n",
    "url = \"https://www.youtube.com/results?search_query=python\"\n",
    "\n",
    "\n",
    "HTTP request to the webpage\n",
    "\n",
    "\n",
    "page = requests.get(url)\n",
    "\n",
    "\n",
    "Parsing the webpage as****an HTML document\n",
    "\n",
    "\n",
    "soup = BeautifulSoup(page.content, 'html.parser')\n",
    "\n",
    "\n",
    "Extracting all the <a> tags into a list\n",
    "\n",
    "\n",
    "tags = soup.find_all('a')\n",
    "\n",
    "\n",
    "#Extracting URLs from the attribute href****in the <a> tagsfor tag in tags:\n",
    "\n",
    "if \"watch\" in tag'href':\n",
    "\n",
    "Forming complete URL for\n",
    "performing HTTP request\n",
    "vid_src = \"https://www.youtube.com\" + tag'href'\n",
    "\n",
    "HTTP request to the webpage\n",
    "vid_page = requests.get(vid_src)\n",
    "\n",
    "Parsing the webpage as an HTML document\n",
    "soup = BeautifulSoup(vid_page.content, 'html.parser')\n",
    "\n",
    "Extracting views from the HTML document\n",
    "views = soup.find('div', attrs={'class': 'watch-view-count'})\n",
    "\n",
    "Extracting text from the HTML document\n",
    "views = views.text.strip()\n",
    "\n",
    "print(views)"
   ]
  },
  {
   "cell_type": "markdown",
   "id": "9ce31041",
   "metadata": {},
   "source": [
    "#### Q5. Write a python program to extract the time of posting of video for the first five videos."
   ]
  },
  {
   "cell_type": "code",
   "execution_count": null,
   "id": "e75879a2",
   "metadata": {},
   "outputs": [],
   "source": [
    "import requests\n",
    "\n",
    "from bs4 import BeautifulSoup\n",
    "\n",
    "\n",
    "get the page content\n",
    "\n",
    "\n",
    "url = 'https://www.youtube.com/results?search_query=python'\n",
    "\n",
    "page = requests.get(url)\n",
    "\n",
    "\n",
    "parse the page content\n",
    "\n",
    "\n",
    "soup = BeautifulSoup(page.content, 'html.parser')\n",
    "\n",
    "\n",
    "extract the time of posting for the first five videosfor i in range(5):\n",
    "\n",
    "video_time = soup.find_all('span', class_='style-scope ytd-thumbnail-overlay-time-status-renderer')i.text\n",
    "\n",
    "print(\"Time of posting for video {} is {}\".format(i+1, video_time))"
   ]
  }
 ],
 "metadata": {
  "kernelspec": {
   "display_name": "Python 3 (ipykernel)",
   "language": "python",
   "name": "python3"
  },
  "language_info": {
   "codemirror_mode": {
    "name": "ipython",
    "version": 3
   },
   "file_extension": ".py",
   "mimetype": "text/x-python",
   "name": "python",
   "nbconvert_exporter": "python",
   "pygments_lexer": "ipython3",
   "version": "3.9.13"
  }
 },
 "nbformat": 4,
 "nbformat_minor": 5
}
