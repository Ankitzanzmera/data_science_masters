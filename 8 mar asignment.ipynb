{
 "cells": [
  {
   "cell_type": "markdown",
   "id": "65175892",
   "metadata": {},
   "source": [
    "#### Q1. What is the Probability density function?"
   ]
  },
  {
   "cell_type": "markdown",
   "id": "eeb6b9c6",
   "metadata": {},
   "source": [
    "The probability density function (PDF) is a mathematical function that describes the relative likelihood of a continuous random variable taking on a certain value or range of values. In other words, the PDF provides the probability of a random variable falling within a certain range of values.\n",
    "\n",
    "Unlike discrete random variables, which have a probability mass function (PMF) that assigns probabilities to specific values, continuous random variables can take on an infinite number of values within a range, so the PDF provides a way to describe the probability distribution of these variables.\n",
    "\n",
    "The PDF is defined such that the area under the curve between two points on the x-axis represents the probability that the random variable falls within that range. The integral of the PDF over the entire range of the variable must be equal to 1, since the total probability of all possible outcomes must be 1."
   ]
  },
  {
   "cell_type": "markdown",
   "id": "5f8586c6",
   "metadata": {},
   "source": [
    "#### Q2. What are the types of Probability distribution?"
   ]
  },
  {
   "cell_type": "markdown",
   "id": "cc4f32d9",
   "metadata": {},
   "source": [
    "1. Bernoulli Distribution\n",
    "2. Binomial Distribution\n",
    "3. Poisson Distribution\n",
    "4. Normal Distribution\n",
    "5. Uniform Distribution\n",
    "6. Log normal Distribution\n",
    "7. Power Law Distribution"
   ]
  },
  {
   "cell_type": "markdown",
   "id": "3cf93e7e",
   "metadata": {},
   "source": [
    "#### Q3. Write a Python function to calculate the probability density function of a normal distribution with given mean and standard deviation at a given point."
   ]
  },
  {
   "cell_type": "code",
   "execution_count": 49,
   "id": "d75e915d",
   "metadata": {},
   "outputs": [
    {
     "data": {
      "text/plain": [
       "0.24197072451914337"
      ]
     },
     "execution_count": 49,
     "metadata": {},
     "output_type": "execute_result"
    }
   ],
   "source": [
    "import math\n",
    "def pdf(x,mean,std):\n",
    "    exp = math.exp( -0.5 * (((x-mean) / (std))**2))\n",
    "    coef = 1 / (std * math.sqrt(2 * math.pi))\n",
    "    return coef * exp\n",
    "pdf(1,0,1)"
   ]
  },
  {
   "cell_type": "markdown",
   "id": "b869dd2c",
   "metadata": {},
   "source": [
    "#### Q4. What are the properties of Binomial distribution? Give two examples of events where binomial distribution can be applied."
   ]
  },
  {
   "cell_type": "markdown",
   "id": "000ffa87",
   "metadata": {},
   "source": [
    "The binomial distribution is a discrete probability distribution that describes the number of successes in a fixed number of independent trials, where each trial has only two possible outcomes, such as success or failure.\n",
    "\n",
    "The distribution is characterized by two parameters: n, the number of trials, and p, the probability of success in each trial.\n",
    "\n",
    "The probability mass function of the binomial distribution is given by: P(X = k) = (n choose k) * p^k * (1-p)^(n-k), where X is the random variable representing the number of successes, k is the number of successes, (n choose k) is the binomial coefficient, and p and (1-p) are the probabilities of success and failure, respectively.\n",
    "\n",
    "The mean of the binomial distribution is given by np, and the variance is np(1-p).\n",
    "\n",
    "The binomial distribution is often used to model real-world phenomena where there are only two possible outcomes in each trial, such as flipping a coin, rolling a die, or testing the effectiveness of a drug."
   ]
  },
  {
   "cell_type": "markdown",
   "id": "2095c011",
   "metadata": {},
   "source": [
    "#### Q5. Generate a random sample of size 1000 from a binomial distribution with probability of success 0.4 and plot a histogram of the results using matplotlib."
   ]
  },
  {
   "cell_type": "code",
   "execution_count": 50,
   "id": "24c97d4d",
   "metadata": {},
   "outputs": [
    {
     "data": {
      "text/plain": [
       "(array([  1.,  42., 125., 222., 254., 202., 116.,  27.,  10.,   1.]),\n",
       " array([0. , 0.9, 1.8, 2.7, 3.6, 4.5, 5.4, 6.3, 7.2, 8.1, 9. ]),\n",
       " <BarContainer object of 10 artists>)"
      ]
     },
     "execution_count": 50,
     "metadata": {},
     "output_type": "execute_result"
    },
    {
     "data": {
      "image/png": "[encoded data removed]",
      "text/plain": [
       "<Figure size 640x480 with 1 Axes>"
      ]
     },
     "metadata": {},
     "output_type": "display_data"
    }
   ],
   "source": [
    "import numpy as np\n",
    "import matplotlib.pyplot as plt\n",
    "n = 10\n",
    "p = 0.4\n",
    "sample = np.random.binomial(n,p,size = 1000)\n",
    "plt.hist(sample)"
   ]
  },
  {
   "cell_type": "markdown",
   "id": "cd51fbff",
   "metadata": {},
   "source": [
    "#### Q6. Write a Python function to calculate the cumulative distribution function of a Poisson distribution with given mean at a given point."
   ]
  },
  {
   "cell_type": "code",
   "execution_count": 51,
   "id": "795115cb",
   "metadata": {},
   "outputs": [
    {
     "data": {
      "text/plain": [
       "0.5438131158833295"
      ]
     },
     "execution_count": 51,
     "metadata": {},
     "output_type": "execute_result"
    }
   ],
   "source": [
    "import math\n",
    "\n",
    "def cdf(x,mean):\n",
    "    cdf = 0\n",
    "    for i in range(x+1):\n",
    "        cdf += math.exp(-mean) * (mean ** i) / math.factorial(i)\n",
    "    return cdf\n",
    "cdf(2,2.5)\n"
   ]
  },
  {
   "cell_type": "markdown",
   "id": "436f1879",
   "metadata": {},
   "source": [
    "#### Q7. How Binomial distribution different from Poisson distribution?"
   ]
  },
  {
   "cell_type": "markdown",
   "id": "b51476ac",
   "metadata": {},
   "source": [
    "Binomial distribution and Poisson distribution are both discrete probability distributions that model the number of occurrences of an event. However, they have some key differences:\n",
    "\n",
    "Number of trials: In a binomial distribution, the number of trials is fixed and known in advance. In a Poisson distribution, there is no fixed number of trials; rather, the distribution models the number of events that occur in a fixed interval of time or space.\n",
    "\n",
    "Probability of success: In a binomial distribution, the probability of success is constant and the same for each trial. In a Poisson distribution, the probability of success may vary depending on the time or space interval being considered, but it is assumed to be small and constant within the interval.\n",
    "\n",
    "Mean and variance: The mean and variance of a binomial distribution are both calculated as n*p, where n is the number of trials and p is the probability of success. In a Poisson distribution, both the mean and variance are equal to λ, where λ is the average number of events per interval.\n",
    "\n",
    "Limitations: A binomial distribution is appropriate when there are a fixed number of trials, each with a binary outcome, and the probability of success is constant for each trial. A Poisson distribution is appropriate when the number of events in a fixed interval follows a rare event pattern (i.e., the probability of an event occurring is low, but the number of opportunities for it to occur is high), and the events are independent of each other."
   ]
  },
  {
   "cell_type": "markdown",
   "id": "4c98ffbc",
   "metadata": {},
   "source": [
    "#### Q8. Generate a random sample of size 1000 from a Poisson distribution with mean 5 and calculate the sample mean and variance."
   ]
  },
  {
   "cell_type": "code",
   "execution_count": 52,
   "id": "d882e8bb",
   "metadata": {},
   "outputs": [
    {
     "name": "stdout",
     "output_type": "stream",
     "text": [
      "Mean of Sample is 5.103\n",
      "Variance of Sample is 4.962390999999999\n"
     ]
    }
   ],
   "source": [
    "import numpy as np\n",
    "lam = 5\n",
    "\n",
    "sample = np.random.poisson(lam,size = 1000)\n",
    "\n",
    "print(f'Mean of Sample is {np.mean(sample)}')\n",
    "print(f'Variance of Sample is {np.var(sample)}')\n"
   ]
  },
  {
   "cell_type": "markdown",
   "id": "277ce700",
   "metadata": {},
   "source": [
    "#### Q9. How mean and variance are related in Binomial distribution and Poisson distribution?"
   ]
  },
  {
   "cell_type": "markdown",
   "id": "21f74971",
   "metadata": {},
   "source": [
    "In a binomial distribution, the mean and variance are both calculated as n*p, where n is the number of trials and p is the probability of success. Specifically, the mean of a binomial distribution is given by:\n",
    " mean = n * p\n",
    "\n",
    "and the variance is given by:\n",
    "variance = n * p * (1 - p)\n",
    "\n",
    "In a Poisson distribution, both the mean and variance are equal to λ, where λ is the average number of events per interval. Specifically, the mean and variance of a Poisson distribution are given by:\n",
    "  mean = variance = λ\n",
    "\n",
    "So in both cases, the mean and variance are directly proportional to each other. This means that if the mean of a binomial or Poisson distribution increases, the variance will also increase proportionally. Conversely, if the mean decreases, the variance will decrease proportionally as well."
   ]
  },
  {
   "cell_type": "markdown",
   "id": "22416d68",
   "metadata": {},
   "source": [
    "#### Q10. In normal distribution with respect to mean position, where does the least frequent data appear?"
   ]
  },
  {
   "cell_type": "markdown",
   "id": "8ebd39f6",
   "metadata": {},
   "source": [
    "In a normal distribution, the least frequent data appear at the tails of the distribution, furthest away from the mean. Specifically, data that falls more than 2 or 3 standard deviations away from the mean are considered outliers or extreme values, and are relatively rare in a normal distribution.\n",
    "\n",
    "The normal distribution is symmetric around its mean, so the least frequent data will appear at both ends of the distribution, with the same probability of occurrence on either side. This is because the probability density function of the normal distribution approaches zero as the distance from the mean increases, indicating that data that is far from the mean is increasingly unlikely to occur."
   ]
  },
  {
   "cell_type": "code",
   "execution_count": null,
   "id": "4d69fa12",
   "metadata": {},
   "outputs": [],
   "source": []
  }
 ],
 "metadata": {
  "kernelspec": {
   "display_name": "Python 3 (ipykernel)",
   "language": "python",
   "name": "python3"
  },
  "language_info": {
   "codemirror_mode": {
    "name": "ipython",
    "version": 3
   },
   "file_extension": ".py",
   "mimetype": "text/x-python",
   "name": "python",
   "nbconvert_exporter": "python",
   "pygments_lexer": "ipython3",
   "version": "3.9.13"
  }
 },
 "nbformat": 4,
 "nbformat_minor": 5
}
