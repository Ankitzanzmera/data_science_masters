{
 "cells": [
  {
   "cell_type": "markdown",
   "id": "7bb2452a",
   "metadata": {},
   "source": [
    "#### Q1: What is the difference between a t-test and a z-test? Provide an example scenario where you would use each type of test."
   ]
  },
  {
   "cell_type": "markdown",
   "id": "16bfef84",
   "metadata": {},
   "source": [
    "\n",
    " A z-test is used to test a Null Hypothesis if the population variance is known, or if the\n",
    "sample size is larger than 30, for an unknown population variance.\n",
    "A t-test is used when the sample size is less than 30 and the population variance is unknown.\n",
    "\n",
    "Z-test is the statistical hypothesis used to determine whether the two samples' means calculated are\n",
    "different if the standard deviation is available and the sample is large. In contrast, the T-test determines\n",
    "how averages of different data sets differ in case the standard deviation or the variance is unknown.\n",
    "\n",
    "If the population standard deviation is known and the sample size is greater than 30, Z-test is recommended to be used.\n",
    "If the population standard deviation is known, and the size of the sample is less than or equal to 30, \n",
    "T-test is recommended. If the population standard deviation is unknown, T-test is recommended"
   ]
  },
  {
   "cell_type": "markdown",
   "id": "b8b8aa04",
   "metadata": {},
   "source": [
    "#### Q2: Differentiate between one-tailed and two-tailed tests."
   ]
  },
  {
   "cell_type": "markdown",
   "id": "cff6b86f",
   "metadata": {},
   "source": [
    "One-tailed tests allow for the possibility of an effect in one direction. Two-tailed tests test for \n",
    "the possibility of an effect in two directions—positive and negative.\n",
    "\n",
    "A statistical hypothesis test in which alternative hypothesis has only one end, is known as one tailed test.\n",
    "A significance test in which alternative hypothesis has two ends, is called two-tailed test."
   ]
  },
  {
   "cell_type": "markdown",
   "id": "b008f536",
   "metadata": {},
   "source": [
    "#### Q3: Explain the concept of Type 1 and Type 2 errors in hypothesis testing. Provide an example scenario for each type of error."
   ]
  },
  {
   "cell_type": "markdown",
   "id": "6d9c7e46",
   "metadata": {},
   "source": [
    "Type 1 error (FP) :- If , Jury sent him jail but in real he is not done crime.\n",
    "Type 2 error (FN) :- If, Jury not sent him jail but in real he is done the crime.\n",
    "\n",
    "There are two errors that could potentially occur:\n",
    "Type I error (false positive): the test result says you have coronavirus, but you actually don't.\n",
    "Type II error (false negative): the test result says you don't have coronavirus, but you actually do."
   ]
  },
  {
   "cell_type": "markdown",
   "id": "75145f98",
   "metadata": {},
   "source": [
    "#### Q4: Explain Bayes's theorem with an example."
   ]
  },
  {
   "cell_type": "markdown",
   "id": "983a9610",
   "metadata": {},
   "source": [
    "Bayes theorem gives the probability of an “event” with the given information on “tests”. \n",
    "There is a difference between “events” and “tests”. For example there is a test for liver disease, \n",
    "which is different from actually having the liver disease, i.e. an event. \n",
    "Rare events might be having a higher false positive rate.\n",
    "\n",
    "Bayes theorem is also known as the formula for the probability of “causes”. \n",
    "For example: if we have to calculate the probability of taking a blue ball from the second bag \n",
    "out of three different bags of balls, where each bag contains three \n",
    "different colour balls viz. red, blue, black"
   ]
  },
  {
   "cell_type": "markdown",
   "id": "5f494597",
   "metadata": {},
   "source": [
    "#### Q5: What is a confidence interval? How to calculate the confidence interval, explain with an example."
   ]
  },
  {
   "cell_type": "markdown",
   "id": "a950d869",
   "metadata": {},
   "source": [
    "A confidence interval is the mean of our estimate plus and minus the variation in that estimate.\n",
    "This is the range of values we expect our estimate to fall between if we redo our test,\n",
    "within a certain level of confidence. Confidence, in statistics, is another way to describe probability.\n",
    "\n",
    "Once the standard error is calculated, the confidence interval is determined by multiplying the standard\n",
    "error by a constant that reflects the level of significance desired, based on the normal distribution.\n",
    "The constant for 95 percent confidence intervals is 1.96.\n",
    "\n",
    "For example, in 2005 the statewide estimated percentage of adults currently smoking was 20.7%. \n",
    "The 95% confidence interval around that estimate is +/- 1.1%. We are 95% confident that the actual\n",
    "percentage of smokers in the whole adult Wisconsin population in2005 was between 19.6% and 21.8% (20.7% ± 1.1%)."
   ]
  },
  {
   "cell_type": "markdown",
   "id": "8a408333",
   "metadata": {},
   "source": [
    "#### Q6. Use Bayes' Theorem to calculate the probability of an event occurring given prior knowledge of the event's probability and new evidence. Provide a sample problem and solution."
   ]
  },
  {
   "cell_type": "markdown",
   "id": "6c0f772d",
   "metadata": {},
   "source": [
    "Lets assume there are 5 balls in bucket, 3-yello, 2-red\n",
    "\n",
    "Pr(Y) = 3/5\n",
    "\n",
    "Pr(R) = 2/4=1/2\n",
    "\n",
    "Pr(R and Y) = Pr(R) *  Pr(Y/R) = 1/2*3/5 = 3/10\n",
    "\n",
    "   Pr(A & B) = Pr(B & A)\n",
    "\n",
    "     Pr(A)* Pr(B/A) = Pr(B) * Pr(A/B)\n",
    "\n",
    "          Pr(B/A) = [Pr(B) * Pr(A/B)]/ Pr(A)    ...........Bayes' Theorem\n",
    "\n",
    "                                              Pr(A/B) .......Conditional Probability"
   ]
  },
  {
   "cell_type": "markdown",
   "id": "10b25f89",
   "metadata": {},
   "source": [
    "#### Q7. Calculate the 95% confidence interval for a sample of data with a mean of 50 and a standard deviation of 5. Interpret the results."
   ]
  },
  {
   "cell_type": "markdown",
   "id": "ce751925",
   "metadata": {},
   "source": [
    "s_mean =50\n",
    "\n",
    "s_std = 5\n",
    "\n",
    "To find the critical value, we can look it up in a standard normal distribution table or use a calculator. For a 95% confidence level, the critical value is 1.96.\n",
    "\n",
    " CI = 50 ± 1.96 * (5/√n)\n",
    " \n",
    " CI = 50 ± 1.96 * (5/√100) = 50 ± 0.98\n",
    "\n",
    "Therefore, the 95% confidence interval would be (49.02, 50.98). This means that we can be 95% confident that the true population mean falls between 49.02 and 50.98. If we took repeated samples and calculated the confidence interval for each sample, 95% of the intervals would contain the true population mean."
   ]
  },
  {
   "cell_type": "markdown",
   "id": "d71c65b2",
   "metadata": {},
   "source": [
    "#### Q8. What is the margin of error in a confidence interval? How does sample size affect the margin of error? Provide an example of a scenario where a larger sample size would result in a smaller margin of error."
   ]
  },
  {
   "cell_type": "markdown",
   "id": "ac6926b2",
   "metadata": {},
   "source": [
    "The margin of error in a confidence interval is the measure of the precision of the estimate. It is the amount of error that we allow for in the confidence interval and is usually expressed as a percentage. The margin of error depends on the level of confidence desired, the sample size, and the standard deviation of the population. As the level of confidence increases, the margin of error also increases. Conversely, as the sample size increases, the margin of error decreases.\n",
    "\n",
    "Sample size affects the margin of error because a larger sample size results in a smaller margin of error. This is because it reduces the amount of sampling error, which is the error that occurs due to the sample not being a perfectly representative subset of the population. As the sample size increases, the sample statistic (such as the sample mean) is likely to be closer to the true population parameter, resulting in a smaller margin of error.\n",
    "\n",
    "For example, let's say we want to estimate the average height of all adults in a city. We take a sample of 100 people and calculate the sample mean height to be 170 cm with a standard deviation of 10 cm. If we want to construct a 95% confidence interval for the population mean height, we would use the formula Margin of error = z * (standard deviation / square root of sample size), where z is the critical value from the standard normal distribution table for a 95% confidence level, which is approximately 1.96."
   ]
  },
  {
   "cell_type": "markdown",
   "id": "6409c7ed",
   "metadata": {},
   "source": [
    "#### Q9. Calculate the z-score for a data point with a value of 75, a population mean of 70, and a population standard deviation of 5. Interpret the results."
   ]
  },
  {
   "cell_type": "markdown",
   "id": "41a215fd",
   "metadata": {},
   "source": [
    "z = (x - μ) / σ\n",
    "\n",
    "z = (75 - 70) / 5\n",
    "\n",
    "z = 1"
   ]
  },
  {
   "cell_type": "markdown",
   "id": "95c0968f",
   "metadata": {},
   "source": [
    "#### Q10. In a study of the effectiveness of a new weight loss drug, a sample of 50 participants lost an average of 6 pounds with a standard deviation of 2.5 pounds. Conduct a hypothesis test to determine if the drug is significantly effective at a 95% confidence level using a t-test."
   ]
  },
  {
   "cell_type": "markdown",
   "id": "124ba1e7",
   "metadata": {},
   "source": [
    "Null hypothesis: The weight loss drug is not significantly effective, and the true population mean weight loss is equal to or less than 0 pounds.\n",
    "\n",
    "Alternative hypothesis: The weight loss drug is significantly effective, and the true population mean weight loss is greater than 0 pounds.\n",
    "\n",
    " t = (x̄ - μ) / (s / √n)\n",
    " \n",
    "  t = (6 - 0) / (2.5 / √50)\n",
    "  \n",
    " t = 15.48\n",
    " \n",
    " The critical value for a one-tailed t-test with 49 degrees of freedom and a significance level of 0.05 is 1.676. Since our test statistic of 15.48 is greater than the critical value of 1.676, we reject the null hypothesis."
   ]
  },
  {
   "cell_type": "markdown",
   "id": "e0bd37ea",
   "metadata": {},
   "source": [
    "#### Q11. In a survey of 500 people, 65% reported being satisfied with their current job. Calculate the 95% mmconfidence interval for the true proportion of people who are satisfied with their job."
   ]
  },
  {
   "cell_type": "markdown",
   "id": "56744e0a",
   "metadata": {},
   "source": [
    "confidence interval = sample population ± z-score * standard error\n",
    "    \n",
    "##### First, we can calculate the sample population using the formula:\n",
    " sample population = number of people satisfied / sample size = 0.65\n",
    " \n",
    "  standard error = sqrt[(sample population * (1 - sample population)) / sample size] = sqrt[(0.65 * 0.35) / 500] = 0.032\n",
    "  \n",
    "  confidence interval = 0.65 ± 1.96 * 0.032 = (0.588, 0.712)"
   ]
  },
  {
   "cell_type": "markdown",
   "id": "6e6369aa",
   "metadata": {},
   "source": [
    "#### Q12. A researcher is testing the effectiveness of two different teaching methods on student performance. Sample A has a mean score of 85 with a standard deviation of 6, while sample B has a mean score of 82 with a standard deviation of 5. Conduct a hypothesis test to determine if the two teaching methods have a significant difference in student performance using a t-test with a significance level of 0.01."
   ]
  },
  {
   "cell_type": "markdown",
   "id": "bf0ff649",
   "metadata": {},
   "source": [
    "meanA = 85\n",
    "sA = 6\n",
    "nA = ?\n",
    "meanB = 82\n",
    "sB = 5\n",
    "nB = ?\n",
    "α = 0.01\n",
    "Degrees of freedom = (nA + nB - 2)\n",
    "\n",
    "Unfortunately, we cannot conduct the hypothesis test because the sample sizes of the two groups are not given. The t-test formula requires the sample sizes to calculate the degrees of freedom and the t-value. Without this information, we cannot determine if the two teaching methods have a significant difference in student performance."
   ]
  },
  {
   "cell_type": "markdown",
   "id": "436f3b03",
   "metadata": {},
   "source": [
    "#### Q13. A population has a mean of 60 and a standard deviation of 8. A sample of 50 observations has a mean of 65. Calculate the 90% confidence interval for the true population mean."
   ]
  },
  {
   "cell_type": "markdown",
   "id": "68d27a9b",
   "metadata": {},
   "source": [
    "p_mean = 60\n",
    "p_std = 8\n",
    "n = 50\n",
    "s_mean = 65\n",
    "\n",
    "\n",
    "confidence interval = sample mean ± z-score * (standard deviation / sqrt(sample size))\n",
    "\n",
    "confidence interval = 65 ± 1.645 * (8 / sqrt(50))\n",
    "    \n",
    "confidence interval = (62.18, 67.82)\n"
   ]
  },
  {
   "cell_type": "markdown",
   "id": "2b0cc572",
   "metadata": {},
   "source": [
    "#### Q14. In a study of the effects of caffeine on reaction time, a sample of 30 participants had an average reaction time of 0.25 seconds with a standard deviation of 0.05 seconds. Conduct a hypothesis test to determine if the caffeine has a significant effect on reaction time at a 90% confidence level using a t-test."
   ]
  },
  {
   "cell_type": "markdown",
   "id": "d0e5fbd1",
   "metadata": {},
   "source": [
    "t = (sample mean - hypothesized mean) / (sample standard deviation / sqrt(sample size))\n",
    "\n",
    "sample mean = 0.25\n",
    "\n",
    "hypothesized mean = 0\n",
    "\n",
    "sample standard deviation = 0.05\n",
    "\n",
    "sample size = 30\n",
    "\n",
    "α = 0.1\n",
    "\n",
    "Degrees of freedom = (sample size - 1)\n",
    "\n",
    "\n",
    "he t-value can be calculated using the t-distribution table or a statistical software, which is approximately 5.06 for a one-tailed test with 29 degrees of freedom and a significance level of 0.1.\n",
    "\n",
    "confidence interval = sample mean ± t-value * (sample standard deviation / sqrt(sample size))\n",
    "\n",
    "confidence interval = 0.25 ± 5.06 * (0.05 / sqrt(30))\n",
    "\n",
    "confidence interval = (0.21, 0.29)"
   ]
  },
  {
   "cell_type": "code",
   "execution_count": null,
   "id": "148e0600",
   "metadata": {},
   "outputs": [],
   "source": []
  }
 ],
 "metadata": {
  "kernelspec": {
   "display_name": "Python 3 (ipykernel)",
   "language": "python",
   "name": "python3"
  },
  "language_info": {
   "codemirror_mode": {
    "name": "ipython",
    "version": 3
   },
   "file_extension": ".py",
   "mimetype": "text/x-python",
   "name": "python",
   "nbconvert_exporter": "python",
   "pygments_lexer": "ipython3",
   "version": "3.9.13"
  }
 },
 "nbformat": 4,
 "nbformat_minor": 5
}
