{
 "cells": [
  {
   "cell_type": "code",
   "execution_count": 1,
   "id": "eab937d0",
   "metadata": {},
   "outputs": [],
   "source": [
    "import pandas as pd"
   ]
  },
  {
   "cell_type": "markdown",
   "id": "91158b4f",
   "metadata": {},
   "source": [
    "####  Q1. Create a Pandas Series that contains the following data: 4, 8, 15, 16, 23, and 42. Then, print the series."
   ]
  },
  {
   "cell_type": "code",
   "execution_count": 3,
   "id": "e474e8d4",
   "metadata": {},
   "outputs": [
    {
     "name": "stdout",
     "output_type": "stream",
     "text": [
      "0     4\n",
      "1     8\n",
      "2    15\n",
      "3    16\n",
      "4    23\n",
      "5    42\n",
      "dtype: int64 <class 'pandas.core.series.Series'>\n"
     ]
    }
   ],
   "source": [
    "data = pd.Series([4,8,15,16,23,42])\n",
    "print(data,type(data))"
   ]
  },
  {
   "cell_type": "markdown",
   "id": "b4a13f31",
   "metadata": {},
   "source": [
    "#### Q2. Create a variable of list type containing 10 elements in it, and apply pandas.Series function on the variable print it."
   ]
  },
  {
   "cell_type": "code",
   "execution_count": 6,
   "id": "dca4e3b2",
   "metadata": {},
   "outputs": [
    {
     "data": {
      "text/plain": [
       "0    0\n",
       "1    1\n",
       "2    2\n",
       "3    3\n",
       "4    4\n",
       "5    5\n",
       "6    6\n",
       "7    7\n",
       "8    8\n",
       "dtype: int64"
      ]
     },
     "execution_count": 6,
     "metadata": {},
     "output_type": "execute_result"
    }
   ],
   "source": [
    "list1 = [i for i in range(9)]\n",
    "data = pd.Series(list1)\n",
    "data"
   ]
  },
  {
   "cell_type": "markdown",
   "id": "2fd2f901",
   "metadata": {},
   "source": [
    "#### Q3. Create a Pandas DataFrame that contains the following data: Then, print the DataFrame."
   ]
  },
  {
   "cell_type": "code",
   "execution_count": 13,
   "id": "f2478f5e",
   "metadata": {},
   "outputs": [
    {
     "data": {
      "text/plain": [
       "pandas.core.series.Series"
      ]
     },
     "execution_count": 13,
     "metadata": {},
     "output_type": "execute_result"
    }
   ],
   "source": [
    "dict1 = {'name':['Alice','bob','clair'],'Age':[25,30,27],'Gender':['Female','Male','Female']}\n",
    "data = pd.DataFrame(dict1)\n",
    "type(data['Age'])"
   ]
  },
  {
   "cell_type": "markdown",
   "id": "d682add3",
   "metadata": {},
   "source": [
    "#### Q4. What is ‘DataFrame’ in pandas and how is it different from pandas.series? Explain with an example."
   ]
  },
  {
   "cell_type": "markdown",
   "id": "665a7b6f",
   "metadata": {},
   "source": [
    "Series can only contain single list with index, whereas dataframe can be made of more than one series or we can say that a dataframe is a collection of series that can be used to analyse the data."
   ]
  },
  {
   "cell_type": "code",
   "execution_count": 16,
   "id": "5044c086",
   "metadata": {},
   "outputs": [
    {
     "name": "stdout",
     "output_type": "stream",
     "text": [
      "<class 'pandas.core.frame.DataFrame'>\n",
      "<class 'pandas.core.series.Series'>\n"
     ]
    }
   ],
   "source": [
    "dict1 = {'name':['Alice','bob','clair'],'Age':[25,30,27],'Gender':['Female','Male','Female']}\n",
    "data = pd.DataFrame(dict1)\n",
    "print(type(data))\n",
    "print(type(data['Age']))"
   ]
  },
  {
   "cell_type": "markdown",
   "id": "abab0a52",
   "metadata": {},
   "source": [
    "#### Q5. What are some common functions you can use to manipulate data in a Pandas DataFrame? Can you give an example of when you might use one of these functions?"
   ]
  },
  {
   "cell_type": "markdown",
   "id": "02d29580",
   "metadata": {},
   "source": [
    "some common functions you can use to manipulate data in a Pandas DataFrame are:\n",
    "\n",
    "read_csv()\n",
    "head()\n",
    "describe()\n",
    "memory_usage()\n",
    "astype()\n",
    "loc[:]\n",
    "to_datetime()\n",
    "value_counts()\n",
    "drop_duplicates()\n",
    "groupby()"
   ]
  },
  {
   "cell_type": "markdown",
   "id": "225aa3bd",
   "metadata": {},
   "source": [
    "#### Q6. Which of the following is mutable in nature Series, DataFrame, Panel?"
   ]
  },
  {
   "cell_type": "markdown",
   "id": "3fbcb845",
   "metadata": {},
   "source": [
    "All pandas data structures are value-mutable (the values they contain can be altered) but not always size-mutable. The length of a Series cannot be changed, but, for example, columns can be inserted into a DataFrame."
   ]
  },
  {
   "cell_type": "markdown",
   "id": "50d6d51b",
   "metadata": {},
   "source": [
    "#### Q7. Create a DataFrame using multiple Series. Explain with an example."
   ]
  },
  {
   "cell_type": "code",
   "execution_count": 18,
   "id": "e0f19e28",
   "metadata": {},
   "outputs": [
    {
     "data": {
      "text/html": [
       "<div>\n",
       "<style scoped>\n",
       "    .dataframe tbody tr th:only-of-type {\n",
       "        vertical-align: middle;\n",
       "    }\n",
       "\n",
       "    .dataframe tbody tr th {\n",
       "        vertical-align: top;\n",
       "    }\n",
       "\n",
       "    .dataframe thead th {\n",
       "        text-align: right;\n",
       "    }\n",
       "</style>\n",
       "<table border=\"1\" class=\"dataframe\">\n",
       "  <thead>\n",
       "    <tr style=\"text-align: right;\">\n",
       "      <th></th>\n",
       "      <th>name</th>\n",
       "      <th>Age</th>\n",
       "      <th>Gender</th>\n",
       "    </tr>\n",
       "  </thead>\n",
       "  <tbody>\n",
       "    <tr>\n",
       "      <th>0</th>\n",
       "      <td>Alice</td>\n",
       "      <td>25</td>\n",
       "      <td>Female</td>\n",
       "    </tr>\n",
       "    <tr>\n",
       "      <th>1</th>\n",
       "      <td>bob</td>\n",
       "      <td>30</td>\n",
       "      <td>Male</td>\n",
       "    </tr>\n",
       "    <tr>\n",
       "      <th>2</th>\n",
       "      <td>clair</td>\n",
       "      <td>27</td>\n",
       "      <td>Female</td>\n",
       "    </tr>\n",
       "  </tbody>\n",
       "</table>\n",
       "</div>"
      ],
      "text/plain": [
       "    name  Age  Gender\n",
       "0  Alice   25  Female\n",
       "1    bob   30    Male\n",
       "2  clair   27  Female"
      ]
     },
     "execution_count": 18,
     "metadata": {},
     "output_type": "execute_result"
    }
   ],
   "source": [
    "dict1 = {'name':['Alice','bob','clair'],'Age':[25,30,27],'Gender':['Female','Male','Female']}\n",
    "data = pd.DataFrame(dict1)\n",
    "data"
   ]
  },
  {
   "cell_type": "code",
   "execution_count": null,
   "id": "3e4cecfb",
   "metadata": {},
   "outputs": [],
   "source": []
  }
 ],
 "metadata": {
  "kernelspec": {
   "display_name": "Python 3 (ipykernel)",
   "language": "python",
   "name": "python3"
  },
  "language_info": {
   "codemirror_mode": {
    "name": "ipython",
    "version": 3
   },
   "file_extension": ".py",
   "mimetype": "text/x-python",
   "name": "python",
   "nbconvert_exporter": "python",
   "pygments_lexer": "ipython3",
   "version": "3.9.13"
  }
 },
 "nbformat": 4,
 "nbformat_minor": 5
}
