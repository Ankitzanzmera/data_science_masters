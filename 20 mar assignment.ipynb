{
 "cells": [
  {
   "cell_type": "markdown",
   "id": "d4406b9e",
   "metadata": {},
   "source": [
    "#### Q1. What is data encoding? How is it useful in data science?"
   ]
  },
  {
   "cell_type": "markdown",
   "id": "34bfa429",
   "metadata": {},
   "source": [
    "Encoding is the process of converting the data or a given sequence of characters, symbols, alphabets etc.,\n",
    "into a specified format, for the secured transmission of data.\n",
    "Machine learning models can only work with numerical values.\n",
    "For this reason, it is necessary to transform the categorical values of the relevant features into numerical ones.\n",
    "This process is called feature encoding."
   ]
  },
  {
   "cell_type": "markdown",
   "id": "b8b73c6f",
   "metadata": {},
   "source": [
    "#### Q2. What is nominal encoding? Provide an example of how you would use it in a real-world scenario."
   ]
  },
  {
   "cell_type": "markdown",
   "id": "e0d4c80b",
   "metadata": {},
   "source": [
    "Nominal encoding is a technique used in machine learning and data analysis to convert categorical data into a numerical format. It is also known as one-hot encoding, where each category is assigned a unique numerical value. The purpose of this technique is to enable the machine learning algorithms to interpret the categorical data effectively."
   ]
  },
  {
   "cell_type": "markdown",
   "id": "b54a848d",
   "metadata": {},
   "source": [
    "We can use this encoding technique in various real-world scenarios such as text classification, customer segmentation, and image classification. For example, in text classification, we can convert the text data into numerical format using nominal encoding to classify the text into different categories such as sentiment analysis or topic classification."
   ]
  },
  {
   "cell_type": "markdown",
   "id": "16d2ee03",
   "metadata": {},
   "source": [
    "#### Q3. In what situations is nominal encoding preferred over one-hot encoding? Provide a practical example."
   ]
  },
  {
   "cell_type": "markdown",
   "id": "1746cf5b",
   "metadata": {},
   "source": [
    "Nominal encoding and one-hot encoding are essentially the same thing, and the terms are often used interchangeably. However, nominal encoding can be used to represent categorical variables as ordered or numerical values, whereas one-hot encoding always represents categorical variables as binary vectors.\n",
    "\n",
    "There are some situations where nominal encoding may be preferred over one-hot encoding. One such situation is when the categorical variable has a large number of categories, and one-hot encoding would result in a high-dimensional feature space. In such cases, nominal encoding can be used to reduce the dimensionality of the feature space while still preserving the information in the data."
   ]
  },
  {
   "cell_type": "markdown",
   "id": "f7f4de4b",
   "metadata": {},
   "source": [
    "#### Q4. Suppose you have a dataset containing categorical data with 5 unique values. Which encoding technique would you use to transform this data into a format suitable for machine learning algorithms? Explain why you made this choice."
   ]
  },
  {
   "cell_type": "markdown",
   "id": "90a32bcf",
   "metadata": {},
   "source": [
    "I will use OneHotEncoding because no. of unique values are 5 only .\n",
    "In general, one-hot encoding is the most commonly used method for nominal variables.\n",
    "It is simple to understand and implement, and it works well with most machine learning models."
   ]
  },
  {
   "cell_type": "markdown",
   "id": "52457961",
   "metadata": {},
   "source": [
    "#### Q5. In a machine learning project, you have a dataset with 1000 rows and 5 columns. Two of the columns are categorical, and the remaining three columns are numerical. If you were to use nominal encoding to transform the categorical data, how many new columns would be created? Show your calculations."
   ]
  },
  {
   "cell_type": "code",
   "execution_count": 12,
   "id": "637d50d1",
   "metadata": {},
   "outputs": [
    {
     "data": {
      "text/plain": [
       "['Ideal', 'Premium', 'Good', 'Very Good', 'Fair']\n",
       "Categories (5, object): ['Ideal', 'Premium', 'Very Good', 'Good', 'Fair']"
      ]
     },
     "execution_count": 12,
     "metadata": {},
     "output_type": "execute_result"
    }
   ],
   "source": [
    "# new columns willbe as many as unique value of Column\n",
    "import seaborn as sns\n",
    "df = sns.load_dataset('diamonds')\n",
    "values = df['cut'].unique()"
   ]
  },
  {
   "cell_type": "code",
   "execution_count": 38,
   "id": "378dec1f",
   "metadata": {},
   "outputs": [
    {
     "data": {
      "text/html": [
       "<div>\n",
       "<style scoped>\n",
       "    .dataframe tbody tr th:only-of-type {\n",
       "        vertical-align: middle;\n",
       "    }\n",
       "\n",
       "    .dataframe tbody tr th {\n",
       "        vertical-align: top;\n",
       "    }\n",
       "\n",
       "    .dataframe thead th {\n",
       "        text-align: right;\n",
       "    }\n",
       "</style>\n",
       "<table border=\"1\" class=\"dataframe\">\n",
       "  <thead>\n",
       "    <tr style=\"text-align: right;\">\n",
       "      <th></th>\n",
       "      <th>cut_Fair</th>\n",
       "      <th>cut_Good</th>\n",
       "      <th>cut_Ideal</th>\n",
       "      <th>cut_Premium</th>\n",
       "      <th>cut_Very Good</th>\n",
       "    </tr>\n",
       "  </thead>\n",
       "  <tbody>\n",
       "    <tr>\n",
       "      <th>0</th>\n",
       "      <td>0.0</td>\n",
       "      <td>0.0</td>\n",
       "      <td>1.0</td>\n",
       "      <td>0.0</td>\n",
       "      <td>0.0</td>\n",
       "    </tr>\n",
       "    <tr>\n",
       "      <th>1</th>\n",
       "      <td>0.0</td>\n",
       "      <td>0.0</td>\n",
       "      <td>0.0</td>\n",
       "      <td>1.0</td>\n",
       "      <td>0.0</td>\n",
       "    </tr>\n",
       "    <tr>\n",
       "      <th>2</th>\n",
       "      <td>0.0</td>\n",
       "      <td>1.0</td>\n",
       "      <td>0.0</td>\n",
       "      <td>0.0</td>\n",
       "      <td>0.0</td>\n",
       "    </tr>\n",
       "    <tr>\n",
       "      <th>3</th>\n",
       "      <td>0.0</td>\n",
       "      <td>0.0</td>\n",
       "      <td>0.0</td>\n",
       "      <td>1.0</td>\n",
       "      <td>0.0</td>\n",
       "    </tr>\n",
       "    <tr>\n",
       "      <th>4</th>\n",
       "      <td>0.0</td>\n",
       "      <td>1.0</td>\n",
       "      <td>0.0</td>\n",
       "      <td>0.0</td>\n",
       "      <td>0.0</td>\n",
       "    </tr>\n",
       "    <tr>\n",
       "      <th>...</th>\n",
       "      <td>...</td>\n",
       "      <td>...</td>\n",
       "      <td>...</td>\n",
       "      <td>...</td>\n",
       "      <td>...</td>\n",
       "    </tr>\n",
       "    <tr>\n",
       "      <th>53935</th>\n",
       "      <td>0.0</td>\n",
       "      <td>0.0</td>\n",
       "      <td>1.0</td>\n",
       "      <td>0.0</td>\n",
       "      <td>0.0</td>\n",
       "    </tr>\n",
       "    <tr>\n",
       "      <th>53936</th>\n",
       "      <td>0.0</td>\n",
       "      <td>1.0</td>\n",
       "      <td>0.0</td>\n",
       "      <td>0.0</td>\n",
       "      <td>0.0</td>\n",
       "    </tr>\n",
       "    <tr>\n",
       "      <th>53937</th>\n",
       "      <td>0.0</td>\n",
       "      <td>0.0</td>\n",
       "      <td>0.0</td>\n",
       "      <td>0.0</td>\n",
       "      <td>1.0</td>\n",
       "    </tr>\n",
       "    <tr>\n",
       "      <th>53938</th>\n",
       "      <td>0.0</td>\n",
       "      <td>0.0</td>\n",
       "      <td>0.0</td>\n",
       "      <td>1.0</td>\n",
       "      <td>0.0</td>\n",
       "    </tr>\n",
       "    <tr>\n",
       "      <th>53939</th>\n",
       "      <td>0.0</td>\n",
       "      <td>0.0</td>\n",
       "      <td>1.0</td>\n",
       "      <td>0.0</td>\n",
       "      <td>0.0</td>\n",
       "    </tr>\n",
       "  </tbody>\n",
       "</table>\n",
       "<p>53940 rows × 5 columns</p>\n",
       "</div>"
      ],
      "text/plain": [
       "       cut_Fair  cut_Good  cut_Ideal  cut_Premium  cut_Very Good\n",
       "0           0.0       0.0        1.0          0.0            0.0\n",
       "1           0.0       0.0        0.0          1.0            0.0\n",
       "2           0.0       1.0        0.0          0.0            0.0\n",
       "3           0.0       0.0        0.0          1.0            0.0\n",
       "4           0.0       1.0        0.0          0.0            0.0\n",
       "...         ...       ...        ...          ...            ...\n",
       "53935       0.0       0.0        1.0          0.0            0.0\n",
       "53936       0.0       1.0        0.0          0.0            0.0\n",
       "53937       0.0       0.0        0.0          0.0            1.0\n",
       "53938       0.0       0.0        0.0          1.0            0.0\n",
       "53939       0.0       0.0        1.0          0.0            0.0\n",
       "\n",
       "[53940 rows x 5 columns]"
      ]
     },
     "execution_count": 38,
     "metadata": {},
     "output_type": "execute_result"
    }
   ],
   "source": [
    "# as you can see in diamonds data there is a cut column which have 5 unique values.\n",
    "from sklearn.preprocessing import OneHotEncoder\n",
    "import pandas as pd\n",
    "\n",
    "encoder  = OneHotEncoder()\n",
    "encoded  = encoder.fit_transform(df[['cut']]).toarray()\n",
    "after_encoded = pd.DataFrame(encoded,columns = encoder.get_feature_names_out())\n",
    "after_encoded\n",
    "# after onehotencoding it will create new five columns because in clut column there is five unique values\n"
   ]
  },
  {
   "cell_type": "markdown",
   "id": "552f7e84",
   "metadata": {},
   "source": [
    "#### Q6. You are working with a dataset containing information about different types of animals, including their species, habitat, and diet. Which encoding technique would you use to transform the categorical data into a format suitable for machine learning algorithms? Justify your answer."
   ]
  },
  {
   "cell_type": "markdown",
   "id": "b4d83288",
   "metadata": {},
   "source": [
    "We use this categorical data encoding technique when the features are nominal(do not have any order).\n",
    "In one hot encoding, for each level of a categorical feature, we create a new variable.\n",
    "Each category is mapped with a binary variable containing either 0 or 1.\n",
    "Here, 0 represents the absence, and 1 represents the presence of that category.\n",
    "\n",
    "These newly created binary features are known as Dummy variables.\n",
    "The number of dummy variables depends on the levels present in the categorical variable.\n",
    "This might sound complicated. Let us take an example to understand this better.\n",
    "Suppose we have a dataset with a category animal, having different animals like Dog, Cat, Sheep, Cow, Lion.\n",
    "Now we have to one-hot encode this data.  "
   ]
  },
  {
   "cell_type": "markdown",
   "id": "4b24fba3",
   "metadata": {},
   "source": [
    "#### Q7.You are working on a project that involves predicting customer churn for a telecommunications company. You have a dataset with 5 features, including the customer's gender, age, contract type, monthly charges, and tenure. Which encoding technique(s) would you use to transform the categorical data into numerical data? Provide a step-by-step explanation of how you would implement the encoding.,"
   ]
  },
  {
   "cell_type": "markdown",
   "id": "32b9fa60",
   "metadata": {},
   "source": [
    "OneHotEncoding will be used as there is only one categorical data (gender) and the rest are numerical.\n",
    "steps in encoding will be:\n",
    "The following step-by-step example shows how to perform one-hot encoding for this exact dataset in Python"
   ]
  },
  {
   "cell_type": "code",
   "execution_count": 45,
   "id": "c6b9be3a",
   "metadata": {},
   "outputs": [
    {
     "data": {
      "text/html": [
       "<div>\n",
       "<style scoped>\n",
       "    .dataframe tbody tr th:only-of-type {\n",
       "        vertical-align: middle;\n",
       "    }\n",
       "\n",
       "    .dataframe tbody tr th {\n",
       "        vertical-align: top;\n",
       "    }\n",
       "\n",
       "    .dataframe thead th {\n",
       "        text-align: right;\n",
       "    }\n",
       "</style>\n",
       "<table border=\"1\" class=\"dataframe\">\n",
       "  <thead>\n",
       "    <tr style=\"text-align: right;\">\n",
       "      <th></th>\n",
       "      <th>sex_female</th>\n",
       "      <th>sex_male</th>\n",
       "    </tr>\n",
       "  </thead>\n",
       "  <tbody>\n",
       "    <tr>\n",
       "      <th>0</th>\n",
       "      <td>0.0</td>\n",
       "      <td>1.0</td>\n",
       "    </tr>\n",
       "    <tr>\n",
       "      <th>1</th>\n",
       "      <td>1.0</td>\n",
       "      <td>0.0</td>\n",
       "    </tr>\n",
       "    <tr>\n",
       "      <th>2</th>\n",
       "      <td>1.0</td>\n",
       "      <td>0.0</td>\n",
       "    </tr>\n",
       "    <tr>\n",
       "      <th>3</th>\n",
       "      <td>1.0</td>\n",
       "      <td>0.0</td>\n",
       "    </tr>\n",
       "    <tr>\n",
       "      <th>4</th>\n",
       "      <td>0.0</td>\n",
       "      <td>1.0</td>\n",
       "    </tr>\n",
       "    <tr>\n",
       "      <th>...</th>\n",
       "      <td>...</td>\n",
       "      <td>...</td>\n",
       "    </tr>\n",
       "    <tr>\n",
       "      <th>886</th>\n",
       "      <td>0.0</td>\n",
       "      <td>1.0</td>\n",
       "    </tr>\n",
       "    <tr>\n",
       "      <th>887</th>\n",
       "      <td>1.0</td>\n",
       "      <td>0.0</td>\n",
       "    </tr>\n",
       "    <tr>\n",
       "      <th>888</th>\n",
       "      <td>1.0</td>\n",
       "      <td>0.0</td>\n",
       "    </tr>\n",
       "    <tr>\n",
       "      <th>889</th>\n",
       "      <td>0.0</td>\n",
       "      <td>1.0</td>\n",
       "    </tr>\n",
       "    <tr>\n",
       "      <th>890</th>\n",
       "      <td>0.0</td>\n",
       "      <td>1.0</td>\n",
       "    </tr>\n",
       "  </tbody>\n",
       "</table>\n",
       "<p>891 rows × 2 columns</p>\n",
       "</div>"
      ],
      "text/plain": [
       "     sex_female  sex_male\n",
       "0           0.0       1.0\n",
       "1           1.0       0.0\n",
       "2           1.0       0.0\n",
       "3           1.0       0.0\n",
       "4           0.0       1.0\n",
       "..          ...       ...\n",
       "886         0.0       1.0\n",
       "887         1.0       0.0\n",
       "888         1.0       0.0\n",
       "889         0.0       1.0\n",
       "890         0.0       1.0\n",
       "\n",
       "[891 rows x 2 columns]"
      ]
     },
     "execution_count": 45,
     "metadata": {},
     "output_type": "execute_result"
    }
   ],
   "source": [
    "# Step 1: lets load the data\n",
    "import seaborn as sns\n",
    "df = sns.load_dataset('titanic')\n",
    "df['sex']\n",
    "\n",
    "# step 2 : perform a one hot encoding\n",
    "from sklearn.preprocessing import OneHotEncoder\n",
    "import pandas as pd\n",
    "encoder = OneHotEncoder()\n",
    "encoded = encoder.fit_transform(df[['sex']]).toarray()\n",
    "after_encoded = pd.DataFrame(encoded,columns = encoder.get_feature_names_out())\n",
    "after_encoded"
   ]
  },
  {
   "cell_type": "code",
   "execution_count": null,
   "id": "bf15ce79",
   "metadata": {},
   "outputs": [],
   "source": []
  }
 ],
 "metadata": {
  "kernelspec": {
   "display_name": "Python 3 (ipykernel)",
   "language": "python",
   "name": "python3"
  },
  "language_info": {
   "codemirror_mode": {
    "name": "ipython",
    "version": 3
   },
   "file_extension": ".py",
   "mimetype": "text/x-python",
   "name": "python",
   "nbconvert_exporter": "python",
   "pygments_lexer": "ipython3",
   "version": "3.9.13"
  }
 },
 "nbformat": 4,
 "nbformat_minor": 5
}
