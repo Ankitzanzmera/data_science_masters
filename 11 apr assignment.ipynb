{
 "cells": [
  {
   "cell_type": "markdown",
   "id": "c4fff504",
   "metadata": {},
   "source": [
    "#### Q1. What is an ensemble technique in machine learning?"
   ]
  },
  {
   "cell_type": "markdown",
   "id": "4076b052",
   "metadata": {},
   "source": [
    "Ensemble techniques in machine learning involve combining multiple models, such as decision trees or neural networks, to produce a more accurate prediction or classification. The idea behind ensemble techniques is that by combining the predictions of multiple models, the ensemble can make more accurate predictions than any individual model."
   ]
  },
  {
   "cell_type": "markdown",
   "id": "cd601071",
   "metadata": {},
   "source": [
    "#### Q2. Why are ensemble techniques used in machine learning?"
   ]
  },
  {
   "cell_type": "markdown",
   "id": "00061274",
   "metadata": {},
   "source": [
    "- Improved accuracy: By combining multiple models, the ensemble can reduce the errors and biases of individual models, resulting in more accurate predictions.\n",
    "- Robustness: Ensembles are less likely to overfit the training data and perform better on unseen data, making them more robust.\n",
    "- Flexibility: Ensembles can be used with a variety of models and techniques, making them flexible and adaptable to different types of data.\n",
    "- Reducing model bias: By combining models with different biases, the ensemble can reduce overall bias and produce more accurate results.\n",
    "- Improved stability: Ensembles are less sensitive to changes in the input data or model parameters, resulting in more stable predictions."
   ]
  },
  {
   "cell_type": "markdown",
   "id": "669b480b",
   "metadata": {},
   "source": [
    "#### Q3. What is bagging?"
   ]
  },
  {
   "cell_type": "markdown",
   "id": "329fdbe7",
   "metadata": {},
   "source": [
    "Bagging, short for Bootstrap Aggregating, is an ensemble technique in machine learning that involves training multiple models on different subsets of the training data. In bagging, each model is trained on a random sample of the training data, with replacement. The final prediction of the ensemble is then made by averaging the predictions of all models.\n",
    "\n",
    "Bagging can be used with a variety of models, including decision trees, neural networks, and support vector machines. The technique is especially effective for reducing overfitting and improving the stability and accuracy of the final prediction."
   ]
  },
  {
   "cell_type": "markdown",
   "id": "62be513f",
   "metadata": {},
   "source": [
    "#### Q4. What is boosting?"
   ]
  },
  {
   "cell_type": "markdown",
   "id": "02b0e6e2",
   "metadata": {},
   "source": [
    "Boosting is another ensemble technique in machine learning that involves combining multiple weak models into a strong model. Unlike bagging, boosting involves training each model sequentially, with each subsequent model trained to improve the errors of the previous model.\n",
    "\n",
    "Boosting can be used with a variety of models, including decision trees, neural networks, and support vector machines. The technique is especially effective for reducing bias and improving the accuracy of the final prediction.\n",
    "\n",
    "There are several different algorithms for boosting, including AdaBoost, Gradient Boosting, and XGBoost. Each algorithm has its own unique approach to improving the accuracy of the final prediction, but all involve combining multiple weak models into a strong model."
   ]
  },
  {
   "cell_type": "markdown",
   "id": "9c1af865",
   "metadata": {},
   "source": [
    "#### Q5. What are the benefits of using ensemble techniques?"
   ]
  },
  {
   "cell_type": "markdown",
   "id": "49ab3b15",
   "metadata": {},
   "source": [
    "- Improved accuracy: By combining the predictions of multiple models, ensemble techniques can produce more accurate predictions than any individual model.\n",
    "- Reduced overfitting: Ensemble techniques can help reduce overfitting, which occurs when a model fits too closely to the training data and does not generalize well to new data.\n",
    "- Robustness: Ensemble techniques are less sensitive to changes in the input data or model parameters, resulting in more stable and robust predictions.\n",
    "- Flexibility: Ensemble techniques can be used with a variety of models and techniques, making them flexible and adaptable to different types of data."
   ]
  },
  {
   "cell_type": "markdown",
   "id": "0609ee7a",
   "metadata": {},
   "source": [
    "#### Q6. Are ensemble techniques always better than individual models?"
   ]
  },
  {
   "cell_type": "markdown",
   "id": "4995d714",
   "metadata": {},
   "source": [
    "While ensemble techniques can improve the accuracy and stability of predictions, they are not always better than individual models. In some cases, an individual model may perform better than an ensemble, particularly when the dataset is small or the individual model is particularly well-suited to the task at hand. Additionally, ensemble techniques can be computationally expensive and may require significant resources to train and evaluate. Ultimately, the decision to use an ensemble technique should be based on the specific requirements and constraints of the task at hand\n",
    "\n"
   ]
  },
  {
   "cell_type": "markdown",
   "id": "01612ade",
   "metadata": {},
   "source": [
    "#### Q7. How is the confidence interval calculated using bootstrap?"
   ]
  },
  {
   "cell_type": "markdown",
   "id": "7761b0df",
   "metadata": {},
   "source": [
    "The confidence interval using bootstrap is calculated by taking multiple samples from the original dataset, with replacement, and calculating the statistic of interest (such as the mean or median) for each sample. The distribution of these statistics is used to estimate the population distribution and calculate the confidence interval.\n",
    "\n",
    "To calculate the confidence interval using bootstrap, the following steps can be followed:\n",
    "\n",
    "- Take a random sample of the data from the original dataset, with replacement.\n",
    "- Calculate the statistic of interest (such as the mean or median) for this sample.\n",
    "- Repeat steps 1 and 2 a large number of times (e.g. 1000 times). Calculate the mean and standard deviation of the statistics calculated in step 2.\n",
    "- Use the mean and standard deviation to estimate the population distribution and calculate the confidence interval."
   ]
  },
  {
   "cell_type": "markdown",
   "id": "c9501486",
   "metadata": {},
   "source": [
    "#### Q8. How does bootstrap work and What are the steps involved in bootstrap?"
   ]
  },
  {
   "cell_type": "markdown",
   "id": "93aa00f6",
   "metadata": {},
   "source": [
    "Bootstrap is a statistical technique that involves taking multiple samples from a dataset, with replacement, and using these samples to estimate the variability of a statistic of interest. \n",
    "\n",
    "The basic steps involved in bootstrap are as follows:\n",
    "\n",
    "- Take a random sample of the data from the original dataset, with replacement.\n",
    "- Calculate the statistic of interest (such as the mean or median) for this sample.\n",
    "- Repeat steps 1 and 2 a large number of times (e.g. 1000 times).\n",
    "- Calculate the mean and standard deviation of the statistics calculated in step 2.\n",
    "\n",
    "The resulting distribution of the statistics can be used to estimate the population distribution and calculate confidence intervals or perform hypothesis testing. Bootstrap is particularly useful when the underlying distribution of the data is unknown or non-normal, or when the sample size is small. Bootstrap can also be used in conjunction with other statistical techniques, such as linear regression or hypothesis testing, to estimate confidence intervals or p-values."
   ]
  },
  {
   "cell_type": "markdown",
   "id": "89876623",
   "metadata": {},
   "source": [
    "#### Q9. A researcher wants to estimate the mean height of a population of trees. They measure the height of a sample of 50 trees and obtain a mean height of 15 meters and a standard deviation of 2 meters. Usebootstrap to estimate the 95% confidence interval for the population mean height."
   ]
  },
  {
   "cell_type": "code",
   "execution_count": 2,
   "id": "643c6f71",
   "metadata": {},
   "outputs": [
    {
     "name": "stdout",
     "output_type": "stream",
     "text": [
      "Bootstrap 95% confidence interval: (14.826949500083211, 15.255778499916788)\n"
     ]
    }
   ],
   "source": [
    "import numpy as np\n",
    "\n",
    "# Sample of tree heights\n",
    "sample = np.array([15.3, 13.5, 15.8, 17.1, 15.6, 14.9, 13.8, 16.2, 14.7, 15.2,\n",
    "                   14.6, 14.1, 14.9, 14.5, 15.6, 15.1, 14.2, 13.9, 16.3, 14.3,\n",
    "                   15.5, 14.6, 15.7, 16.4, 14.8, 13.7, 14.4, 14.8, 15.4, 14.6,\n",
    "                   15.9, 14.2, 15.6, 15.1, 15.4, 14.7, 14.8, 16.1, 15.3, 15.1,\n",
    "                   14.3, 15.3, 16.2, 16.1, 13.6, 15.7, 14.9, 15.2, 14.2, 14.8])\n",
    "\n",
    "# Number of bootstrap samples\n",
    "n_bootstraps = 1000\n",
    "\n",
    "# Bootstrap resampling\n",
    "sample_means = np.zeros(n_bootstraps)\n",
    "for i in range(n_bootstraps):\n",
    "    resampled = np.random.choice(sample, size=len(sample), replace=True)\n",
    "    sample_means[i] = np.mean(resampled)\n",
    "\n",
    "# Calculate mean and standard deviation of sample means\n",
    "mean_sample_means = np.mean(sample_means)\n",
    "std_sample_means = np.std(sample_means)\n",
    "\n",
    "# Calculate 95% confidence interval\n",
    "conf_int = (mean_sample_means - 1.96*std_sample_means, mean_sample_means + 1.96*std_sample_means)\n",
    "print(\"Bootstrap 95% confidence interval:\", conf_int)\n"
   ]
  },
  {
   "cell_type": "markdown",
   "id": "7a30461d",
   "metadata": {},
   "source": [
    "Bootstrap 95% confidence interval: (14.831168352765845, 15.259063647234155)"
   ]
  },
  {
   "cell_type": "code",
   "execution_count": null,
   "id": "9c677385",
   "metadata": {},
   "outputs": [],
   "source": []
  }
 ],
 "metadata": {
  "kernelspec": {
   "display_name": "Python 3 (ipykernel)",
   "language": "python",
   "name": "python3"
  },
  "language_info": {
   "codemirror_mode": {
    "name": "ipython",
    "version": 3
   },
   "file_extension": ".py",
   "mimetype": "text/x-python",
   "name": "python",
   "nbconvert_exporter": "python",
   "pygments_lexer": "ipython3",
   "version": "3.9.13"
  }
 },
 "nbformat": 4,
 "nbformat_minor": 5
}
