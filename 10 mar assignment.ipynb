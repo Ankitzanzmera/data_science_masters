{
 "cells": [
  {
   "cell_type": "markdown",
   "id": "d0827855",
   "metadata": {},
   "source": [
    "#### Q1: What is Estimation Statistics? Explain point estimate and interval estimate."
   ]
  },
  {
   "cell_type": "markdown",
   "id": "c5964f5f",
   "metadata": {},
   "source": [
    "Estimation statistics is a branch of statistics that helps us to estimate unknown population parameters from a sample of data. In other words, it's a way of making educated guesses about characteristics of a whole population based on a smaller sample.\n",
    "\n",
    "There are two types of estimates in estimation statistics: point estimates and interval estimates.\n",
    "\n",
    "1. A point estimate is a single value that is used to estimate the value of an unknown population parameter. For example, if we want to estimate the average height of all students in a school, we might take a sample of 50 students and calculate the mean height of that sample. This mean height is a point estimate for the population mean height.\n",
    "\n",
    "2. An interval estimate is a range of values that is used to estimate the value of an unknown population parameter. For example, if we want to estimate the average income of all people in a city, we might take a sample of 1000 people and calculate the mean income of that sample. However, we cannot be sure that this sample mean is exactly equal to the population mean. Therefore, we can calculate an interval estimate, such as a confidence interval, which gives us a range of values that is likely to contain the true population mean with a certain level of confidence.                                                                \n",
    "\n",
    "Interval estimates are generally considered more informative than point estimates because they provide a range of plausible values rather than a single value. Additionally, interval estimates are more reliable than point estimates because they take into account the random variation in the sample data."
   ]
  },
  {
   "cell_type": "markdown",
   "id": "ca281d99",
   "metadata": {},
   "source": [
    "#### Q2. Write a Python function to estimate the population mean using a sample mean and standard deviation."
   ]
  },
  {
   "cell_type": "code",
   "execution_count": 7,
   "id": "f060ab3f",
   "metadata": {},
   "outputs": [
    {
     "name": "stdout",
     "output_type": "stream",
     "text": [
      "75.2 (73.31513616406914, 77.08486383593086)\n"
     ]
    }
   ],
   "source": [
    "import math\n",
    "import scipy.stats as stats\n",
    "def ci(sample_mean,sample_std,sample,confidence_level):\n",
    "    # confidence interval is 95% so alpha/2 is 1.96\n",
    "    \n",
    "    margin_of_error = 1.96 * sample_std / math.sqrt(sample)\n",
    "    \n",
    "    lower_bound = sample_mean - margin_of_error\n",
    "    upper_bound = sample_mean + margin_of_error\n",
    "    return sample_mean ,(lower_bound,upper_bound)\n",
    "\n",
    "s_mean = 75.2\n",
    "s_std = 6.8\n",
    "sample = 50\n",
    "c_level = 0.99\n",
    "\n",
    "mean,confidence_interval = ci(s_mean,s_std,sample,c_level)\n",
    "\n",
    "print(mean,confidence_interval)\n",
    "    \n",
    "    \n"
   ]
  },
  {
   "cell_type": "markdown",
   "id": "5996a0b7",
   "metadata": {},
   "source": [
    "#### Q3: What is Hypothesis testing? Why is it used? State the importance of Hypothesis testing."
   ]
  },
  {
   "cell_type": "markdown",
   "id": "6929222b",
   "metadata": {},
   "source": [
    "Hypothesis testing is a statistical method that is used to test a claim or hypothesis about a population parameter using sample data. The aim of hypothesis testing is to determine whether the observed difference between a sample statistic and a population parameter is significant or due to chance.\n",
    "\n",
    "The null hypothesis is a statement that assumes there is no significant difference between a sample statistic and a population parameter, whereas the alternative hypothesis is a statement that contradicts the null hypothesis and suggests that there is a significant difference between the sample statistic and the population parameter.\n",
    "\n",
    "Hypothesis testing is important because it provides an objective and systematic approach to testing a claim or hypothesis about a population parameter using sample data. It is widely used in different fields, such as science, engineering, medicine, social sciences, and business, to make informed decisions, test theories, and gain insights from data.\n",
    "\n",
    "The significance of hypothesis testing lies in its ability to provide a logical and unbiased approach to testing a claim or hypothesis. It allows us to evaluate the evidence in favor of a particular hypothesis and make decisions based on the results of the test. Without hypothesis testing, we would be limited to making conjectures based solely on intuition or personal beliefs, which can lead to inaccurate or biased conclusions.\n",
    "\n",
    "By using hypothesis testing, we can establish the validity of research findings and draw generalizations about a population based on sample data. It also helps to identify potential errors or biases in the research process, which can lead to improvements in future research studies. Overall, hypothesis testing is a powerful tool that enables us to draw meaningful conclusions from sample data and make informed decisions based on statistical evidence"
   ]
  },
  {
   "cell_type": "markdown",
   "id": "5679558f",
   "metadata": {},
   "source": [
    "#### Q4. Create a hypothesis that states whether the average weight of male college students is greater than the average weight of female college students."
   ]
  },
  {
   "cell_type": "markdown",
   "id": "9ae61b49",
   "metadata": {},
   "source": [
    "h0 = Average weight of male college student is not greater than average weight of female college student\n",
    "\n",
    "h1 = Average weight of male college student is greater than average weight of female college student\n"
   ]
  },
  {
   "cell_type": "markdown",
   "id": "bf2ce967",
   "metadata": {},
   "source": [
    "#### Q5. Write a Python script to conduct a hypothesis test on the difference between two population means, given a sample from each population."
   ]
  },
  {
   "cell_type": "code",
   "execution_count": 10,
   "id": "823fd193",
   "metadata": {},
   "outputs": [
    {
     "name": "stdout",
     "output_type": "stream",
     "text": [
      "t_test -0.3591895918388789\n",
      "p-value 0.7198361115802774\n",
      "We reject the null hypothesis and conclude that the population means are significantly different.\n"
     ]
    }
   ],
   "source": [
    "from scipy.stats import ttest_ind\n",
    "import numpy as np\n",
    "\n",
    "# generating two random sample\n",
    "sample1 = np.random.normal(10,2,size = 100) # where 10 is mean and 2 is std\n",
    "sample2 = np.random.normal(10,2,size = 100) # where 12 is mean and 2 is std\n",
    "\n",
    "t_test,p_value = ttest_ind(sample1,sample2,equal_var = False)\n",
    "\n",
    "sig_value = 0.05 # Significent value\n",
    "\n",
    "print(\"t_test\",t_test)\n",
    "print(\"p-value\",p_value)\n",
    "if sig_value < p_value : \n",
    "    print(\"We reject the null hypothesis and conclude that the population means are significantly different.\")\n",
    "else:\n",
    "    print(\"We fail to reject the null hypothesis and conclude that the population means are not significantly different.\")\n"
   ]
  },
  {
   "cell_type": "markdown",
   "id": "f41291ae",
   "metadata": {},
   "source": [
    "#### Q6: What is a null and alternative hypothesis? Give some examples."
   ]
  },
  {
   "cell_type": "markdown",
   "id": "d023358f",
   "metadata": {},
   "source": [
    "In hypothesis testing, the null hypothesis represents the default position that there is no significant difference between the observed sample data and the population parameter. On the other hand, the alternative hypothesis is a statement that contradicts the null hypothesis and suggests that there is a significant difference between the observed sample data and the population parameter."
   ]
  },
  {
   "cell_type": "markdown",
   "id": "f5e02530",
   "metadata": {},
   "source": [
    "Null Hypothesis (H0): The mean height of male and female college students is the same.\n",
    " \n",
    "Alternative Hypothesis (Ha): The mean height of male and female college students is different. This hypothesis test tries to find out if there is a significant difference in the mean height between male and female college students.\n",
    "\n",
    "Null Hypothesis (H0): The new medication has no effect on reducing blood pressure.\n",
    "\n",
    "Alternative Hypothesis (Ha): The new medication significantly reduces blood pressure. This hypothesis test is used to find out if the new medication significantly reduces blood pressure."
   ]
  },
  {
   "cell_type": "markdown",
   "id": "13477efd",
   "metadata": {},
   "source": [
    "#### Q7: Write down the steps involved in hypothesis testing."
   ]
  },
  {
   "cell_type": "markdown",
   "id": "1cc31a94",
   "metadata": {},
   "source": [
    "State the null and alternative hypotheses: Start by stating the null hypothesis and alternative hypothesis that are relevant to the research question.\n",
    "\n",
    "Set the level of significance (alpha): Choose a level of significance (alpha) that will be used to determine the rejection region.\n",
    "\n",
    "Determine the appropriate test statistic: Determine the appropriate test statistic that will be used to test the null hypothesis.\n",
    "\n",
    "Calculate the p-value: Calculate the probability value (p-value) associated with the test statistic.\n",
    "\n",
    "Compare the p-value with the level of significance: Compare the p-value with the level of significance. If the p-value is less than the level of significance, reject the null hypothesis; otherwise, fail to reject the null hypothesis.\n",
    "\n",
    "Interpret the results: Interpret the results of the hypothesis test and draw conclusions based on the findings.\n",
    "\n",
    "Conduct a power analysis: If the null hypothesis is rejected, conduct a power analysis to determine the statistical power of the test.\n",
    "\n",
    "Report the results: Finally, report the results of the hypothesis test, including the statistical values, conclusions, and any limitations or assumptions made during the test."
   ]
  },
  {
   "cell_type": "markdown",
   "id": "944f6205",
   "metadata": {},
   "source": [
    "#### Q8. Define p-value and explain its significance in hypothesis testing."
   ]
  },
  {
   "cell_type": "markdown",
   "id": "a5f1642d",
   "metadata": {},
   "source": [
    "P-value is a term used in statistics and hypothesis testing. It represents the probability of getting a result as extreme as the one we observed, assuming that the null hypothesis is true. Basically, it tells us how likely it is that we would get our results by chance alone.\n",
    "\n",
    "The significance of p-value is that it helps us decide whether to reject or fail to reject the null hypothesis. If the p-value is less than our significance level (usually 0.05), we reject the null hypothesis and accept the alternative hypothesis, indicating that our results are statistically significant. On the other hand, if the p-value is greater than our significance level, we fail to reject the null hypothesis and conclude that there is not enough evidence to support the alternative hypothesis.\n",
    "\n",
    "It's important to note that p-value doesn't tell us about the practical significance or the size of the effect we're observing, it only tells us if the effect is statistically significant or not. So, we need to interpret p-values in conjunction with other measures of effect size to make informed decisions."
   ]
  },
  {
   "cell_type": "markdown",
   "id": "429d5143",
   "metadata": {},
   "source": [
    "#### Q9. Generate a Student's t-distribution plot using Python's matplotlib library, with the degrees of freedom parameter set to 10."
   ]
  },
  {
   "cell_type": "code",
   "execution_count": 11,
   "id": "d495ca43",
   "metadata": {},
   "outputs": [
    {
     "data": {
      "image/png": "[encoded data removed]",
      "text/plain": [
       "<Figure size 640x480 with 1 Axes>"
      ]
     },
     "metadata": {},
     "output_type": "display_data"
    }
   ],
   "source": [
    "import numpy as np\n",
    "import matplotlib.pyplot as plt\n",
    "\n",
    "# Set the degrees of freedom\n",
    "df = 10\n",
    "\n",
    "# Generate the x-values for the t-distribution plot\n",
    "x = np.linspace(-5, 5, num=500)\n",
    "\n",
    "# Calculate the y-values for the t-distribution plot\n",
    "y = (1/(np.sqrt(df)*np.pi))*(1+((x**2)/df))**(-(df+1)/2)\n",
    "\n",
    "# Create the plot\n",
    "fig, ax = plt.subplots()\n",
    "ax.plot(x, y)\n",
    "ax.set_title(\"Student's t-distribution with 10 degrees of freedom\")\n",
    "ax.set_xlabel('x')\n",
    "ax.set_ylabel('P(x)')\n",
    "plt.show()"
   ]
  },
  {
   "cell_type": "markdown",
   "id": "29eef420",
   "metadata": {},
   "source": [
    "#### Q10. Write a Python program to calculate the two-sample t-test for independent samples, given two random samples of equal size and a null hypothesis that the population means are equal."
   ]
  },
  {
   "cell_type": "code",
   "execution_count": 13,
   "id": "f01b7cf9",
   "metadata": {},
   "outputs": [
    {
     "name": "stdout",
     "output_type": "stream",
     "text": [
      "Sample 1 mean:  3.0\n",
      "Sample 2 mean:  8.0\n",
      "Standard error:  1.0\n",
      "T-statistic:  -5.0\n",
      "Degrees of freedom:  8\n",
      "Critical value:  2.3060041350333704\n",
      "P-value:  0.0010528257933664076\n",
      "Reject null hypothesis. The population means are different.\n"
     ]
    }
   ],
   "source": [
    "import numpy as np\n",
    "from scipy.stats import t\n",
    "\n",
    "# Set up the two samples\n",
    "sample1 = np.array([1, 2, 3, 4, 5])\n",
    "sample2 = np.array([6, 7, 8, 9, 10])\n",
    "\n",
    "# Calculate the means of the two samples\n",
    "mean1 = np.mean(sample1)\n",
    "mean2 = np.mean(sample2)\n",
    "\n",
    "# Calculate the sample standard deviations of the two samples\n",
    "std1 = np.std(sample1, ddof=1)\n",
    "std2 = np.std(sample2, ddof=1)\n",
    "\n",
    "# Calculate the standard error of the difference between the means\n",
    "n1 = len(sample1)\n",
    "n2 = len(sample2)\n",
    "se = np.sqrt(((std1**2)/n1) + ((std2**2)/n2))\n",
    "\n",
    "# Calculate the t-statistic\n",
    "t_stat = (mean1 - mean2) / se\n",
    "\n",
    "# Set the significance level\n",
    "alpha = 0.05\n",
    "\n",
    "# Calculate the degrees of freedom\n",
    "df = n1 + n2 - 2\n",
    "\n",
    "# Calculate the critical value\n",
    "cv = t.ppf(1 - (alpha/2), df)\n",
    "\n",
    "# Calculate the p-value\n",
    "p_val = (1 - t.cdf(abs(t_stat), df)) * 2\n",
    "\n",
    "# Print the results\n",
    "print(\"Sample 1 mean: \", mean1)\n",
    "print(\"Sample 2 mean: \", mean2)\n",
    "print(\"Standard error: \", se)\n",
    "print(\"T-statistic: \", t_stat)\n",
    "print(\"Degrees of freedom: \", df)\n",
    "print(\"Critical value: \", cv)\n",
    "print(\"P-value: \", p_val)\n",
    "\n",
    "# Determine if the null hypothesis is rejected\n",
    "if abs(t_stat) > cv or p_val < alpha:\n",
    "    print(\"Reject null hypothesis. The population means are different.\")\n",
    "else:\n",
    "    print(\"Fail to reject null hypothesis. The population means are the same.\")\n"
   ]
  },
  {
   "cell_type": "markdown",
   "id": "16094951",
   "metadata": {},
   "source": [
    "#### Q11: What is Student’s t distribution? When to use the t-Distribution."
   ]
  },
  {
   "cell_type": "markdown",
   "id": "f27dea12",
   "metadata": {},
   "source": [
    "Student’s t distribution is a probability distribution used in statistical analysis to make inferences about the population mean when the sample size is small (typically less than 30) and the population standard deviation is unknown. It has a similar shape to the standard normal distribution but has heavier tails and a flatter peak. The shape of the t-distribution depends on the sample size and the degrees of freedom (df), which is the number of observations minus one.\n",
    "\n",
    "The t-distribution is commonly used in hypothesis testing when we want to test a claim about a population mean based on a small sample. It is used when the population is approximately normal or the sample size is large enough to use the central limit theorem, and we want to make inferences about the population mean based on a sample mean."
   ]
  },
  {
   "cell_type": "markdown",
   "id": "313e3416",
   "metadata": {},
   "source": [
    "#### Q12: What is t-statistic? State the formula for t-statistic."
   ]
  },
  {
   "cell_type": "markdown",
   "id": "1168c106",
   "metadata": {},
   "source": [
    "The t-statistic is a measure of the difference between the sample mean and the hypothesized population mean, expressed in standard error units. It is used in hypothesis testing to determine whether the difference between the sample mean and the population mean is statistically significant.\n",
    "\n",
    "\n",
    "The formula for the t-statistic is:\n",
    "\n",
    "   t = (x̄ - μ) / (s / sqrt(n))\n",
    "\n",
    "  Where:\n",
    "\n",
    "  x̄ is the sample mean\n",
    "  \n",
    "  μ is the hypothesized population mean\n",
    "  \n",
    "  s is the sample standard deviation\n",
    "  \n",
    "  n is the sample size"
   ]
  },
  {
   "cell_type": "markdown",
   "id": "f3114ff7",
   "metadata": {},
   "source": [
    "#### Q13. A coffee shop owner wants to estimate the average daily revenue for their shop. They take a random sample of 50 days and find the sample mean revenue to be  500 with a standard deviation of 50.Estimate the population mean revenue with a 95% confidence interval."
   ]
  },
  {
   "cell_type": "code",
   "execution_count": 19,
   "id": "5178240b",
   "metadata": {},
   "outputs": [
    {
     "name": "stdout",
     "output_type": "stream",
     "text": [
      "At 95% confidence level confidence interval is (485.79015724388137, 514.2098427561186)\n"
     ]
    }
   ],
   "source": [
    "from scipy.stats import t\n",
    "import math\n",
    "\n",
    "s_mean = 500\n",
    "s_std = 50\n",
    "confidence_interval = 0.95\n",
    "n = 50\n",
    "degree_of_freedom = n - 1\n",
    "t_val = t.ppf(0.975,degree_of_freedom)\n",
    "\n",
    "lower_bound = s_mean - t_val * (s_std / math.sqrt(n))\n",
    "upper_bound = s_mean + t_val * (s_std / math.sqrt(n))\n",
    "\n",
    "print(f'At 95% confidence level confidence interval is {lower_bound,upper_bound}')\n"
   ]
  },
  {
   "cell_type": "markdown",
   "id": "93a2c536",
   "metadata": {},
   "source": [
    "#### Q14. A researcher hypothesizes that a new drug will decrease blood pressure by 10 mmHg. They conduct a clinical trial with 100 patients and find that the sample mean decrease in blood pressure is 8 mmHg with a standard deviation of 3 mmHg. Test the hypothesis with a significance level of 0.05."
   ]
  },
  {
   "cell_type": "code",
   "execution_count": 23,
   "id": "f7a72302",
   "metadata": {},
   "outputs": [
    {
     "name": "stdout",
     "output_type": "stream",
     "text": [
      "-6.666666666666667\n",
      "1.5012289009970215e-09\n",
      "Reject null hypothesis. The drug has a significant effect on decreasing blood pressure.\n"
     ]
    }
   ],
   "source": [
    "import math \n",
    "n = 100\n",
    "s_mean = 8\n",
    "s_std = 3\n",
    "p_mean = 10\n",
    "\n",
    "t_stats = (s_mean - p_mean) / (s_std / math.sqrt(n))\n",
    "print(t_stats)\n",
    "p_val = 2 * t.sf(np.abs(t_stats), n-1)\n",
    "print(p_val)\n",
    "\n",
    "alpha = 0.05\n",
    "\n",
    "if p_val < alpha:\n",
    "    print(\"Reject null hypothesis. The drug has a significant effect on decreasing blood pressure.\")\n",
    "else:\n",
    "    print(\"Fail to reject null hypothesis. There is not enough evidence to conclude that the drug has a significant effect on decreasing blood pressure.\")"
   ]
  },
  {
   "cell_type": "markdown",
   "id": "11e1dd45",
   "metadata": {},
   "source": [
    "#### Q15. An electronics company produces a certain type of product with a mean weight of 5 pounds and a standard deviation of 0.5 pounds. A random sample of 25 products is taken, and the sample mean weight is found to be 4.8 pounds. Test the hypothesis that the true mean weight of the products is less than 5 pounds with a significance level of 0.01."
   ]
  },
  {
   "cell_type": "markdown",
   "id": "b057047f",
   "metadata": {},
   "source": [
    "To test the hypothesis that the true mean weight of the products is less than 5 pounds with a significance level of 0.01, we can use a one-sample t-test. The null hypothesis is that the mean weight is equal to 5 pounds, while the alternative hypothesis is that the mean weight is less than 5 pounds.\n",
    "\n",
    "The formula for the t-statistic in a one-sample t-test is:\n",
    "\n",
    "t = (x̄ - μ) / (s / √n)\n",
    "\n",
    "Where: x̄ is the sample mean weight (4.8 pounds) μ is the hypothesized value of the population mean weight (5 pounds) s is the sample standard deviation (0.5 pounds) n is the sample size (25)\n",
    "\n",
    "Plugging in the values, we get:\n",
    "\n",
    "t = (4.8 - 5) / (0.5 / √25) t = -2\n",
    "\n",
    "The t-value for a one-tailed test with 24 degrees of freedom and a significance level of 0.01 is approximately -2.492 (from a t-table or calculator). Since our calculated t-value (-2) is greater than the critical value (-2.492), we fail to reject the null hypothesis and conclude that there is insufficient evidence to suggest that the true mean weight of the products is less than 5 pounds."
   ]
  },
  {
   "cell_type": "markdown",
   "id": "5d04ae14",
   "metadata": {},
   "source": [
    "#### Q16. Two groups of students are given different study materials to prepare for a test. The first group (n1 = 30) has a mean score of 80 with a standard deviation of 10, and the second group (n2 = 40) has a mean score of 75 with a standard deviation of 8. Test the hypothesis that the population means for the two groups are equal with a significance level of 0.01."
   ]
  },
  {
   "cell_type": "code",
   "execution_count": 24,
   "id": "2f735bd3",
   "metadata": {},
   "outputs": [
    {
     "name": "stdout",
     "output_type": "stream",
     "text": [
      "t-statistic: 2.2511258444537408\n",
      "p-value: 0.02845213338800089\n",
      "critical t-value: -2.3824458008642417\n",
      "Reject the null hypothesis that the population means for the two groups are equal.\n"
     ]
    }
   ],
   "source": [
    "from scipy import stats\n",
    "import numpy as np\n",
    "\n",
    "# Define the sample sizes, sample means, and sample standard deviations for the two groups\n",
    "n1 = 30\n",
    "xbar1 = 80\n",
    "s1 = 10\n",
    "n2 = 40\n",
    "xbar2 = 75\n",
    "s2 = 8\n",
    "\n",
    "# Calculate the t-statistic and p-value assuming unequal variances\n",
    "t_statistic, p_value = stats.ttest_ind_from_stats(xbar1, s1, n1, xbar2, s2, n2, equal_var=False)\n",
    "\n",
    "# Calculate the critical t-value at alpha = 0.01 and degrees of freedom = n1 + n2 - 2\n",
    "alpha = 0.01\n",
    "df = n1 + n2 - 2\n",
    "t_critical = stats.t.ppf(alpha, df)\n",
    "\n",
    "# Print the results\n",
    "print(\"t-statistic:\", t_statistic)\n",
    "print(\"p-value:\", p_value)\n",
    "print(\"critical t-value:\", t_critical)\n",
    "\n",
    "# Compare the t-statistic with the critical t-value\n",
    "if abs(t_statistic) > t_critical:\n",
    "    print(\"Reject the null hypothesis that the population means for the two groups are equal.\")\n",
    "else:\n",
    "    print(\"Fail to reject the null hypothesis that the population means for the two groups are equal.\")"
   ]
  },
  {
   "cell_type": "markdown",
   "id": "19fadd27",
   "metadata": {},
   "source": [
    "#### Q17. A marketing company wants to estimate the average number of ads watched by viewers during a TV program. They take a random sample of 50 viewers and find that the sample mean is 4 with a standard deviation of 1.5. Estimate the population mean with a 99% confidence interval."
   ]
  },
  {
   "cell_type": "code",
   "execution_count": 26,
   "id": "166085b2",
   "metadata": {},
   "outputs": [
    {
     "name": "stdout",
     "output_type": "stream",
     "text": [
      "Sample mean: 4\n",
      "Standard deviation: 1.5\n",
      "Degrees of freedom: 49\n",
      "T-value: 2.67995197363155\n",
      "Standard error: 0.21213203435596426\n",
      "99% Confidence interval: [3.4314963358572577, 4.568503664142742]\n"
     ]
    }
   ],
   "source": [
    "from scipy import stats\n",
    "import numpy as np\n",
    "\n",
    "# Define the sample size, sample mean, and sample standard deviation\n",
    "n = 50\n",
    "xbar = 4\n",
    "s = 1.5\n",
    "\n",
    "# Calculate the t-value at alpha = 0.01/2 and degrees of freedom = n - 1\n",
    "alpha = 0.01\n",
    "df = n - 1\n",
    "t = stats.t.ppf(1 - alpha/2, df)\n",
    "\n",
    "# Calculate the standard error\n",
    "se = s / np.sqrt(n)\n",
    "\n",
    "# Calculate the confidence interval\n",
    "lower_ci = xbar - t * se\n",
    "upper_ci = xbar + t * se\n",
    "\n",
    "# Print the results\n",
    "print(\"Sample mean:\", xbar)\n",
    "print(\"Standard deviation:\", s)\n",
    "print(\"Degrees of freedom:\", df)\n",
    "print(\"T-value:\", t)\n",
    "print(\"Standard error:\", se)\n",
    "print(\"99% Confidence interval: [{}, {}]\".format(lower_ci, upper_ci))"
   ]
  },
  {
   "cell_type": "code",
   "execution_count": null,
   "id": "1926f9b9",
   "metadata": {},
   "outputs": [],
   "source": []
  }
 ],
 "metadata": {
  "kernelspec": {
   "display_name": "Python 3 (ipykernel)",
   "language": "python",
   "name": "python3"
  },
  "language_info": {
   "codemirror_mode": {
    "name": "ipython",
    "version": 3
   },
   "file_extension": ".py",
   "mimetype": "text/x-python",
   "name": "python",
   "nbconvert_exporter": "python",
   "pygments_lexer": "ipython3",
   "version": "3.9.13"
  }
 },
 "nbformat": 4,
 "nbformat_minor": 5
}
