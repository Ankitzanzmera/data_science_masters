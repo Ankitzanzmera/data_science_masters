{
 "cells": [
  {
   "cell_type": "markdown",
   "id": "8b11c6ea",
   "metadata": {},
   "source": [
    "### Q1"
   ]
  },
  {
   "cell_type": "code",
   "execution_count": 1,
   "id": "4a6b34b0",
   "metadata": {},
   "outputs": [
    {
     "name": "stdout",
     "output_type": "stream",
     "text": [
      "Enter the marks of student= 56\n",
      "Student pass with D Grade \n"
     ]
    }
   ],
   "source": [
    "marks=int(input(\"Enter the marks of student= \"))\n",
    "if marks>90:\n",
    "    print(\"Student pass with A Grade \")\n",
    "elif marks >80 and marks<=90:\n",
    "    print(\"Student pass with B Grade \")\n",
    "elif marks>=60 and marks<=80:\n",
    "    print(\"Student pass with C Grade \")\n",
    "else:\n",
    "    print(\"Student pass with D Grade \")"
   ]
  },
  {
   "cell_type": "markdown",
   "id": "532540c1",
   "metadata": {},
   "source": [
    "### Q2"
   ]
  },
  {
   "cell_type": "code",
   "execution_count": 2,
   "id": "e183dc9a",
   "metadata": {},
   "outputs": [
    {
     "name": "stdout",
     "output_type": "stream",
     "text": [
      "Enter the cost of Bike = 56000\n",
      "Road tax will be = 5600.0\n"
     ]
    }
   ],
   "source": [
    "cost_prise=int(input(\"Enter the cost of Bike = \"))\n",
    "if cost_prise>100000:\n",
    "    tax= cost_prise*(15/100)\n",
    "    print(f\"Road tax will be = {tax}\")\n",
    "elif cost_prise>50000 and cost_prise<=100000:\n",
    "    tax= cost_prise*(10/100)\n",
    "    print(f\"Road tax will be = {tax}\")\n",
    "elif cost_prise<=50000:\n",
    "    tax= cost_prise*(5/100)\n",
    "    print(f\"Road tax will be = {tax}\") "
   ]
  },
  {
   "cell_type": "markdown",
   "id": "6e437152",
   "metadata": {},
   "source": [
    "### Q3"
   ]
  },
  {
   "cell_type": "code",
   "execution_count": 3,
   "id": "ec43d179",
   "metadata": {},
   "outputs": [
    {
     "name": "stdout",
     "output_type": "stream",
     "text": [
      "Choose the City from following \n",
      "\tDelhi \n",
      "\tAgra \n",
      "\tJaipur\n",
      "Enter the City = delhi\n",
      "Monuments of that city is Red Fort\n"
     ]
    }
   ],
   "source": [
    "while True:   \n",
    "    print(\"Choose the City from following \\n\\tDelhi \\n\\tAgra \\n\\tJaipur\")\n",
    "    city_name=input(\"Enter the City = \")\n",
    "\n",
    "    if city_name==\"Delhi\" or city_name==\"delhi\":\n",
    "        print(\"Monuments of that city is Red Fort\")\n",
    "        break\n",
    "    elif city_name==\"Agra\" or city_name==\"agra\":\n",
    "        print(\"Monuments of that city is Taj Mahal\")\n",
    "        break\n",
    "    elif city_name==\"Jaipur\" or city_name==\"jaipur\":\n",
    "        print(\"Monuments of that city is Jal Mahal\")\n",
    "        break\n",
    "    else:\n",
    "        print(\" \\n please enter correct city\",)"
   ]
  },
  {
   "cell_type": "markdown",
   "id": "e41aeb87",
   "metadata": {},
   "source": [
    "### Q4 Check how many times a given number can be divided by 3 before it is less than or equal to 10."
   ]
  },
  {
   "cell_type": "code",
   "execution_count": 4,
   "id": "4311f858",
   "metadata": {},
   "outputs": [
    {
     "name": "stdout",
     "output_type": "stream",
     "text": [
      "Enter a number=555\n",
      "Total iteration required 4\n"
     ]
    }
   ],
   "source": [
    "Given_num=int(input(\"Enter a number=\"))\n",
    "count=0\n",
    "while Given_num>10:\n",
    "    Given_num=Given_num/3\n",
    "    count+=1\n",
    "print('Total iteration required', count)"
   ]
  },
  {
   "cell_type": "markdown",
   "id": "afc6f788",
   "metadata": {},
   "source": [
    "### Q5 Why and when to use while loop in python give a detailed description with example. "
   ]
  },
  {
   "cell_type": "markdown",
   "id": "6caa7b62",
   "metadata": {},
   "source": [
    "In Python, The while loop statement repeatedly executes a code block while a particular condition is true. When the condition becomes false, execution comes out of the loop immediately, and the first statement after the while loop is executed."
   ]
  },
  {
   "cell_type": "code",
   "execution_count": 5,
   "id": "b6cc0273",
   "metadata": {},
   "outputs": [
    {
     "name": "stdout",
     "output_type": "stream",
     "text": [
      "1\n",
      "2\n",
      "3\n",
      "4\n"
     ]
    }
   ],
   "source": [
    "# example\n",
    "count=1\n",
    "while count<5:\n",
    "    print(count)\n",
    "    count+=1"
   ]
  },
  {
   "cell_type": "markdown",
   "id": "b832df3c",
   "metadata": {},
   "source": [
    "### Q6 Use nested while loop to print 3 diffrent pattern"
   ]
  },
  {
   "cell_type": "code",
   "execution_count": 7,
   "id": "544e3e62",
   "metadata": {},
   "outputs": [
    {
     "name": "stdout",
     "output_type": "stream",
     "text": [
      "*****\n",
      "****\n",
      "***\n",
      "**\n",
      "*\n"
     ]
    }
   ],
   "source": [
    "i = 5\n",
    "while i > 0:\n",
    "    j = i\n",
    "    while j > 0:\n",
    "        print('*',end='')\n",
    "        j = j -1\n",
    "    print('')\n",
    "    i = i-1\n",
    "    "
   ]
  },
  {
   "cell_type": "code",
   "execution_count": 6,
   "id": "0e019825",
   "metadata": {},
   "outputs": [
    {
     "name": "stdout",
     "output_type": "stream",
     "text": [
      "        * \n",
      "       * * \n",
      "      * * * \n",
      "     * * * * \n",
      "    * * * * * \n",
      "   * * * * * * \n",
      "  * * * * * * * \n"
     ]
    }
   ],
   "source": [
    "i=1\n",
    "while i<8:\n",
    "    j=0\n",
    "    print((8-i)*' ', end=' ')\n",
    "    while j<i:\n",
    "        print('*', end=' ')\n",
    "        j+=1\n",
    "    print('')\n",
    "    i+=1"
   ]
  },
  {
   "cell_type": "code",
   "execution_count": 8,
   "id": "58607d0e",
   "metadata": {},
   "outputs": [
    {
     "name": "stdout",
     "output_type": "stream",
     "text": [
      "* \n",
      "* * \n",
      "* * * \n",
      "* * * * \n",
      "* * * * * \n",
      "* * * * * * \n",
      "* * * * * * * \n"
     ]
    }
   ],
   "source": [
    "i=1\n",
    "while i<8:\n",
    "    j=0\n",
    "    while j<i:\n",
    "        print('*', end=' ')\n",
    "        j+=1\n",
    "    print('')\n",
    "    i+=1"
   ]
  },
  {
   "cell_type": "markdown",
   "id": "db3a033b",
   "metadata": {},
   "source": [
    "### Q7 Reverse a while loop to display numbers from 10 to 1."
   ]
  },
  {
   "cell_type": "code",
   "execution_count": 11,
   "id": "c45ac333",
   "metadata": {},
   "outputs": [
    {
     "name": "stdout",
     "output_type": "stream",
     "text": [
      "10 9 8 7 6 5 4 3 2 1 "
     ]
    }
   ],
   "source": [
    "i=10\n",
    "while i>=1:\n",
    "    print(i, end=' ')\n",
    "    i-=1"
   ]
  },
  {
   "cell_type": "markdown",
   "id": "4118537b",
   "metadata": {},
   "source": [
    "### Q8 Reverse a while loop to display numbers from 10 to 1. "
   ]
  },
  {
   "cell_type": "code",
   "execution_count": 10,
   "id": "432f67fb",
   "metadata": {},
   "outputs": [
    {
     "name": "stdout",
     "output_type": "stream",
     "text": [
      "10 9 8 7 6 5 4 3 2 1 "
     ]
    }
   ],
   "source": [
    "i=10\n",
    "while i>=1:\n",
    "    print(i, end=' ')\n",
    "    i-=1"
   ]
  },
  {
   "cell_type": "code",
   "execution_count": null,
   "id": "550ce89a",
   "metadata": {},
   "outputs": [],
   "source": []
  }
 ],
 "metadata": {
  "kernelspec": {
   "display_name": "Python 3 (ipykernel)",
   "language": "python",
   "name": "python3"
  },
  "language_info": {
   "codemirror_mode": {
    "name": "ipython",
    "version": 3
   },
   "file_extension": ".py",
   "mimetype": "text/x-python",
   "name": "python",
   "nbconvert_exporter": "python",
   "pygments_lexer": "ipython3",
   "version": "3.9.13"
  }
 },
 "nbformat": 4,
 "nbformat_minor": 5
}
