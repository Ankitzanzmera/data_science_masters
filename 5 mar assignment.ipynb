{
 "cells": [
  {
   "cell_type": "markdown",
   "id": "5236f191",
   "metadata": {},
   "source": [
    "#### Q1. How can you create a Bokeh plot using Python code?"
   ]
  },
  {
   "cell_type": "markdown",
   "id": "95ff8aed",
   "metadata": {},
   "source": [
    "1.Installing Bokeh in Python using pip\n",
    "\n",
    "2.Importing Bokeh in Python\n",
    "\n",
    "3.Import sample data for bokeh\n",
    "\n",
    "4.Check Bokeh version in Python"
   ]
  },
  {
   "cell_type": "markdown",
   "id": "3d10c24d",
   "metadata": {},
   "source": [
    "#### Q2. What are glyphs in Bokeh, and how can you add them to a Bokeh plot? Explain with an example."
   ]
  },
  {
   "cell_type": "markdown",
   "id": "19548fbe",
   "metadata": {},
   "source": [
    "A glyph is a vectorized graphical shape or marker that is used to represent your data. A Few Categories of Glyphs: Marker: Shapes like circles, diamonds, squares and triangles. Effective for scatter and bubble charts. Line: Single, step and multi-line shapes.You can display images on Bokeh plots using the image() , image_rgba() , and image_url() glyph methods. You can use hovering tooltips with image glyphs to let the user see the values of each pixel."
   ]
  },
  {
   "cell_type": "code",
   "execution_count": null,
   "id": "9374a067",
   "metadata": {},
   "outputs": [],
   "source": [
    "from bokeh.plotting import figure, output_file, show\n",
    "output_file(\"line.html\")\n",
    "p = figure(width=400, height=400)\n",
    "p.circle([1, 2, 3, 4, 5], [6, 7, 2, 4, 5], size=20, color=\"navy\", alpha=0.5)\n",
    "show(p)"
   ]
  },
  {
   "cell_type": "markdown",
   "id": "daeab098",
   "metadata": {},
   "source": [
    "#### Q3. How can you customize the appearance of a Bokeh plot, including the axes, title, and legend?"
   ]
  },
  {
   "cell_type": "markdown",
   "id": "2c4daeee",
   "metadata": {},
   "source": [
    "1.setting labels for your axes \n",
    "2.styling the numbers displayed with your axes \n",
    "3.defining colors and other layout properties for the axes themselves\n",
    "\n",
    "we can customize the plot by adding title to the plot and labelling the xaxis and yaxis."
   ]
  },
  {
   "cell_type": "markdown",
   "id": "e6732f0e",
   "metadata": {},
   "source": [
    "#### Q4. What is a Bokeh server, and how can you use it to create interactive plots that can be updated in real time?"
   ]
  },
  {
   "cell_type": "markdown",
   "id": "bfef47c0",
   "metadata": {},
   "source": [
    "Bokeh server makes it easy to create interactive web applications that connect front-end UI events to running Python code. Bokeh creates high-level Python models, such as plots, ranges, axes, and glyphs, and then converts these objects to JSON to pass them to its client library, BokehJS."
   ]
  },
  {
   "cell_type": "markdown",
   "id": "797a0c0a",
   "metadata": {},
   "source": [
    "#### Q5. How can you embed a Bokeh plot into a web page or dashboard using Flask or Django?"
   ]
  },
  {
   "cell_type": "markdown",
   "id": "974a3262",
   "metadata": {},
   "source": [
    "You can save the returned HTML text to a file using standard Python file operations. You can also provide your own template for the HTML output and pass in custom, or additional, template variables. For more details, see the file_html() documentation.\n",
    "\n",
    "Bokeh can also supply JSON data that BokehJS can use to render a standalone Bokeh document in a specified . The json_item() function accepts a Bokeh model (for example, a plot) and an optional ID of the target.\n",
    "\n",
    "You can also have Bokeh return individual components of a standalone document to embed them one by one with the components() function. This function returns a that contains the data for your plot and provides a target to display the plot view. You can use these elements in HTML documents however you like.\n",
    "\n",
    "You can also embed standalone documents with the autoload_static() function. This function provides a tag that replaces itself with a Bokeh plot. This script also checks for BokehJS and loads it if necessary. This function lets you embed a plot with nothing but this tag."
   ]
  },
  {
   "cell_type": "code",
   "execution_count": null,
   "id": "4111c378",
   "metadata": {},
   "outputs": [],
   "source": []
  }
 ],
 "metadata": {
  "kernelspec": {
   "display_name": "Python 3 (ipykernel)",
   "language": "python",
   "name": "python3"
  },
  "language_info": {
   "codemirror_mode": {
    "name": "ipython",
    "version": 3
   },
   "file_extension": ".py",
   "mimetype": "text/x-python",
   "name": "python",
   "nbconvert_exporter": "python",
   "pygments_lexer": "ipython3",
   "version": "3.9.13"
  }
 },
 "nbformat": 4,
 "nbformat_minor": 5
}
